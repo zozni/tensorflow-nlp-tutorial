{
  "nbformat": 4,
  "nbformat_minor": 0,
  "metadata": {
    "colab": {
      "name": "Char RNN.ipynb",
      "provenance": [],
      "collapsed_sections": [],
      "machine_shape": "hm"
    },
    "kernelspec": {
      "name": "python3",
      "display_name": "Python 3"
    },
    "language_info": {
      "name": "python"
    },
    "accelerator": "GPU"
  },
  "cells": [
    {
      "cell_type": "markdown",
      "metadata": {
        "id": "UbyOiS3y8Lpb"
      },
      "source": [
        "# 1. 글자 단위 RNN 언어 모델(Char RNNLM)"
      ]
    },
    {
      "cell_type": "code",
      "metadata": {
        "id": "cwFLoSSx5KlO"
      },
      "source": [
        "import numpy as np\n",
        "import urllib.request\n",
        "from tensorflow.keras.utils import to_categorical"
      ],
      "execution_count": null,
      "outputs": []
    },
    {
      "cell_type": "code",
      "metadata": {
        "id": "6-PUxpHa5NpX"
      },
      "source": [
        "urllib.request.urlretrieve(\"http://www.gutenberg.org/files/11/11-0.txt\", filename=\"11-0.txt\")\n",
        "f = open('11-0.txt', 'rb')\n",
        "sentences = []\n",
        "for sentence in f: # 데이터를 한 줄씩 읽는다.\n",
        "    sentence = sentence.strip() # strip()을 통해 \\r, \\n을 제거한다.\n",
        "    sentence = sentence.lower() # 소문자화.\n",
        "    sentence = sentence.decode('ascii', 'ignore') # \\xe2\\x80\\x99 등과 같은 바이트 열 제거\n",
        "    if len(sentence) > 0:\n",
        "        sentences.append(sentence)\n",
        "f.close()"
      ],
      "execution_count": null,
      "outputs": []
    },
    {
      "cell_type": "code",
      "metadata": {
        "colab": {
          "base_uri": "https://localhost:8080/"
        },
        "id": "eKP7Zi2f5OcU",
        "outputId": "e2a670ca-9ce1-474e-9585-63f19aced020"
      },
      "source": [
        "sentences[:5]"
      ],
      "execution_count": null,
      "outputs": [
        {
          "output_type": "execute_result",
          "data": {
            "text/plain": [
              "['the project gutenberg ebook of alices adventures in wonderland, by lewis carroll',\n",
              " 'this ebook is for the use of anyone anywhere in the united states and',\n",
              " 'most other parts of the world at no cost and with almost no restrictions',\n",
              " 'whatsoever. you may copy it, give it away or re-use it under the terms',\n",
              " 'of the project gutenberg license included with this ebook or online at']"
            ]
          },
          "metadata": {},
          "execution_count": 3
        }
      ]
    },
    {
      "cell_type": "code",
      "metadata": {
        "colab": {
          "base_uri": "https://localhost:8080/"
        },
        "id": "jVccL5NL54i7",
        "outputId": "74d760eb-6b0c-41bf-b123-dbce346638a4"
      },
      "source": [
        "total_data = ' '.join(sentences)\n",
        "print('문자열의 길이 또는 총 글자의 개수: %d' % len(total_data))"
      ],
      "execution_count": null,
      "outputs": [
        {
          "output_type": "stream",
          "name": "stdout",
          "text": [
            "문자열의 길이 또는 총 글자의 개수: 159484\n"
          ]
        }
      ]
    },
    {
      "cell_type": "code",
      "metadata": {
        "colab": {
          "base_uri": "https://localhost:8080/"
        },
        "id": "WBoyjNpx6Zfi",
        "outputId": "43c1c51e-96e2-4ce5-b9b1-87aca44062c1"
      },
      "source": [
        "print(total_data[:200])"
      ],
      "execution_count": null,
      "outputs": [
        {
          "output_type": "stream",
          "name": "stdout",
          "text": [
            "the project gutenberg ebook of alices adventures in wonderland, by lewis carroll this ebook is for the use of anyone anywhere in the united states and most other parts of the world at no cost and with\n"
          ]
        }
      ]
    },
    {
      "cell_type": "code",
      "metadata": {
        "colab": {
          "base_uri": "https://localhost:8080/"
        },
        "id": "d-Ttlxpl6abZ",
        "outputId": "7cfeb1cd-c54d-44ff-ab42-d517cf7e46e5"
      },
      "source": [
        "char_vocab = sorted(list(set(total_data)))\n",
        "vocab_size = len(char_vocab)\n",
        "print ('글자 집합의 크기 : {}'.format(vocab_size))"
      ],
      "execution_count": null,
      "outputs": [
        {
          "output_type": "stream",
          "name": "stdout",
          "text": [
            "글자 집합의 크기 : 56\n"
          ]
        }
      ]
    },
    {
      "cell_type": "code",
      "metadata": {
        "colab": {
          "base_uri": "https://localhost:8080/"
        },
        "id": "ELPHZ-6W6dor",
        "outputId": "f2071f65-3dad-440e-ed09-63fcb0a21dac"
      },
      "source": [
        "char_to_index = dict((char, index) for index, char in enumerate(char_vocab)) # 글자에 고유한 정수 인덱스 부여\n",
        "print(char_to_index)"
      ],
      "execution_count": null,
      "outputs": [
        {
          "output_type": "stream",
          "name": "stdout",
          "text": [
            "{' ': 0, '!': 1, '\"': 2, '#': 3, '$': 4, '%': 5, \"'\": 6, '(': 7, ')': 8, '*': 9, ',': 10, '-': 11, '.': 12, '/': 13, '0': 14, '1': 15, '2': 16, '3': 17, '4': 18, '5': 19, '6': 20, '7': 21, '8': 22, '9': 23, ':': 24, ';': 25, '?': 26, '[': 27, ']': 28, '_': 29, 'a': 30, 'b': 31, 'c': 32, 'd': 33, 'e': 34, 'f': 35, 'g': 36, 'h': 37, 'i': 38, 'j': 39, 'k': 40, 'l': 41, 'm': 42, 'n': 43, 'o': 44, 'p': 45, 'q': 46, 'r': 47, 's': 48, 't': 49, 'u': 50, 'v': 51, 'w': 52, 'x': 53, 'y': 54, 'z': 55}\n"
          ]
        }
      ]
    },
    {
      "cell_type": "code",
      "metadata": {
        "id": "bsi1VHGO6hLz"
      },
      "source": [
        "index_to_char={}\n",
        "for key, value in char_to_index.items():\n",
        "    index_to_char[value] = key"
      ],
      "execution_count": null,
      "outputs": []
    },
    {
      "cell_type": "code",
      "metadata": {
        "colab": {
          "base_uri": "https://localhost:8080/"
        },
        "id": "EjR9VLzu6jjD",
        "outputId": "b1553c58-1eef-4dd0-d420-1c639fe348b3"
      },
      "source": [
        "seq_length = 60 # 문장의 길이를 60으로 한다.\n",
        "n_samples = int(np.floor((len(total_data) - 1) / seq_length)) # 문자열을 60등분한다. 그러면 즉, 총 샘플의 개수\n",
        "print ('문장 샘플의 수 : {}'.format(n_samples))"
      ],
      "execution_count": null,
      "outputs": [
        {
          "output_type": "stream",
          "name": "stdout",
          "text": [
            "문장 샘플의 수 : 2658\n"
          ]
        }
      ]
    },
    {
      "cell_type": "code",
      "metadata": {
        "id": "zdy4iRw56lPL"
      },
      "source": [
        "train_X = []\n",
        "train_y = []\n",
        "\n",
        "for i in range(n_samples):\n",
        "    # 0:60 -> 60:120 -> 120:180로 loop를 돌면서 문장 샘플을 1개씩 픽한다.\n",
        "    X_sample = total_data[i * seq_length: (i + 1) * seq_length]\n",
        "\n",
        "    # 정수 인코딩\n",
        "    X_encoded = [char_to_index[c] for c in X_sample]\n",
        "    train_X.append(X_encoded)\n",
        "\n",
        "    # 오른쪽으로 1칸 쉬프트\n",
        "    y_sample = total_data[i * seq_length + 1: (i + 1) * seq_length + 1]\n",
        "    y_encoded = [char_to_index[c] for c in y_sample]\n",
        "    train_y.append(y_encoded)"
      ],
      "execution_count": null,
      "outputs": []
    },
    {
      "cell_type": "code",
      "metadata": {
        "colab": {
          "base_uri": "https://localhost:8080/"
        },
        "id": "WShbQjlX64Iz",
        "outputId": "cf998df5-ded5-4556-a771-111fa65d1cae"
      },
      "source": [
        "print('X 데이터의 첫번째 샘플 :',train_X[0])\n",
        "print('y 데이터의 첫번째 샘플 :',train_y[0])\n",
        "print('-'*50)\n",
        "print('X 데이터의 첫번째 샘플 디코딩 :',[index_to_char[i] for i in train_X[0]])\n",
        "print('y 데이터의 첫번째 샘플 디코딩 :',[index_to_char[i] for i in train_y[0]])"
      ],
      "execution_count": null,
      "outputs": [
        {
          "output_type": "stream",
          "name": "stdout",
          "text": [
            "X 데이터의 첫번째 샘플 : [49, 37, 34, 0, 45, 47, 44, 39, 34, 32, 49, 0, 36, 50, 49, 34, 43, 31, 34, 47, 36, 0, 34, 31, 44, 44, 40, 0, 44, 35, 0, 30, 41, 38, 32, 34, 48, 0, 30, 33, 51, 34, 43, 49, 50, 47, 34, 48, 0, 38, 43, 0, 52, 44, 43, 33, 34, 47, 41, 30]\n",
            "y 데이터의 첫번째 샘플 : [37, 34, 0, 45, 47, 44, 39, 34, 32, 49, 0, 36, 50, 49, 34, 43, 31, 34, 47, 36, 0, 34, 31, 44, 44, 40, 0, 44, 35, 0, 30, 41, 38, 32, 34, 48, 0, 30, 33, 51, 34, 43, 49, 50, 47, 34, 48, 0, 38, 43, 0, 52, 44, 43, 33, 34, 47, 41, 30, 43]\n",
            "--------------------------------------------------\n",
            "X 데이터의 첫번째 샘플 디코딩 : ['t', 'h', 'e', ' ', 'p', 'r', 'o', 'j', 'e', 'c', 't', ' ', 'g', 'u', 't', 'e', 'n', 'b', 'e', 'r', 'g', ' ', 'e', 'b', 'o', 'o', 'k', ' ', 'o', 'f', ' ', 'a', 'l', 'i', 'c', 'e', 's', ' ', 'a', 'd', 'v', 'e', 'n', 't', 'u', 'r', 'e', 's', ' ', 'i', 'n', ' ', 'w', 'o', 'n', 'd', 'e', 'r', 'l', 'a']\n",
            "y 데이터의 첫번째 샘플 디코딩 : ['h', 'e', ' ', 'p', 'r', 'o', 'j', 'e', 'c', 't', ' ', 'g', 'u', 't', 'e', 'n', 'b', 'e', 'r', 'g', ' ', 'e', 'b', 'o', 'o', 'k', ' ', 'o', 'f', ' ', 'a', 'l', 'i', 'c', 'e', 's', ' ', 'a', 'd', 'v', 'e', 'n', 't', 'u', 'r', 'e', 's', ' ', 'i', 'n', ' ', 'w', 'o', 'n', 'd', 'e', 'r', 'l', 'a', 'n']\n"
          ]
        }
      ]
    },
    {
      "cell_type": "code",
      "metadata": {
        "colab": {
          "base_uri": "https://localhost:8080/"
        },
        "id": "4jsksKE17L6y",
        "outputId": "e57fa9ef-d8c7-486e-d21b-13aec531b7d7"
      },
      "source": [
        "print(train_X[1])"
      ],
      "execution_count": null,
      "outputs": [
        {
          "output_type": "stream",
          "name": "stdout",
          "text": [
            "[43, 33, 10, 0, 31, 54, 0, 41, 34, 52, 38, 48, 0, 32, 30, 47, 47, 44, 41, 41, 0, 49, 37, 38, 48, 0, 34, 31, 44, 44, 40, 0, 38, 48, 0, 35, 44, 47, 0, 49, 37, 34, 0, 50, 48, 34, 0, 44, 35, 0, 30, 43, 54, 44, 43, 34, 0, 30, 43, 54]\n"
          ]
        }
      ]
    },
    {
      "cell_type": "code",
      "metadata": {
        "colab": {
          "base_uri": "https://localhost:8080/"
        },
        "id": "e0487oJ67NZl",
        "outputId": "6dc7bff8-c18f-41ba-d83d-ed34cc3e66a3"
      },
      "source": [
        "print(train_y[1])"
      ],
      "execution_count": null,
      "outputs": [
        {
          "output_type": "stream",
          "name": "stdout",
          "text": [
            "[33, 10, 0, 31, 54, 0, 41, 34, 52, 38, 48, 0, 32, 30, 47, 47, 44, 41, 41, 0, 49, 37, 38, 48, 0, 34, 31, 44, 44, 40, 0, 38, 48, 0, 35, 44, 47, 0, 49, 37, 34, 0, 50, 48, 34, 0, 44, 35, 0, 30, 43, 54, 44, 43, 34, 0, 30, 43, 54, 52]\n"
          ]
        }
      ]
    },
    {
      "cell_type": "code",
      "metadata": {
        "id": "TnGMrM1k7OKi"
      },
      "source": [
        "train_X = to_categorical(train_X)\n",
        "train_y = to_categorical(train_y)"
      ],
      "execution_count": null,
      "outputs": []
    },
    {
      "cell_type": "code",
      "metadata": {
        "colab": {
          "base_uri": "https://localhost:8080/"
        },
        "id": "ipt5Vbf_7bCD",
        "outputId": "6f7f9fcc-835b-4bd7-f517-ce89d1c85d6b"
      },
      "source": [
        "print('train_X의 크기(shape) : {}'.format(train_X.shape)) # 원-핫 인코딩\n",
        "print('train_y의 크기(shape) : {}'.format(train_y.shape)) # 원-핫 인코딩"
      ],
      "execution_count": null,
      "outputs": [
        {
          "output_type": "stream",
          "name": "stdout",
          "text": [
            "train_X의 크기(shape) : (2658, 60, 56)\n",
            "train_y의 크기(shape) : (2658, 60, 56)\n"
          ]
        }
      ]
    },
    {
      "cell_type": "code",
      "metadata": {
        "id": "UHsf4lJm7cAj",
        "colab": {
          "base_uri": "https://localhost:8080/"
        },
        "outputId": "f49b8558-ac79-49ed-a2ca-b87c1637058d"
      },
      "source": [
        "from tensorflow.keras.models import Sequential\n",
        "from tensorflow.keras.layers import Dense, LSTM, TimeDistributed\n",
        "\n",
        "hidden_units = 256\n",
        "\n",
        "model = Sequential()\n",
        "model.add(LSTM(hidden_units, input_shape=(None, train_X.shape[2]), return_sequences=True))\n",
        "model.add(LSTM(hidden_units, return_sequences=True))\n",
        "model.add(TimeDistributed(Dense(vocab_size, activation='softmax')))\n",
        "model.summary()"
      ],
      "execution_count": null,
      "outputs": [
        {
          "output_type": "stream",
          "name": "stdout",
          "text": [
            "Model: \"sequential\"\n",
            "_________________________________________________________________\n",
            " Layer (type)                Output Shape              Param #   \n",
            "=================================================================\n",
            " lstm (LSTM)                 (None, None, 256)         320512    \n",
            "                                                                 \n",
            " lstm_1 (LSTM)               (None, None, 256)         525312    \n",
            "                                                                 \n",
            " time_distributed (TimeDistr  (None, None, 56)         14392     \n",
            " ibuted)                                                         \n",
            "                                                                 \n",
            "=================================================================\n",
            "Total params: 860,216\n",
            "Trainable params: 860,216\n",
            "Non-trainable params: 0\n",
            "_________________________________________________________________\n"
          ]
        }
      ]
    },
    {
      "cell_type": "code",
      "metadata": {
        "colab": {
          "base_uri": "https://localhost:8080/"
        },
        "id": "FlPjFFJq7jcr",
        "outputId": "de0e9853-d981-4e9e-9cd7-e0dfb72b6b6f"
      },
      "source": [
        "model.compile(loss='categorical_crossentropy', optimizer='adam', metrics=['accuracy'])\n",
        "model.fit(train_X, train_y, epochs=80, verbose=2)"
      ],
      "execution_count": null,
      "outputs": [
        {
          "output_type": "stream",
          "name": "stdout",
          "text": [
            "Epoch 1/80\n",
            "84/84 - 8s - loss: 3.0712 - accuracy: 0.1824\n",
            "Epoch 2/80\n",
            "84/84 - 1s - loss: 2.7122 - accuracy: 0.2558\n",
            "Epoch 3/80\n",
            "84/84 - 1s - loss: 2.3719 - accuracy: 0.3326\n",
            "Epoch 4/80\n",
            "84/84 - 1s - loss: 2.2317 - accuracy: 0.3659\n",
            "Epoch 5/80\n",
            "84/84 - 1s - loss: 2.1277 - accuracy: 0.3927\n",
            "Epoch 6/80\n",
            "84/84 - 1s - loss: 2.0434 - accuracy: 0.4141\n",
            "Epoch 7/80\n",
            "84/84 - 1s - loss: 1.9774 - accuracy: 0.4315\n",
            "Epoch 8/80\n",
            "84/84 - 1s - loss: 1.9184 - accuracy: 0.4462\n",
            "Epoch 9/80\n",
            "84/84 - 1s - loss: 1.8624 - accuracy: 0.4617\n",
            "Epoch 10/80\n",
            "84/84 - 1s - loss: 1.8105 - accuracy: 0.4748\n",
            "Epoch 11/80\n",
            "84/84 - 1s - loss: 1.7653 - accuracy: 0.4873\n",
            "Epoch 12/80\n",
            "84/84 - 1s - loss: 1.7220 - accuracy: 0.4982\n",
            "Epoch 13/80\n",
            "84/84 - 1s - loss: 1.6804 - accuracy: 0.5093\n",
            "Epoch 14/80\n",
            "84/84 - 1s - loss: 1.6418 - accuracy: 0.5202\n",
            "Epoch 15/80\n",
            "84/84 - 1s - loss: 1.6054 - accuracy: 0.5288\n",
            "Epoch 16/80\n",
            "84/84 - 1s - loss: 1.5716 - accuracy: 0.5387\n",
            "Epoch 17/80\n",
            "84/84 - 1s - loss: 1.5359 - accuracy: 0.5474\n",
            "Epoch 18/80\n",
            "84/84 - 1s - loss: 1.5046 - accuracy: 0.5559\n",
            "Epoch 19/80\n",
            "84/84 - 1s - loss: 1.4719 - accuracy: 0.5637\n",
            "Epoch 20/80\n",
            "84/84 - 1s - loss: 1.4427 - accuracy: 0.5725\n",
            "Epoch 21/80\n",
            "84/84 - 1s - loss: 1.4144 - accuracy: 0.5803\n",
            "Epoch 22/80\n",
            "84/84 - 1s - loss: 1.3817 - accuracy: 0.5890\n",
            "Epoch 23/80\n",
            "84/84 - 1s - loss: 1.3538 - accuracy: 0.5969\n",
            "Epoch 24/80\n",
            "84/84 - 1s - loss: 1.3236 - accuracy: 0.6063\n",
            "Epoch 25/80\n",
            "84/84 - 1s - loss: 1.2965 - accuracy: 0.6147\n",
            "Epoch 26/80\n",
            "84/84 - 1s - loss: 1.2668 - accuracy: 0.6230\n",
            "Epoch 27/80\n",
            "84/84 - 1s - loss: 1.2386 - accuracy: 0.6306\n",
            "Epoch 28/80\n",
            "84/84 - 1s - loss: 1.2113 - accuracy: 0.6386\n",
            "Epoch 29/80\n",
            "84/84 - 1s - loss: 1.1820 - accuracy: 0.6475\n",
            "Epoch 30/80\n",
            "84/84 - 1s - loss: 1.1521 - accuracy: 0.6560\n",
            "Epoch 31/80\n",
            "84/84 - 1s - loss: 1.1251 - accuracy: 0.6645\n",
            "Epoch 32/80\n",
            "84/84 - 1s - loss: 1.0952 - accuracy: 0.6737\n",
            "Epoch 33/80\n",
            "84/84 - 1s - loss: 1.0721 - accuracy: 0.6801\n",
            "Epoch 34/80\n",
            "84/84 - 1s - loss: 1.0380 - accuracy: 0.6903\n",
            "Epoch 35/80\n",
            "84/84 - 1s - loss: 1.0106 - accuracy: 0.6994\n",
            "Epoch 36/80\n",
            "84/84 - 1s - loss: 0.9820 - accuracy: 0.7089\n",
            "Epoch 37/80\n",
            "84/84 - 1s - loss: 0.9546 - accuracy: 0.7164\n",
            "Epoch 38/80\n",
            "84/84 - 1s - loss: 0.9276 - accuracy: 0.7254\n",
            "Epoch 39/80\n",
            "84/84 - 1s - loss: 0.8966 - accuracy: 0.7352\n",
            "Epoch 40/80\n",
            "84/84 - 1s - loss: 0.8731 - accuracy: 0.7417\n",
            "Epoch 41/80\n",
            "84/84 - 1s - loss: 0.8515 - accuracy: 0.7477\n",
            "Epoch 42/80\n",
            "84/84 - 1s - loss: 0.8138 - accuracy: 0.7614\n",
            "Epoch 43/80\n",
            "84/84 - 1s - loss: 0.7886 - accuracy: 0.7688\n",
            "Epoch 44/80\n",
            "84/84 - 1s - loss: 0.7655 - accuracy: 0.7757\n",
            "Epoch 45/80\n",
            "84/84 - 1s - loss: 0.7415 - accuracy: 0.7826\n",
            "Epoch 46/80\n",
            "84/84 - 1s - loss: 0.7145 - accuracy: 0.7914\n",
            "Epoch 47/80\n",
            "84/84 - 1s - loss: 0.6865 - accuracy: 0.8019\n",
            "Epoch 48/80\n",
            "84/84 - 1s - loss: 0.6593 - accuracy: 0.8101\n",
            "Epoch 49/80\n",
            "84/84 - 1s - loss: 0.6414 - accuracy: 0.8160\n",
            "Epoch 50/80\n",
            "84/84 - 1s - loss: 0.6147 - accuracy: 0.8234\n",
            "Epoch 51/80\n",
            "84/84 - 1s - loss: 0.6009 - accuracy: 0.8262\n",
            "Epoch 52/80\n",
            "84/84 - 1s - loss: 0.5721 - accuracy: 0.8375\n",
            "Epoch 53/80\n",
            "84/84 - 1s - loss: 0.5519 - accuracy: 0.8444\n",
            "Epoch 54/80\n",
            "84/84 - 1s - loss: 0.5273 - accuracy: 0.8529\n",
            "Epoch 55/80\n",
            "84/84 - 1s - loss: 0.5152 - accuracy: 0.8555\n",
            "Epoch 56/80\n",
            "84/84 - 1s - loss: 0.4826 - accuracy: 0.8677\n",
            "Epoch 57/80\n",
            "84/84 - 1s - loss: 0.4700 - accuracy: 0.8708\n",
            "Epoch 58/80\n",
            "84/84 - 1s - loss: 0.4484 - accuracy: 0.8775\n",
            "Epoch 59/80\n",
            "84/84 - 1s - loss: 0.4329 - accuracy: 0.8824\n",
            "Epoch 60/80\n",
            "84/84 - 1s - loss: 0.4239 - accuracy: 0.8842\n",
            "Epoch 61/80\n",
            "84/84 - 1s - loss: 0.4082 - accuracy: 0.8892\n",
            "Epoch 62/80\n",
            "84/84 - 1s - loss: 0.3756 - accuracy: 0.9021\n",
            "Epoch 63/80\n",
            "84/84 - 1s - loss: 0.3599 - accuracy: 0.9069\n",
            "Epoch 64/80\n",
            "84/84 - 1s - loss: 0.3546 - accuracy: 0.9074\n",
            "Epoch 65/80\n",
            "84/84 - 1s - loss: 0.3505 - accuracy: 0.9074\n",
            "Epoch 66/80\n",
            "84/84 - 1s - loss: 0.3357 - accuracy: 0.9124\n",
            "Epoch 67/80\n",
            "84/84 - 1s - loss: 0.3124 - accuracy: 0.9207\n",
            "Epoch 68/80\n",
            "84/84 - 1s - loss: 0.2934 - accuracy: 0.9281\n",
            "Epoch 69/80\n",
            "84/84 - 1s - loss: 0.2853 - accuracy: 0.9298\n",
            "Epoch 70/80\n",
            "84/84 - 1s - loss: 0.2750 - accuracy: 0.9322\n",
            "Epoch 71/80\n",
            "84/84 - 1s - loss: 0.2680 - accuracy: 0.9341\n",
            "Epoch 72/80\n",
            "84/84 - 1s - loss: 0.2698 - accuracy: 0.9321\n",
            "Epoch 73/80\n",
            "84/84 - 1s - loss: 0.2491 - accuracy: 0.9395\n",
            "Epoch 74/80\n",
            "84/84 - 1s - loss: 0.2298 - accuracy: 0.9459\n",
            "Epoch 75/80\n",
            "84/84 - 1s - loss: 0.2286 - accuracy: 0.9453\n",
            "Epoch 76/80\n",
            "84/84 - 1s - loss: 0.2247 - accuracy: 0.9456\n",
            "Epoch 77/80\n",
            "84/84 - 1s - loss: 0.2184 - accuracy: 0.9470\n",
            "Epoch 78/80\n",
            "84/84 - 1s - loss: 0.2325 - accuracy: 0.9405\n",
            "Epoch 79/80\n",
            "84/84 - 1s - loss: 0.2313 - accuracy: 0.9408\n",
            "Epoch 80/80\n",
            "84/84 - 1s - loss: 0.2496 - accuracy: 0.9317\n"
          ]
        },
        {
          "output_type": "execute_result",
          "data": {
            "text/plain": [
              "<keras.callbacks.History at 0x7f1e9826e790>"
            ]
          },
          "metadata": {},
          "execution_count": 20
        }
      ]
    },
    {
      "cell_type": "code",
      "metadata": {
        "id": "8lX31r2y7lbY"
      },
      "source": [
        "def sentence_generation(model, length):\n",
        "    # 글자에 대한 랜덤 인덱스 생성\n",
        "    ix = [np.random.randint(vocab_size)]\n",
        "\n",
        "    # 랜덤 익덱스로부터 글자 생성\n",
        "    y_char = [index_to_char[ix[-1]]]\n",
        "    print(ix[-1],'번 글자',y_char[-1],'로 예측을 시작!')\n",
        "\n",
        "    # (1, length, 55) 크기의 X 생성. 즉, LSTM의 입력 시퀀스 생성\n",
        "    X = np.zeros((1, length, vocab_size))\n",
        "\n",
        "    for i in range(length):\n",
        "        # X[0][i][예측한 글자의 인덱스] = 1, 즉, 예측 글자를 다음 입력 시퀀스에 추가\n",
        "        X[0][i][ix[-1]] = 1\n",
        "        print(index_to_char[ix[-1]], end=\"\")\n",
        "        ix = np.argmax(model.predict(X[:, :i+1, :])[0], 1)\n",
        "        y_char.append(index_to_char[ix[-1]])\n",
        "    return ('').join(y_char)"
      ],
      "execution_count": null,
      "outputs": []
    },
    {
      "cell_type": "code",
      "metadata": {
        "colab": {
          "base_uri": "https://localhost:8080/"
        },
        "id": "CgSKvzAE7zaD",
        "outputId": "cd27625e-3921-4e8d-d1f8-57c1bc66d912"
      },
      "source": [
        "result = sentence_generation(model, 100)\n",
        "print(result)"
      ],
      "execution_count": null,
      "outputs": [
        {
          "output_type": "stream",
          "name": "stdout",
          "text": [
            "49 번 글자 t 로 예측을 시작!\n",
            "the middle. alice kept her eyes anxiously im sometimeer, said the mouse of the word, said the hatterthe middle. alice kept her eyes anxiously im sometimeer, said the mouse of the word, said the hatter.\n"
          ]
        }
      ]
    },
    {
      "cell_type": "markdown",
      "metadata": {
        "id": "wjb93Az58QIO"
      },
      "source": [
        "# 2. 글자 단위 RNN(Char RNN)으로 텍스트 생성하기"
      ]
    },
    {
      "cell_type": "markdown",
      "metadata": {
        "id": "ZMMHgEPr8R1n"
      },
      "source": [
        "이번에는 다 대 일(many-to-one) 구조의 RNN을 글자 단위로 학습시키고, 텍스트 생성을 해보겠습니다.\n",
        "\n"
      ]
    },
    {
      "cell_type": "code",
      "metadata": {
        "id": "D7PwoCcN7-rL"
      },
      "source": [
        "import numpy as np\n",
        "from tensorflow.keras.utils import to_categorical"
      ],
      "execution_count": null,
      "outputs": []
    },
    {
      "cell_type": "code",
      "metadata": {
        "id": "2D_GYxw28S6c"
      },
      "source": [
        "raw_text = '''\n",
        "I get on with life as a programmer,\n",
        "I like to contemplate beer.\n",
        "But when I start to daydream,\n",
        "My mind turns straight to wine.\n",
        "\n",
        "Do I love wine more than beer?\n",
        "\n",
        "I like to use words about beer.\n",
        "But when I stop my talking,\n",
        "My mind turns straight to wine.\n",
        "\n",
        "I hate bugs and errors.\n",
        "But I just think back to wine,\n",
        "And I'm happy once again.\n",
        "\n",
        "I like to hang out with programming and deep learning.\n",
        "But when left alone,\n",
        "My mind turns straight to wine.\n",
        "'''"
      ],
      "execution_count": null,
      "outputs": []
    },
    {
      "cell_type": "code",
      "metadata": {
        "colab": {
          "base_uri": "https://localhost:8080/"
        },
        "id": "823KE-Oh8Uoa",
        "outputId": "26f69b62-dab2-459d-ceb8-124206afe020"
      },
      "source": [
        "tokens = raw_text.split()\n",
        "raw_text = ' '.join(tokens)\n",
        "print(raw_text)"
      ],
      "execution_count": null,
      "outputs": [
        {
          "output_type": "stream",
          "name": "stdout",
          "text": [
            "I get on with life as a programmer, I like to contemplate beer. But when I start to daydream, My mind turns straight to wine. Do I love wine more than beer? I like to use words about beer. But when I stop my talking, My mind turns straight to wine. I hate bugs and errors. But I just think back to wine, And I'm happy once again. I like to hang out with programming and deep learning. But when left alone, My mind turns straight to wine.\n"
          ]
        }
      ]
    },
    {
      "cell_type": "code",
      "metadata": {
        "colab": {
          "base_uri": "https://localhost:8080/"
        },
        "id": "Rfxe6-xO8WIE",
        "outputId": "ba12d8b3-b6eb-46af-a06a-6eda7f34a8b3"
      },
      "source": [
        "# 중복을 제거한 글자 집합 생성\n",
        "char_vocab = sorted(list(set(raw_text)))\n",
        "print(char_vocab)"
      ],
      "execution_count": null,
      "outputs": [
        {
          "output_type": "stream",
          "name": "stdout",
          "text": [
            "[' ', \"'\", ',', '.', '?', 'A', 'B', 'D', 'I', 'M', 'a', 'b', 'c', 'd', 'e', 'f', 'g', 'h', 'i', 'j', 'k', 'l', 'm', 'n', 'o', 'p', 'r', 's', 't', 'u', 'v', 'w', 'y']\n"
          ]
        }
      ]
    },
    {
      "cell_type": "code",
      "metadata": {
        "colab": {
          "base_uri": "https://localhost:8080/"
        },
        "id": "mVf-hgG18Zv0",
        "outputId": "95185a97-d74c-447e-fdba-2379b2fa8eaf"
      },
      "source": [
        "vocab_size = len(char_vocab)\n",
        "print ('글자 집합의 크기 : {}'.format(vocab_size))"
      ],
      "execution_count": null,
      "outputs": [
        {
          "output_type": "stream",
          "name": "stdout",
          "text": [
            "글자 집합의 크기 : 33\n"
          ]
        }
      ]
    },
    {
      "cell_type": "code",
      "metadata": {
        "colab": {
          "base_uri": "https://localhost:8080/"
        },
        "id": "AA1ctt5t8eRa",
        "outputId": "8b758eb7-0dd0-473d-b1c2-4257461b1b47"
      },
      "source": [
        "char_to_index = dict((c, i) for i, c in enumerate(char_vocab)) # 글자에 고유한 정수 인덱스 부여\n",
        "print(char_to_index)"
      ],
      "execution_count": null,
      "outputs": [
        {
          "output_type": "stream",
          "name": "stdout",
          "text": [
            "{' ': 0, \"'\": 1, ',': 2, '.': 3, '?': 4, 'A': 5, 'B': 6, 'D': 7, 'I': 8, 'M': 9, 'a': 10, 'b': 11, 'c': 12, 'd': 13, 'e': 14, 'f': 15, 'g': 16, 'h': 17, 'i': 18, 'j': 19, 'k': 20, 'l': 21, 'm': 22, 'n': 23, 'o': 24, 'p': 25, 'r': 26, 's': 27, 't': 28, 'u': 29, 'v': 30, 'w': 31, 'y': 32}\n"
          ]
        }
      ]
    },
    {
      "cell_type": "code",
      "metadata": {
        "colab": {
          "base_uri": "https://localhost:8080/"
        },
        "id": "EiZW1obf8eaE",
        "outputId": "6d0bfa55-1fe6-458b-e194-4904f7310148"
      },
      "source": [
        "length = 11\n",
        "sequences = []\n",
        "for i in range(length, len(raw_text)):\n",
        "    seq = raw_text[i-length:i] # 길이 11의 문자열을 지속적으로 만든다.\n",
        "    sequences.append(seq)\n",
        "print('총 훈련 샘플의 수: %d' % len(sequences))"
      ],
      "execution_count": null,
      "outputs": [
        {
          "output_type": "stream",
          "name": "stdout",
          "text": [
            "총 훈련 샘플의 수: 426\n"
          ]
        }
      ]
    },
    {
      "cell_type": "code",
      "metadata": {
        "id": "ait_ciP98hD8",
        "colab": {
          "base_uri": "https://localhost:8080/"
        },
        "outputId": "8f4d7976-6265-499e-cb96-ac24ad4e50e5"
      },
      "source": [
        "sequences[:10]"
      ],
      "execution_count": null,
      "outputs": [
        {
          "output_type": "execute_result",
          "data": {
            "text/plain": [
              "['I get on wi',\n",
              " ' get on wit',\n",
              " 'get on with',\n",
              " 'et on with ',\n",
              " 't on with l',\n",
              " ' on with li',\n",
              " 'on with lif',\n",
              " 'n with life',\n",
              " ' with life ',\n",
              " 'with life a']"
            ]
          },
          "metadata": {},
          "execution_count": 35
        }
      ]
    },
    {
      "cell_type": "code",
      "metadata": {
        "id": "bhiQ6Uq58iD6"
      },
      "source": [
        "encoded_sequences = []\n",
        "for sequence in sequences: # 전체 데이터에서 문장 샘플을 1개씩 꺼낸다.\n",
        "    encoded_sequence = [char_to_index[char] for char in sequence] # 문장 샘플에서 각 글자에 대해서 정수 인코딩을 수행.\n",
        "    encoded_sequences.append(encoded_sequence)"
      ],
      "execution_count": null,
      "outputs": []
    },
    {
      "cell_type": "code",
      "metadata": {
        "colab": {
          "base_uri": "https://localhost:8080/"
        },
        "id": "Lz1bV5D_1rWu",
        "outputId": "cabc0304-5bc7-4ab0-eabc-64294262a5b4"
      },
      "source": [
        "encoded_sequences[:5]"
      ],
      "execution_count": null,
      "outputs": [
        {
          "output_type": "execute_result",
          "data": {
            "text/plain": [
              "[[8, 0, 16, 14, 28, 0, 24, 23, 0, 31, 18],\n",
              " [0, 16, 14, 28, 0, 24, 23, 0, 31, 18, 28],\n",
              " [16, 14, 28, 0, 24, 23, 0, 31, 18, 28, 17],\n",
              " [14, 28, 0, 24, 23, 0, 31, 18, 28, 17, 0],\n",
              " [28, 0, 24, 23, 0, 31, 18, 28, 17, 0, 21]]"
            ]
          },
          "metadata": {},
          "execution_count": 37
        }
      ]
    },
    {
      "cell_type": "code",
      "metadata": {
        "id": "3f5fQ9Wc1w_t"
      },
      "source": [
        "encoded_sequences = np.array(encoded_sequences)\n",
        "X_data = encoded_sequences[:,:-1]\n",
        "\n",
        "# 맨 마지막 위치의 글자를 분리\n",
        "y_data = encoded_sequences[:,-1]"
      ],
      "execution_count": null,
      "outputs": []
    },
    {
      "cell_type": "code",
      "metadata": {
        "colab": {
          "base_uri": "https://localhost:8080/"
        },
        "id": "s--PreVs1-Sd",
        "outputId": "18f3dd0a-8a70-4eff-93fa-add9c6704613"
      },
      "source": [
        "print(X_data[:5])\n",
        "print(y_data[:5])"
      ],
      "execution_count": null,
      "outputs": [
        {
          "output_type": "stream",
          "name": "stdout",
          "text": [
            "[[ 8  0 16 14 28  0 24 23  0 31]\n",
            " [ 0 16 14 28  0 24 23  0 31 18]\n",
            " [16 14 28  0 24 23  0 31 18 28]\n",
            " [14 28  0 24 23  0 31 18 28 17]\n",
            " [28  0 24 23  0 31 18 28 17  0]]\n",
            "[18 28 17  0 21]\n"
          ]
        }
      ]
    },
    {
      "cell_type": "code",
      "metadata": {
        "id": "q_CQgpkw2Hc4"
      },
      "source": [
        "# 원-핫 인코딩\n",
        "X_data_one_hot = [to_categorical(encoded, num_classes=vocab_size) for encoded in X_data]\n",
        "X_data_one_hot = np.array(X_data_one_hot)\n",
        "y_data_one_hot = to_categorical(y_data, num_classes=vocab_size)"
      ],
      "execution_count": null,
      "outputs": []
    },
    {
      "cell_type": "code",
      "metadata": {
        "colab": {
          "base_uri": "https://localhost:8080/"
        },
        "id": "Y5NEsRym2bBo",
        "outputId": "7e8f9900-fea1-43aa-8dc5-5097c398fa6b"
      },
      "source": [
        "print(X_data_one_hot.shape)"
      ],
      "execution_count": null,
      "outputs": [
        {
          "output_type": "stream",
          "name": "stdout",
          "text": [
            "(426, 10, 33)\n"
          ]
        }
      ]
    },
    {
      "cell_type": "code",
      "metadata": {
        "id": "8CqLyAsG2dP9"
      },
      "source": [
        "from tensorflow.keras.models import Sequential\n",
        "from tensorflow.keras.layers import Dense, LSTM\n",
        "from tensorflow.keras.preprocessing.sequence import pad_sequences"
      ],
      "execution_count": null,
      "outputs": []
    },
    {
      "cell_type": "code",
      "metadata": {
        "id": "LiqNlvRu2egu"
      },
      "source": [
        "hidden_units = 64\n",
        "\n",
        "model = Sequential()\n",
        "model.add(LSTM(hidden_units, input_shape=(X_data_one_hot.shape[1], X_data_one_hot.shape[2])))\n",
        "model.add(Dense(vocab_size, activation='softmax'))"
      ],
      "execution_count": null,
      "outputs": []
    },
    {
      "cell_type": "code",
      "metadata": {
        "colab": {
          "base_uri": "https://localhost:8080/"
        },
        "id": "ymJjEjd42i_l",
        "outputId": "61ecaef0-463d-4304-8c01-67b7c328f461"
      },
      "source": [
        "model.compile(loss='categorical_crossentropy', optimizer='adam', metrics=['accuracy'])\n",
        "model.fit(X_data_one_hot, y_data_one_hot, epochs=100, verbose=2)"
      ],
      "execution_count": null,
      "outputs": [
        {
          "output_type": "stream",
          "name": "stdout",
          "text": [
            "Epoch 1/100\n",
            "14/14 - 2s - loss: 3.4668 - accuracy: 0.0939\n",
            "Epoch 2/100\n",
            "14/14 - 0s - loss: 3.3497 - accuracy: 0.1972\n",
            "Epoch 3/100\n",
            "14/14 - 0s - loss: 3.0872 - accuracy: 0.1972\n",
            "Epoch 4/100\n",
            "14/14 - 0s - loss: 2.9831 - accuracy: 0.1972\n",
            "Epoch 5/100\n",
            "14/14 - 0s - loss: 2.9662 - accuracy: 0.1972\n",
            "Epoch 6/100\n",
            "14/14 - 0s - loss: 2.9398 - accuracy: 0.1972\n",
            "Epoch 7/100\n",
            "14/14 - 0s - loss: 2.9264 - accuracy: 0.1972\n",
            "Epoch 8/100\n",
            "14/14 - 0s - loss: 2.9142 - accuracy: 0.1972\n",
            "Epoch 9/100\n",
            "14/14 - 0s - loss: 2.8931 - accuracy: 0.1972\n",
            "Epoch 10/100\n",
            "14/14 - 0s - loss: 2.8744 - accuracy: 0.1972\n",
            "Epoch 11/100\n",
            "14/14 - 0s - loss: 2.8559 - accuracy: 0.1972\n",
            "Epoch 12/100\n",
            "14/14 - 0s - loss: 2.8333 - accuracy: 0.1972\n",
            "Epoch 13/100\n",
            "14/14 - 0s - loss: 2.8060 - accuracy: 0.1972\n",
            "Epoch 14/100\n",
            "14/14 - 0s - loss: 2.7785 - accuracy: 0.2042\n",
            "Epoch 15/100\n",
            "14/14 - 0s - loss: 2.7435 - accuracy: 0.2019\n",
            "Epoch 16/100\n",
            "14/14 - 0s - loss: 2.6963 - accuracy: 0.2183\n",
            "Epoch 17/100\n",
            "14/14 - 0s - loss: 2.6521 - accuracy: 0.2488\n",
            "Epoch 18/100\n",
            "14/14 - 0s - loss: 2.6203 - accuracy: 0.2582\n",
            "Epoch 19/100\n",
            "14/14 - 0s - loss: 2.5508 - accuracy: 0.2723\n",
            "Epoch 20/100\n",
            "14/14 - 0s - loss: 2.5160 - accuracy: 0.2606\n",
            "Epoch 21/100\n",
            "14/14 - 0s - loss: 2.4637 - accuracy: 0.3028\n",
            "Epoch 22/100\n",
            "14/14 - 0s - loss: 2.4146 - accuracy: 0.2911\n",
            "Epoch 23/100\n",
            "14/14 - 0s - loss: 2.3702 - accuracy: 0.3286\n",
            "Epoch 24/100\n",
            "14/14 - 0s - loss: 2.3196 - accuracy: 0.3263\n",
            "Epoch 25/100\n",
            "14/14 - 0s - loss: 2.2879 - accuracy: 0.3404\n",
            "Epoch 26/100\n",
            "14/14 - 0s - loss: 2.2322 - accuracy: 0.3850\n",
            "Epoch 27/100\n",
            "14/14 - 0s - loss: 2.2014 - accuracy: 0.3709\n",
            "Epoch 28/100\n",
            "14/14 - 0s - loss: 2.2003 - accuracy: 0.3732\n",
            "Epoch 29/100\n",
            "14/14 - 0s - loss: 2.1367 - accuracy: 0.3967\n",
            "Epoch 30/100\n",
            "14/14 - 0s - loss: 2.0986 - accuracy: 0.4014\n",
            "Epoch 31/100\n",
            "14/14 - 0s - loss: 2.0450 - accuracy: 0.4202\n",
            "Epoch 32/100\n",
            "14/14 - 0s - loss: 2.0156 - accuracy: 0.4296\n",
            "Epoch 33/100\n",
            "14/14 - 0s - loss: 1.9782 - accuracy: 0.4225\n",
            "Epoch 34/100\n",
            "14/14 - 0s - loss: 1.9257 - accuracy: 0.4789\n",
            "Epoch 35/100\n",
            "14/14 - 0s - loss: 1.8959 - accuracy: 0.4601\n",
            "Epoch 36/100\n",
            "14/14 - 0s - loss: 1.8542 - accuracy: 0.4836\n",
            "Epoch 37/100\n",
            "14/14 - 0s - loss: 1.8252 - accuracy: 0.4930\n",
            "Epoch 38/100\n",
            "14/14 - 0s - loss: 1.7791 - accuracy: 0.5188\n",
            "Epoch 39/100\n",
            "14/14 - 0s - loss: 1.7374 - accuracy: 0.5047\n",
            "Epoch 40/100\n",
            "14/14 - 0s - loss: 1.7003 - accuracy: 0.5258\n",
            "Epoch 41/100\n",
            "14/14 - 0s - loss: 1.6581 - accuracy: 0.5258\n",
            "Epoch 42/100\n",
            "14/14 - 0s - loss: 1.6421 - accuracy: 0.5587\n",
            "Epoch 43/100\n",
            "14/14 - 0s - loss: 1.6154 - accuracy: 0.5822\n",
            "Epoch 44/100\n",
            "14/14 - 0s - loss: 1.5545 - accuracy: 0.6033\n",
            "Epoch 45/100\n",
            "14/14 - 0s - loss: 1.5206 - accuracy: 0.5915\n",
            "Epoch 46/100\n",
            "14/14 - 0s - loss: 1.4847 - accuracy: 0.6338\n",
            "Epoch 47/100\n",
            "14/14 - 0s - loss: 1.4516 - accuracy: 0.6221\n",
            "Epoch 48/100\n",
            "14/14 - 0s - loss: 1.4217 - accuracy: 0.6315\n",
            "Epoch 49/100\n",
            "14/14 - 0s - loss: 1.3684 - accuracy: 0.6549\n",
            "Epoch 50/100\n",
            "14/14 - 0s - loss: 1.3577 - accuracy: 0.6432\n",
            "Epoch 51/100\n",
            "14/14 - 0s - loss: 1.3375 - accuracy: 0.6667\n",
            "Epoch 52/100\n",
            "14/14 - 0s - loss: 1.2739 - accuracy: 0.6854\n",
            "Epoch 53/100\n",
            "14/14 - 0s - loss: 1.2500 - accuracy: 0.6925\n",
            "Epoch 54/100\n",
            "14/14 - 0s - loss: 1.2218 - accuracy: 0.6925\n",
            "Epoch 55/100\n",
            "14/14 - 0s - loss: 1.1704 - accuracy: 0.7324\n",
            "Epoch 56/100\n",
            "14/14 - 0s - loss: 1.1443 - accuracy: 0.7089\n",
            "Epoch 57/100\n",
            "14/14 - 0s - loss: 1.1434 - accuracy: 0.7441\n",
            "Epoch 58/100\n",
            "14/14 - 0s - loss: 1.1113 - accuracy: 0.7347\n",
            "Epoch 59/100\n",
            "14/14 - 0s - loss: 1.0917 - accuracy: 0.7629\n",
            "Epoch 60/100\n",
            "14/14 - 0s - loss: 1.0306 - accuracy: 0.7629\n",
            "Epoch 61/100\n",
            "14/14 - 0s - loss: 0.9999 - accuracy: 0.7911\n",
            "Epoch 62/100\n",
            "14/14 - 0s - loss: 0.9721 - accuracy: 0.7840\n",
            "Epoch 63/100\n",
            "14/14 - 0s - loss: 0.9428 - accuracy: 0.8122\n",
            "Epoch 64/100\n",
            "14/14 - 0s - loss: 0.9248 - accuracy: 0.8192\n",
            "Epoch 65/100\n",
            "14/14 - 0s - loss: 0.8978 - accuracy: 0.8075\n",
            "Epoch 66/100\n",
            "14/14 - 0s - loss: 0.8799 - accuracy: 0.8380\n",
            "Epoch 67/100\n",
            "14/14 - 0s - loss: 0.8441 - accuracy: 0.8192\n",
            "Epoch 68/100\n",
            "14/14 - 0s - loss: 0.8416 - accuracy: 0.8310\n",
            "Epoch 69/100\n",
            "14/14 - 0s - loss: 0.8118 - accuracy: 0.8521\n",
            "Epoch 70/100\n",
            "14/14 - 0s - loss: 0.7818 - accuracy: 0.8545\n",
            "Epoch 71/100\n",
            "14/14 - 0s - loss: 0.7699 - accuracy: 0.8638\n",
            "Epoch 72/100\n",
            "14/14 - 0s - loss: 0.7352 - accuracy: 0.8779\n",
            "Epoch 73/100\n",
            "14/14 - 0s - loss: 0.7138 - accuracy: 0.8779\n",
            "Epoch 74/100\n",
            "14/14 - 0s - loss: 0.6860 - accuracy: 0.8662\n",
            "Epoch 75/100\n",
            "14/14 - 0s - loss: 0.6652 - accuracy: 0.8779\n",
            "Epoch 76/100\n",
            "14/14 - 0s - loss: 0.6517 - accuracy: 0.8826\n",
            "Epoch 77/100\n",
            "14/14 - 0s - loss: 0.6290 - accuracy: 0.8967\n",
            "Epoch 78/100\n",
            "14/14 - 0s - loss: 0.6203 - accuracy: 0.8920\n",
            "Epoch 79/100\n",
            "14/14 - 0s - loss: 0.6098 - accuracy: 0.8897\n",
            "Epoch 80/100\n",
            "14/14 - 0s - loss: 0.6018 - accuracy: 0.9014\n",
            "Epoch 81/100\n",
            "14/14 - 0s - loss: 0.5860 - accuracy: 0.9038\n",
            "Epoch 82/100\n",
            "14/14 - 0s - loss: 0.5510 - accuracy: 0.9085\n",
            "Epoch 83/100\n",
            "14/14 - 0s - loss: 0.5407 - accuracy: 0.9225\n",
            "Epoch 84/100\n",
            "14/14 - 0s - loss: 0.5162 - accuracy: 0.9178\n",
            "Epoch 85/100\n",
            "14/14 - 0s - loss: 0.4983 - accuracy: 0.9319\n",
            "Epoch 86/100\n",
            "14/14 - 0s - loss: 0.4885 - accuracy: 0.9319\n",
            "Epoch 87/100\n",
            "14/14 - 0s - loss: 0.4831 - accuracy: 0.9366\n",
            "Epoch 88/100\n",
            "14/14 - 0s - loss: 0.4583 - accuracy: 0.9390\n",
            "Epoch 89/100\n",
            "14/14 - 0s - loss: 0.4448 - accuracy: 0.9366\n",
            "Epoch 90/100\n",
            "14/14 - 0s - loss: 0.4437 - accuracy: 0.9390\n",
            "Epoch 91/100\n",
            "14/14 - 0s - loss: 0.4283 - accuracy: 0.9437\n",
            "Epoch 92/100\n",
            "14/14 - 0s - loss: 0.4202 - accuracy: 0.9484\n",
            "Epoch 93/100\n",
            "14/14 - 0s - loss: 0.3949 - accuracy: 0.9460\n",
            "Epoch 94/100\n",
            "14/14 - 0s - loss: 0.3876 - accuracy: 0.9531\n",
            "Epoch 95/100\n",
            "14/14 - 0s - loss: 0.3717 - accuracy: 0.9531\n",
            "Epoch 96/100\n",
            "14/14 - 0s - loss: 0.3678 - accuracy: 0.9577\n",
            "Epoch 97/100\n",
            "14/14 - 0s - loss: 0.3522 - accuracy: 0.9648\n",
            "Epoch 98/100\n",
            "14/14 - 0s - loss: 0.3406 - accuracy: 0.9577\n",
            "Epoch 99/100\n",
            "14/14 - 0s - loss: 0.3308 - accuracy: 0.9648\n",
            "Epoch 100/100\n",
            "14/14 - 0s - loss: 0.3244 - accuracy: 0.9648\n"
          ]
        },
        {
          "output_type": "execute_result",
          "data": {
            "text/plain": [
              "<keras.callbacks.History at 0x7f1e80913250>"
            ]
          },
          "metadata": {},
          "execution_count": 46
        }
      ]
    },
    {
      "cell_type": "code",
      "metadata": {
        "id": "m8hZiN9Y2oH-"
      },
      "source": [
        "def sentence_generation(model, char_to_index, seq_length, seed_text, n):\n",
        "\n",
        "    # 초기 시퀀스\n",
        "    init_text = seed_text\n",
        "    sentence = ''\n",
        "\n",
        "    for _ in range(n):\n",
        "        encoded = [char_to_index[char] for char in seed_text] # 현재 시퀀스에 대한 정수 인코딩\n",
        "        encoded = pad_sequences([encoded], maxlen=seq_length, padding='pre') # 데이터에 대한 패딩\n",
        "        encoded = to_categorical(encoded, num_classes=len(char_to_index))\n",
        "\n",
        "        # 입력한 X(현재 시퀀스)에 대해서 y를 예측하고 y(예측한 글자)를 result에 저장.\n",
        "        result = model.predict(encoded, verbose=0)\n",
        "        result = np.argmax(result, axis=1)\n",
        "        \n",
        "        for char, index in char_to_index.items():\n",
        "            if index == result:\n",
        "                break\n",
        "\n",
        "        # 현재 시퀀스 + 예측 글자를 현재 시퀀스로 변경\n",
        "        seed_text = seed_text + char\n",
        "\n",
        "        # 예측 글자를 문장에 저장\n",
        "        sentence = sentence + char\n",
        "\n",
        "    sentence = init_text + sentence\n",
        "    return sentence"
      ],
      "execution_count": null,
      "outputs": []
    },
    {
      "cell_type": "code",
      "metadata": {
        "colab": {
          "base_uri": "https://localhost:8080/"
        },
        "id": "P5kIEaBq2833",
        "outputId": "2ca28b55-d865-4ee2-b113-1ec86c3fea5d"
      },
      "source": [
        "print(sentence_generation(model, char_to_index, 10, 'I get on w', 80))"
      ],
      "execution_count": null,
      "outputs": [
        {
          "output_type": "stream",
          "name": "stdout",
          "text": [
            "I get on with life as a programmer, I like to use words about beer. But when I stoat to dl\n"
          ]
        }
      ]
    }
  ]
}