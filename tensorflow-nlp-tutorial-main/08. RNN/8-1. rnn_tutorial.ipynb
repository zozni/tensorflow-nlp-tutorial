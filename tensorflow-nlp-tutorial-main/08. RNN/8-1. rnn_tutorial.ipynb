{
  "nbformat": 4,
  "nbformat_minor": 0,
  "metadata": {
    "colab": {
      "name": "RNN tutorial.ipynb",
      "provenance": [],
      "collapsed_sections": []
    },
    "kernelspec": {
      "name": "python3",
      "display_name": "Python 3"
    },
    "language_info": {
      "name": "python"
    }
  },
  "cells": [
    {
      "cell_type": "markdown",
      "metadata": {
        "id": "xK8cIZid0rfZ"
      },
      "source": [
        "이 자료는 위키독스 딥 러닝을 이용한 자연어 처리 입문의 RNN 튜토리얼 자료입니다.  \n",
        "링크 : https://wikidocs.net/22886"
      ]
    },
    {
      "cell_type": "markdown",
      "metadata": {
        "id": "BvuJfthH0xe4"
      },
      "source": [
        "2021년 10월 12일에 마지막으로 테스트되었습니다."
      ]
    },
    {
      "cell_type": "code",
      "metadata": {
        "id": "S639UltKzueE"
      },
      "source": [
        "import tensorflow as tf"
      ],
      "execution_count": null,
      "outputs": []
    },
    {
      "cell_type": "code",
      "metadata": {
        "colab": {
          "base_uri": "https://localhost:8080/",
          "height": 35
        },
        "id": "rO3_m3bJzwWj",
        "outputId": "c95d7ba3-b9c7-429b-e84a-714b275d89ba"
      },
      "source": [
        "tf.__version__"
      ],
      "execution_count": null,
      "outputs": [
        {
          "output_type": "execute_result",
          "data": {
            "application/vnd.google.colaboratory.intrinsic+json": {
              "type": "string"
            },
            "text/plain": [
              "'2.6.0'"
            ]
          },
          "metadata": {},
          "execution_count": 3
        }
      ]
    },
    {
      "cell_type": "markdown",
      "metadata": {
        "id": "_ov6pkzS4D71"
      },
      "source": [
        "# 1. 케라스(Keras)로 RNN 구현하기"
      ]
    },
    {
      "cell_type": "code",
      "metadata": {
        "id": "LpTBZ2UFzo23"
      },
      "source": [
        "from tensorflow.keras.models import Sequential\n",
        "from tensorflow.keras.layers import SimpleRNN"
      ],
      "execution_count": null,
      "outputs": []
    },
    {
      "cell_type": "code",
      "metadata": {
        "colab": {
          "base_uri": "https://localhost:8080/"
        },
        "id": "SFgIfrB9zvQs",
        "outputId": "4f88204c-8fb6-4847-f3ff-e21391f7e198"
      },
      "source": [
        "model = Sequential()\n",
        "model.add(SimpleRNN(3, input_shape=(2,10)))\n",
        "# model.add(SimpleRNN(3, input_length=2, input_dim=10))와 동일\n",
        "model.summary()"
      ],
      "execution_count": null,
      "outputs": [
        {
          "output_type": "stream",
          "name": "stdout",
          "text": [
            "Model: \"sequential\"\n",
            "_________________________________________________________________\n",
            "Layer (type)                 Output Shape              Param #   \n",
            "=================================================================\n",
            "simple_rnn (SimpleRNN)       (None, 3)                 42        \n",
            "=================================================================\n",
            "Total params: 42\n",
            "Trainable params: 42\n",
            "Non-trainable params: 0\n",
            "_________________________________________________________________\n"
          ]
        }
      ]
    },
    {
      "cell_type": "code",
      "metadata": {
        "colab": {
          "base_uri": "https://localhost:8080/"
        },
        "id": "dqlw7nfCz3nb",
        "outputId": "a48b61c7-c086-490a-b7f8-e2a210372774"
      },
      "source": [
        "model = Sequential()\n",
        "model.add(SimpleRNN(3, batch_input_shape=(8,2,10)))\n",
        "model.summary()"
      ],
      "execution_count": null,
      "outputs": [
        {
          "output_type": "stream",
          "name": "stdout",
          "text": [
            "Model: \"sequential_2\"\n",
            "_________________________________________________________________\n",
            "Layer (type)                 Output Shape              Param #   \n",
            "=================================================================\n",
            "simple_rnn_2 (SimpleRNN)     (8, 3)                    42        \n",
            "=================================================================\n",
            "Total params: 42\n",
            "Trainable params: 42\n",
            "Non-trainable params: 0\n",
            "_________________________________________________________________\n"
          ]
        }
      ]
    },
    {
      "cell_type": "code",
      "metadata": {
        "colab": {
          "base_uri": "https://localhost:8080/"
        },
        "id": "7sj_f1kFz587",
        "outputId": "dc128051-fad8-498c-9d2b-050a5a5a8c4c"
      },
      "source": [
        "model = Sequential()\n",
        "model.add(SimpleRNN(3, batch_input_shape=(8,2,10), return_sequences=True))\n",
        "model.summary()"
      ],
      "execution_count": null,
      "outputs": [
        {
          "output_type": "stream",
          "name": "stdout",
          "text": [
            "Model: \"sequential_3\"\n",
            "_________________________________________________________________\n",
            "Layer (type)                 Output Shape              Param #   \n",
            "=================================================================\n",
            "simple_rnn_3 (SimpleRNN)     (8, 2, 3)                 42        \n",
            "=================================================================\n",
            "Total params: 42\n",
            "Trainable params: 42\n",
            "Non-trainable params: 0\n",
            "_________________________________________________________________\n"
          ]
        }
      ]
    },
    {
      "cell_type": "markdown",
      "metadata": {
        "id": "kxdcbKcg4GRM"
      },
      "source": [
        "# 2. 파이썬으로 RNN 구현하기"
      ]
    },
    {
      "cell_type": "code",
      "metadata": {
        "id": "Y71ozMgbz7IK"
      },
      "source": [
        "import numpy as np\n",
        "\n",
        "timesteps = 10 # 시점의 수. NLP에서는 보통 문장의 길이가 된다.\n",
        "input_dim = 4 # 입력의 차원. NLP에서는 보통 단어 벡터의 차원이 된다.\n",
        "hidden_size = 8 # 은닉 상태의 크기. 메모리 셀의 용량이다.\n",
        "\n",
        "inputs = np.random.random((timesteps, input_dim)) # 입력에 해당되는 2D 텐서\n",
        "\n",
        "# 은닉 상태의 크기 hidden_size로 은닉 상태를 만듬.\n",
        "hidden_state_t = np.zeros((hidden_size,)) # 초기 은닉 상태는 0(벡터)로 초기화"
      ],
      "execution_count": null,
      "outputs": []
    },
    {
      "cell_type": "code",
      "metadata": {
        "colab": {
          "base_uri": "https://localhost:8080/"
        },
        "id": "NZDTC6tZz9QK",
        "outputId": "22db3df2-496e-4a0b-a3c1-a9c84697f5fa"
      },
      "source": [
        "# 은닉 상태의 크기 hidden_size로 은닉 상태를 만듬.# 8의 크기를 가지는 은닉 상태. 현재는 초기 은닉 상태로 모든 차원이 0의 값을 가짐.\n",
        "print(hidden_state_t)"
      ],
      "execution_count": null,
      "outputs": [
        {
          "output_type": "stream",
          "name": "stdout",
          "text": [
            "[0. 0. 0. 0. 0. 0. 0. 0.]\n"
          ]
        }
      ]
    },
    {
      "cell_type": "code",
      "metadata": {
        "id": "ImKrteYJz-3S"
      },
      "source": [
        "Wx = np.random.random((hidden_size, input_dim))  # (8, 4)크기의 2D 텐서 생성. 입력에 대한 가중치.\n",
        "Wh = np.random.random((hidden_size, hidden_size)) # (8, 8)크기의 2D 텐서 생성. 은닉 상태에 대한 가중치.\n",
        "b = np.random.random((hidden_size,)) # (8,)크기의 1D 텐서 생성. 이 값은 편향(bias)."
      ],
      "execution_count": null,
      "outputs": []
    },
    {
      "cell_type": "code",
      "metadata": {
        "colab": {
          "base_uri": "https://localhost:8080/"
        },
        "id": "98HJ6fWx0D4L",
        "outputId": "c77b8a17-b720-4ee7-bf54-31463eb49f33"
      },
      "source": [
        "print(np.shape(Wx))\n",
        "print(np.shape(Wh))\n",
        "print(np.shape(b))"
      ],
      "execution_count": null,
      "outputs": [
        {
          "output_type": "stream",
          "name": "stdout",
          "text": [
            "(8, 4)\n",
            "(8, 8)\n",
            "(8,)\n"
          ]
        }
      ]
    },
    {
      "cell_type": "code",
      "metadata": {
        "colab": {
          "base_uri": "https://localhost:8080/"
        },
        "id": "V3WoECPn0E37",
        "outputId": "124aecb8-67e9-46a1-c0a5-e8e9f2acef51"
      },
      "source": [
        "total_hidden_states = []\n",
        "\n",
        "# 메모리 셀 동작\n",
        "for input_t in inputs: # 각 시점에 따라서 입력값이 입력됨.\n",
        "  output_t = np.tanh(np.dot(Wx,input_t) + np.dot(Wh,hidden_state_t) + b) # Wx * Xt + Wh * Ht-1 + b(bias)\n",
        "  total_hidden_states.append(list(output_t)) # 각 시점의 은닉 상태의 값을 계속해서 축적\n",
        "  print(np.shape(total_hidden_states)) # 각 시점 t별 메모리 셀의 출력의 크기는 (timestep, output_dim)\n",
        "  hidden_state_t = output_t\n",
        "\n",
        "total_hidden_states = np.stack(total_hidden_states, axis = 0) \n",
        "# 출력 시 값을 깔끔하게 해준다.\n",
        "\n",
        "print(total_hidden_states) # (timesteps, output_dim)의 크기. 이 경우 (10, 8)의 크기를 가지는 메모리 셀의 2D 텐서를 출력."
      ],
      "execution_count": null,
      "outputs": [
        {
          "output_type": "stream",
          "name": "stdout",
          "text": [
            "(1, 8)\n",
            "(2, 8)\n",
            "(3, 8)\n",
            "(4, 8)\n",
            "(5, 8)\n",
            "(6, 8)\n",
            "(7, 8)\n",
            "(8, 8)\n",
            "(9, 8)\n",
            "(10, 8)\n",
            "[[0.85496939 0.94702668 0.86708324 0.91527352 0.96703696 0.80542573\n",
            "  0.97073141 0.89202759]\n",
            " [0.99944812 0.99999666 0.99995257 0.9979095  0.99999017 0.99999713\n",
            "  0.99999364 0.99987055]\n",
            " [0.99967934 0.99999649 0.99998757 0.99754125 0.99999355 0.99999958\n",
            "  0.99999087 0.99996529]\n",
            " [0.9997036  0.99999849 0.99997919 0.99784333 0.99999326 0.99999922\n",
            "  0.99999624 0.99995417]\n",
            " [0.99907414 0.99999    0.99997213 0.99851461 0.99998889 0.99999835\n",
            "  0.99998732 0.99981697]\n",
            " [0.99983633 0.99999726 0.99998918 0.99874178 0.99999664 0.99999958\n",
            "  0.99999422 0.99997005]\n",
            " [0.99944346 0.99999446 0.99997273 0.99877603 0.99999202 0.99999845\n",
            "  0.99999257 0.99986234]\n",
            " [0.99973524 0.99999846 0.99998268 0.99890153 0.9999961  0.99999915\n",
            "  0.9999973  0.99994947]\n",
            " [0.99948656 0.9999978  0.99998404 0.99844112 0.99999454 0.99999921\n",
            "  0.99999601 0.99994352]\n",
            " [0.99909342 0.99998551 0.99996263 0.9968948  0.99997724 0.99999844\n",
            "  0.99997329 0.99981045]]\n"
          ]
        }
      ]
    },
    {
      "cell_type": "markdown",
      "metadata": {
        "id": "T7fSXI9Q4KSJ"
      },
      "source": [
        "# 3. 깊은 순환 신경망(Deep Recurrent Neural Network)\n"
      ]
    },
    {
      "cell_type": "code",
      "metadata": {
        "colab": {
          "base_uri": "https://localhost:8080/"
        },
        "id": "QM4rA7cC0F57",
        "outputId": "daaa16d4-82a6-4de2-e5ed-b9b8c83daae0"
      },
      "source": [
        "model = Sequential()\n",
        "model.add(SimpleRNN(hidden_size, input_length=10, input_dim=5, return_sequences = True))\n",
        "model.add(SimpleRNN(hidden_size, return_sequences = True))\n",
        "model.summary()"
      ],
      "execution_count": null,
      "outputs": [
        {
          "output_type": "stream",
          "name": "stdout",
          "text": [
            "Model: \"sequential_6\"\n",
            "_________________________________________________________________\n",
            "Layer (type)                 Output Shape              Param #   \n",
            "=================================================================\n",
            "simple_rnn_8 (SimpleRNN)     (None, 10, 8)             112       \n",
            "_________________________________________________________________\n",
            "simple_rnn_9 (SimpleRNN)     (None, 10, 8)             136       \n",
            "=================================================================\n",
            "Total params: 248\n",
            "Trainable params: 248\n",
            "Non-trainable params: 0\n",
            "_________________________________________________________________\n"
          ]
        }
      ]
    },
    {
      "cell_type": "markdown",
      "metadata": {
        "id": "YVQAXIb04NHm"
      },
      "source": [
        "# 4. 양방향 순환 신경망(Bidirectional Recurrent Neural Network)"
      ]
    },
    {
      "cell_type": "code",
      "metadata": {
        "id": "vR4QCpPs0ZAU"
      },
      "source": [
        "from tensorflow.keras.layers import Bidirectional"
      ],
      "execution_count": null,
      "outputs": []
    },
    {
      "cell_type": "code",
      "metadata": {
        "colab": {
          "base_uri": "https://localhost:8080/"
        },
        "id": "75ceRQ5l0Hx6",
        "outputId": "9ff32833-6493-4cb5-c163-96c55c10b055"
      },
      "source": [
        "timesteps = 10\n",
        "input_dim = 5\n",
        "\n",
        "model = Sequential()\n",
        "model.add(Bidirectional(SimpleRNN(hidden_size, return_sequences = True), input_shape=(timesteps, input_dim)))\n",
        "model.summary()"
      ],
      "execution_count": null,
      "outputs": [
        {
          "output_type": "stream",
          "name": "stdout",
          "text": [
            "Model: \"sequential_8\"\n",
            "_________________________________________________________________\n",
            "Layer (type)                 Output Shape              Param #   \n",
            "=================================================================\n",
            "bidirectional_1 (Bidirection (None, 10, 16)            224       \n",
            "=================================================================\n",
            "Total params: 224\n",
            "Trainable params: 224\n",
            "Non-trainable params: 0\n",
            "_________________________________________________________________\n"
          ]
        }
      ]
    },
    {
      "cell_type": "code",
      "metadata": {
        "colab": {
          "base_uri": "https://localhost:8080/"
        },
        "id": "AeKbgcKJ0dFr",
        "outputId": "e9a6e000-6a75-4c26-d91a-757f130c3fb0"
      },
      "source": [
        "model = Sequential()\n",
        "model.add(Bidirectional(SimpleRNN(hidden_size, return_sequences = True), input_shape=(timesteps, input_dim)))\n",
        "model.add(Bidirectional(SimpleRNN(hidden_size, return_sequences = True)))\n",
        "model.add(Bidirectional(SimpleRNN(hidden_size, return_sequences = True)))\n",
        "model.add(Bidirectional(SimpleRNN(hidden_size, return_sequences = True)))\n",
        "model.summary()"
      ],
      "execution_count": null,
      "outputs": [
        {
          "output_type": "stream",
          "name": "stdout",
          "text": [
            "Model: \"sequential_10\"\n",
            "_________________________________________________________________\n",
            "Layer (type)                 Output Shape              Param #   \n",
            "=================================================================\n",
            "bidirectional_6 (Bidirection (None, 10, 16)            224       \n",
            "_________________________________________________________________\n",
            "bidirectional_7 (Bidirection (None, 10, 16)            400       \n",
            "_________________________________________________________________\n",
            "bidirectional_8 (Bidirection (None, 10, 16)            400       \n",
            "_________________________________________________________________\n",
            "bidirectional_9 (Bidirection (None, 10, 16)            400       \n",
            "=================================================================\n",
            "Total params: 1,424\n",
            "Trainable params: 1,424\n",
            "Non-trainable params: 0\n",
            "_________________________________________________________________\n"
          ]
        }
      ]
    }
  ]
}