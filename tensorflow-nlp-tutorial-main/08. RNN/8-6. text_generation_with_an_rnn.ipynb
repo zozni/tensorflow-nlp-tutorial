{
  "nbformat": 4,
  "nbformat_minor": 0,
  "metadata": {
    "colab": {
      "name": "Text generation with an RNN.ipynb",
      "provenance": [],
      "collapsed_sections": [],
      "machine_shape": "hm"
    },
    "kernelspec": {
      "name": "python3",
      "display_name": "Python 3"
    },
    "language_info": {
      "name": "python"
    },
    "accelerator": "GPU"
  },
  "cells": [
    {
      "cell_type": "markdown",
      "metadata": {
        "id": "nQfDeXC5GJEs"
      },
      "source": [
        "이 자료는 위키독스 딥 러닝을 이용한 자연어 처리 입문의 RNN을 이용하여 텍스트 생성하기의 튜토리얼입니다.  \n",
        "\n",
        "링크 : https://wikidocs.net/45101"
      ]
    },
    {
      "cell_type": "markdown",
      "metadata": {
        "id": "Ohqrvu9vGMaa"
      },
      "source": [
        "2021년 10월 13일에 테스트되었습니다."
      ]
    },
    {
      "cell_type": "markdown",
      "metadata": {
        "id": "-mwvomP9GHUz"
      },
      "source": [
        "# 1. RNN을 이용하여 텍스트 생성하기"
      ]
    },
    {
      "cell_type": "code",
      "metadata": {
        "id": "S4uTNOaoD1bU"
      },
      "source": [
        "import numpy as np\n",
        "from tensorflow.keras.preprocessing.text import Tokenizer\n",
        "from tensorflow.keras.preprocessing.sequence import pad_sequences\n",
        "from tensorflow.keras.utils import to_categorical"
      ],
      "execution_count": null,
      "outputs": []
    },
    {
      "cell_type": "code",
      "metadata": {
        "id": "HAiu_PerD3Hf"
      },
      "source": [
        "text = \"\"\"경마장에 있는 말이 뛰고 있다\\n\n",
        "그의 말이 법이다\\n\n",
        "가는 말이 고와야 오는 말이 곱다\\n\"\"\""
      ],
      "execution_count": null,
      "outputs": []
    },
    {
      "cell_type": "code",
      "metadata": {
        "colab": {
          "base_uri": "https://localhost:8080/"
        },
        "id": "xdHAkPfHD75-",
        "outputId": "6f3624ea-421a-47af-b2e6-8bbadcf13ac8"
      },
      "source": [
        "tokenizer = Tokenizer()\n",
        "tokenizer.fit_on_texts([text])\n",
        "vocab_size = len(tokenizer.word_index) + 1\n",
        "print('단어 집합의 크기 : %d' % vocab_size)"
      ],
      "execution_count": null,
      "outputs": [
        {
          "output_type": "stream",
          "name": "stdout",
          "text": [
            "단어 집합의 크기 : 12\n"
          ]
        }
      ]
    },
    {
      "cell_type": "code",
      "metadata": {
        "colab": {
          "base_uri": "https://localhost:8080/"
        },
        "id": "rjSPtvilD9hO",
        "outputId": "ad393403-8ee8-4ea0-811b-e1ae458c2ce0"
      },
      "source": [
        "print(tokenizer.word_index)"
      ],
      "execution_count": null,
      "outputs": [
        {
          "output_type": "stream",
          "name": "stdout",
          "text": [
            "{'말이': 1, '경마장에': 2, '있는': 3, '뛰고': 4, '있다': 5, '그의': 6, '법이다': 7, '가는': 8, '고와야': 9, '오는': 10, '곱다': 11}\n"
          ]
        }
      ]
    },
    {
      "cell_type": "code",
      "metadata": {
        "colab": {
          "base_uri": "https://localhost:8080/"
        },
        "id": "yxtpUv8fEJim",
        "outputId": "46a71b7f-43fd-4d92-bccc-ddcc3e86c617"
      },
      "source": [
        "sequences = list()\n",
        "for line in text.split('\\n'): # Wn을 기준으로 문장 토큰화\n",
        "    encoded = tokenizer.texts_to_sequences([line])[0]\n",
        "    for i in range(1, len(encoded)):\n",
        "        sequence = encoded[:i+1]\n",
        "        sequences.append(sequence)\n",
        "\n",
        "print('학습에 사용할 샘플의 개수: %d' % len(sequences))"
      ],
      "execution_count": null,
      "outputs": [
        {
          "output_type": "stream",
          "name": "stdout",
          "text": [
            "학습에 사용할 샘플의 개수: 11\n"
          ]
        }
      ]
    },
    {
      "cell_type": "code",
      "metadata": {
        "colab": {
          "base_uri": "https://localhost:8080/"
        },
        "id": "Sn3ScsVyEKbO",
        "outputId": "65676236-4127-4dfa-dc17-b16be772151f"
      },
      "source": [
        "print(sequences)"
      ],
      "execution_count": null,
      "outputs": [
        {
          "output_type": "stream",
          "name": "stdout",
          "text": [
            "[[2, 3], [2, 3, 1], [2, 3, 1, 4], [2, 3, 1, 4, 5], [6, 1], [6, 1, 7], [8, 1], [8, 1, 9], [8, 1, 9, 10], [8, 1, 9, 10, 1], [8, 1, 9, 10, 1, 11]]\n"
          ]
        }
      ]
    },
    {
      "cell_type": "code",
      "metadata": {
        "colab": {
          "base_uri": "https://localhost:8080/"
        },
        "id": "2WQk_gFlELvO",
        "outputId": "e3ef7950-8881-4d36-88d1-11c132a70c38"
      },
      "source": [
        "max_len = max(len(l) for l in sequences) # 모든 샘플에서 길이가 가장 긴 샘플의 길이 출력\n",
        "print('샘플의 최대 길이 : {}'.format(max_len))"
      ],
      "execution_count": null,
      "outputs": [
        {
          "output_type": "stream",
          "name": "stdout",
          "text": [
            "샘플의 최대 길이 : 6\n"
          ]
        }
      ]
    },
    {
      "cell_type": "code",
      "metadata": {
        "id": "D9KPYYerEMiO"
      },
      "source": [
        "sequences = pad_sequences(sequences, maxlen=max_len, padding='pre')"
      ],
      "execution_count": null,
      "outputs": []
    },
    {
      "cell_type": "code",
      "metadata": {
        "colab": {
          "base_uri": "https://localhost:8080/"
        },
        "id": "H9dK4VDuENZW",
        "outputId": "9d0fadd1-ed2f-46c1-f97b-cc090e1f1b89"
      },
      "source": [
        "print(sequences)"
      ],
      "execution_count": null,
      "outputs": [
        {
          "output_type": "stream",
          "name": "stdout",
          "text": [
            "[[ 0  0  0  0  2  3]\n",
            " [ 0  0  0  2  3  1]\n",
            " [ 0  0  2  3  1  4]\n",
            " [ 0  2  3  1  4  5]\n",
            " [ 0  0  0  0  6  1]\n",
            " [ 0  0  0  6  1  7]\n",
            " [ 0  0  0  0  8  1]\n",
            " [ 0  0  0  8  1  9]\n",
            " [ 0  0  8  1  9 10]\n",
            " [ 0  8  1  9 10  1]\n",
            " [ 8  1  9 10  1 11]]\n"
          ]
        }
      ]
    },
    {
      "cell_type": "code",
      "metadata": {
        "id": "8Vu99bIZEOFG"
      },
      "source": [
        "sequences = np.array(sequences)\n",
        "X = sequences[:,:-1]\n",
        "y = sequences[:,-1]"
      ],
      "execution_count": null,
      "outputs": []
    },
    {
      "cell_type": "code",
      "metadata": {
        "colab": {
          "base_uri": "https://localhost:8080/"
        },
        "id": "U63gl8GMEPeG",
        "outputId": "30400821-5953-4af9-fc7c-4bdb6fa8ef2b"
      },
      "source": [
        "print(X)"
      ],
      "execution_count": null,
      "outputs": [
        {
          "output_type": "stream",
          "name": "stdout",
          "text": [
            "[[ 0  0  0  0  2]\n",
            " [ 0  0  0  2  3]\n",
            " [ 0  0  2  3  1]\n",
            " [ 0  2  3  1  4]\n",
            " [ 0  0  0  0  6]\n",
            " [ 0  0  0  6  1]\n",
            " [ 0  0  0  0  8]\n",
            " [ 0  0  0  8  1]\n",
            " [ 0  0  8  1  9]\n",
            " [ 0  8  1  9 10]\n",
            " [ 8  1  9 10  1]]\n"
          ]
        }
      ]
    },
    {
      "cell_type": "code",
      "metadata": {
        "colab": {
          "base_uri": "https://localhost:8080/"
        },
        "id": "11m6JFDBEWTe",
        "outputId": "6c529596-ae93-48f3-d2fa-b17d0d8c7d6f"
      },
      "source": [
        "print(y) # 모든 샘플에 대한 레이블 출력"
      ],
      "execution_count": null,
      "outputs": [
        {
          "output_type": "stream",
          "name": "stdout",
          "text": [
            "[ 3  1  4  5  1  7  1  9 10  1 11]\n"
          ]
        }
      ]
    },
    {
      "cell_type": "code",
      "metadata": {
        "id": "W3bLeTb1EXSe"
      },
      "source": [
        "y = to_categorical(y, num_classes=vocab_size)"
      ],
      "execution_count": null,
      "outputs": []
    },
    {
      "cell_type": "code",
      "metadata": {
        "colab": {
          "base_uri": "https://localhost:8080/"
        },
        "id": "rgaGRDAeEYY-",
        "outputId": "c610a783-951b-4a2a-b3d7-be9b4721f565"
      },
      "source": [
        "print(y)"
      ],
      "execution_count": null,
      "outputs": [
        {
          "output_type": "stream",
          "name": "stdout",
          "text": [
            "[[0. 0. 0. 1. 0. 0. 0. 0. 0. 0. 0. 0.]\n",
            " [0. 1. 0. 0. 0. 0. 0. 0. 0. 0. 0. 0.]\n",
            " [0. 0. 0. 0. 1. 0. 0. 0. 0. 0. 0. 0.]\n",
            " [0. 0. 0. 0. 0. 1. 0. 0. 0. 0. 0. 0.]\n",
            " [0. 1. 0. 0. 0. 0. 0. 0. 0. 0. 0. 0.]\n",
            " [0. 0. 0. 0. 0. 0. 0. 1. 0. 0. 0. 0.]\n",
            " [0. 1. 0. 0. 0. 0. 0. 0. 0. 0. 0. 0.]\n",
            " [0. 0. 0. 0. 0. 0. 0. 0. 0. 1. 0. 0.]\n",
            " [0. 0. 0. 0. 0. 0. 0. 0. 0. 0. 1. 0.]\n",
            " [0. 1. 0. 0. 0. 0. 0. 0. 0. 0. 0. 0.]\n",
            " [0. 0. 0. 0. 0. 0. 0. 0. 0. 0. 0. 1.]]\n"
          ]
        }
      ]
    },
    {
      "cell_type": "code",
      "metadata": {
        "id": "QbsqMkBKEZIe"
      },
      "source": [
        "from tensorflow.keras.models import Sequential\n",
        "from tensorflow.keras.layers import Embedding, Dense, SimpleRNN"
      ],
      "execution_count": null,
      "outputs": []
    },
    {
      "cell_type": "code",
      "metadata": {
        "colab": {
          "base_uri": "https://localhost:8080/"
        },
        "id": "da3yM5cTEeNn",
        "outputId": "6591ded1-0296-4e22-8e23-4ab3be797f1d"
      },
      "source": [
        "embedding_dim = 10\n",
        "hidden_units = 32\n",
        "\n",
        "model = Sequential()\n",
        "model.add(Embedding(vocab_size, embedding_dim))\n",
        "model.add(SimpleRNN(hidden_units))\n",
        "model.add(Dense(vocab_size, activation='softmax'))\n",
        "model.compile(loss='categorical_crossentropy', optimizer='adam', metrics=['accuracy'])\n",
        "model.fit(X, y, epochs=200, verbose=2)"
      ],
      "execution_count": null,
      "outputs": [
        {
          "output_type": "stream",
          "name": "stdout",
          "text": [
            "Epoch 1/200\n",
            "1/1 - 1s - loss: 2.4948 - accuracy: 0.0000e+00\n",
            "Epoch 2/200\n",
            "1/1 - 0s - loss: 2.4797 - accuracy: 0.0000e+00\n",
            "Epoch 3/200\n",
            "1/1 - 0s - loss: 2.4647 - accuracy: 0.2727\n",
            "Epoch 4/200\n",
            "1/1 - 0s - loss: 2.4495 - accuracy: 0.3636\n",
            "Epoch 5/200\n",
            "1/1 - 0s - loss: 2.4340 - accuracy: 0.2727\n",
            "Epoch 6/200\n",
            "1/1 - 0s - loss: 2.4180 - accuracy: 0.3636\n",
            "Epoch 7/200\n",
            "1/1 - 0s - loss: 2.4015 - accuracy: 0.3636\n",
            "Epoch 8/200\n",
            "1/1 - 0s - loss: 2.3843 - accuracy: 0.3636\n",
            "Epoch 9/200\n",
            "1/1 - 0s - loss: 2.3663 - accuracy: 0.3636\n",
            "Epoch 10/200\n",
            "1/1 - 0s - loss: 2.3474 - accuracy: 0.3636\n",
            "Epoch 11/200\n",
            "1/1 - 0s - loss: 2.3275 - accuracy: 0.3636\n",
            "Epoch 12/200\n",
            "1/1 - 0s - loss: 2.3065 - accuracy: 0.3636\n",
            "Epoch 13/200\n",
            "1/1 - 0s - loss: 2.2845 - accuracy: 0.3636\n",
            "Epoch 14/200\n",
            "1/1 - 0s - loss: 2.2615 - accuracy: 0.3636\n",
            "Epoch 15/200\n",
            "1/1 - 0s - loss: 2.2374 - accuracy: 0.3636\n",
            "Epoch 16/200\n",
            "1/1 - 0s - loss: 2.2123 - accuracy: 0.3636\n",
            "Epoch 17/200\n",
            "1/1 - 0s - loss: 2.1865 - accuracy: 0.3636\n",
            "Epoch 18/200\n",
            "1/1 - 0s - loss: 2.1600 - accuracy: 0.3636\n",
            "Epoch 19/200\n",
            "1/1 - 0s - loss: 2.1334 - accuracy: 0.3636\n",
            "Epoch 20/200\n",
            "1/1 - 0s - loss: 2.1069 - accuracy: 0.3636\n",
            "Epoch 21/200\n",
            "1/1 - 0s - loss: 2.0811 - accuracy: 0.3636\n",
            "Epoch 22/200\n",
            "1/1 - 0s - loss: 2.0567 - accuracy: 0.3636\n",
            "Epoch 23/200\n",
            "1/1 - 0s - loss: 2.0342 - accuracy: 0.3636\n",
            "Epoch 24/200\n",
            "1/1 - 0s - loss: 2.0142 - accuracy: 0.3636\n",
            "Epoch 25/200\n",
            "1/1 - 0s - loss: 1.9973 - accuracy: 0.3636\n",
            "Epoch 26/200\n",
            "1/1 - 0s - loss: 1.9834 - accuracy: 0.3636\n",
            "Epoch 27/200\n",
            "1/1 - 0s - loss: 1.9721 - accuracy: 0.3636\n",
            "Epoch 28/200\n",
            "1/1 - 0s - loss: 1.9628 - accuracy: 0.3636\n",
            "Epoch 29/200\n",
            "1/1 - 0s - loss: 1.9541 - accuracy: 0.3636\n",
            "Epoch 30/200\n",
            "1/1 - 0s - loss: 1.9451 - accuracy: 0.3636\n",
            "Epoch 31/200\n",
            "1/1 - 0s - loss: 1.9349 - accuracy: 0.3636\n",
            "Epoch 32/200\n",
            "1/1 - 0s - loss: 1.9231 - accuracy: 0.3636\n",
            "Epoch 33/200\n",
            "1/1 - 0s - loss: 1.9099 - accuracy: 0.3636\n",
            "Epoch 34/200\n",
            "1/1 - 0s - loss: 1.8956 - accuracy: 0.3636\n",
            "Epoch 35/200\n",
            "1/1 - 0s - loss: 1.8806 - accuracy: 0.3636\n",
            "Epoch 36/200\n",
            "1/1 - 0s - loss: 1.8655 - accuracy: 0.3636\n",
            "Epoch 37/200\n",
            "1/1 - 0s - loss: 1.8508 - accuracy: 0.3636\n",
            "Epoch 38/200\n",
            "1/1 - 0s - loss: 1.8368 - accuracy: 0.3636\n",
            "Epoch 39/200\n",
            "1/1 - 0s - loss: 1.8238 - accuracy: 0.3636\n",
            "Epoch 40/200\n",
            "1/1 - 0s - loss: 1.8116 - accuracy: 0.3636\n",
            "Epoch 41/200\n",
            "1/1 - 0s - loss: 1.8001 - accuracy: 0.3636\n",
            "Epoch 42/200\n",
            "1/1 - 0s - loss: 1.7892 - accuracy: 0.3636\n",
            "Epoch 43/200\n",
            "1/1 - 0s - loss: 1.7784 - accuracy: 0.3636\n",
            "Epoch 44/200\n",
            "1/1 - 0s - loss: 1.7676 - accuracy: 0.3636\n",
            "Epoch 45/200\n",
            "1/1 - 0s - loss: 1.7566 - accuracy: 0.3636\n",
            "Epoch 46/200\n",
            "1/1 - 0s - loss: 1.7451 - accuracy: 0.3636\n",
            "Epoch 47/200\n",
            "1/1 - 0s - loss: 1.7331 - accuracy: 0.3636\n",
            "Epoch 48/200\n",
            "1/1 - 0s - loss: 1.7205 - accuracy: 0.3636\n",
            "Epoch 49/200\n",
            "1/1 - 0s - loss: 1.7075 - accuracy: 0.3636\n",
            "Epoch 50/200\n",
            "1/1 - 0s - loss: 1.6941 - accuracy: 0.3636\n",
            "Epoch 51/200\n",
            "1/1 - 0s - loss: 1.6804 - accuracy: 0.3636\n",
            "Epoch 52/200\n",
            "1/1 - 0s - loss: 1.6665 - accuracy: 0.4545\n",
            "Epoch 53/200\n",
            "1/1 - 0s - loss: 1.6524 - accuracy: 0.4545\n",
            "Epoch 54/200\n",
            "1/1 - 0s - loss: 1.6381 - accuracy: 0.4545\n",
            "Epoch 55/200\n",
            "1/1 - 0s - loss: 1.6237 - accuracy: 0.4545\n",
            "Epoch 56/200\n",
            "1/1 - 0s - loss: 1.6090 - accuracy: 0.4545\n",
            "Epoch 57/200\n",
            "1/1 - 0s - loss: 1.5941 - accuracy: 0.4545\n",
            "Epoch 58/200\n",
            "1/1 - 0s - loss: 1.5788 - accuracy: 0.4545\n",
            "Epoch 59/200\n",
            "1/1 - 0s - loss: 1.5631 - accuracy: 0.4545\n",
            "Epoch 60/200\n",
            "1/1 - 0s - loss: 1.5470 - accuracy: 0.5455\n",
            "Epoch 61/200\n",
            "1/1 - 0s - loss: 1.5303 - accuracy: 0.5455\n",
            "Epoch 62/200\n",
            "1/1 - 0s - loss: 1.5131 - accuracy: 0.5455\n",
            "Epoch 63/200\n",
            "1/1 - 0s - loss: 1.4955 - accuracy: 0.5455\n",
            "Epoch 64/200\n",
            "1/1 - 0s - loss: 1.4774 - accuracy: 0.5455\n",
            "Epoch 65/200\n",
            "1/1 - 0s - loss: 1.4591 - accuracy: 0.5455\n",
            "Epoch 66/200\n",
            "1/1 - 0s - loss: 1.4404 - accuracy: 0.5455\n",
            "Epoch 67/200\n",
            "1/1 - 0s - loss: 1.4216 - accuracy: 0.5455\n",
            "Epoch 68/200\n",
            "1/1 - 0s - loss: 1.4026 - accuracy: 0.6364\n",
            "Epoch 69/200\n",
            "1/1 - 0s - loss: 1.3835 - accuracy: 0.6364\n",
            "Epoch 70/200\n",
            "1/1 - 0s - loss: 1.3643 - accuracy: 0.6364\n",
            "Epoch 71/200\n",
            "1/1 - 0s - loss: 1.3450 - accuracy: 0.6364\n",
            "Epoch 72/200\n",
            "1/1 - 0s - loss: 1.3256 - accuracy: 0.6364\n",
            "Epoch 73/200\n",
            "1/1 - 0s - loss: 1.3062 - accuracy: 0.6364\n",
            "Epoch 74/200\n",
            "1/1 - 0s - loss: 1.2868 - accuracy: 0.6364\n",
            "Epoch 75/200\n",
            "1/1 - 0s - loss: 1.2675 - accuracy: 0.6364\n",
            "Epoch 76/200\n",
            "1/1 - 0s - loss: 1.2481 - accuracy: 0.6364\n",
            "Epoch 77/200\n",
            "1/1 - 0s - loss: 1.2289 - accuracy: 0.6364\n",
            "Epoch 78/200\n",
            "1/1 - 0s - loss: 1.2097 - accuracy: 0.6364\n",
            "Epoch 79/200\n",
            "1/1 - 0s - loss: 1.1907 - accuracy: 0.6364\n",
            "Epoch 80/200\n",
            "1/1 - 0s - loss: 1.1718 - accuracy: 0.7273\n",
            "Epoch 81/200\n",
            "1/1 - 0s - loss: 1.1532 - accuracy: 0.7273\n",
            "Epoch 82/200\n",
            "1/1 - 0s - loss: 1.1347 - accuracy: 0.7273\n",
            "Epoch 83/200\n",
            "1/1 - 0s - loss: 1.1165 - accuracy: 0.7273\n",
            "Epoch 84/200\n",
            "1/1 - 0s - loss: 1.0985 - accuracy: 0.7273\n",
            "Epoch 85/200\n",
            "1/1 - 0s - loss: 1.0807 - accuracy: 0.7273\n",
            "Epoch 86/200\n",
            "1/1 - 0s - loss: 1.0632 - accuracy: 0.7273\n",
            "Epoch 87/200\n",
            "1/1 - 0s - loss: 1.0460 - accuracy: 0.7273\n",
            "Epoch 88/200\n",
            "1/1 - 0s - loss: 1.0290 - accuracy: 0.7273\n",
            "Epoch 89/200\n",
            "1/1 - 0s - loss: 1.0123 - accuracy: 0.7273\n",
            "Epoch 90/200\n",
            "1/1 - 0s - loss: 0.9959 - accuracy: 0.7273\n",
            "Epoch 91/200\n",
            "1/1 - 0s - loss: 0.9798 - accuracy: 0.7273\n",
            "Epoch 92/200\n",
            "1/1 - 0s - loss: 0.9640 - accuracy: 0.7273\n",
            "Epoch 93/200\n",
            "1/1 - 0s - loss: 0.9485 - accuracy: 0.7273\n",
            "Epoch 94/200\n",
            "1/1 - 0s - loss: 0.9332 - accuracy: 0.7273\n",
            "Epoch 95/200\n",
            "1/1 - 0s - loss: 0.9183 - accuracy: 0.7273\n",
            "Epoch 96/200\n",
            "1/1 - 0s - loss: 0.9035 - accuracy: 0.7273\n",
            "Epoch 97/200\n",
            "1/1 - 0s - loss: 0.8891 - accuracy: 0.7273\n",
            "Epoch 98/200\n",
            "1/1 - 0s - loss: 0.8748 - accuracy: 0.7273\n",
            "Epoch 99/200\n",
            "1/1 - 0s - loss: 0.8608 - accuracy: 0.7273\n",
            "Epoch 100/200\n",
            "1/1 - 0s - loss: 0.8470 - accuracy: 0.7273\n",
            "Epoch 101/200\n",
            "1/1 - 0s - loss: 0.8335 - accuracy: 0.7273\n",
            "Epoch 102/200\n",
            "1/1 - 0s - loss: 0.8201 - accuracy: 0.7273\n",
            "Epoch 103/200\n",
            "1/1 - 0s - loss: 0.8070 - accuracy: 0.7273\n",
            "Epoch 104/200\n",
            "1/1 - 0s - loss: 0.7940 - accuracy: 0.7273\n",
            "Epoch 105/200\n",
            "1/1 - 0s - loss: 0.7813 - accuracy: 0.7273\n",
            "Epoch 106/200\n",
            "1/1 - 0s - loss: 0.7687 - accuracy: 0.7273\n",
            "Epoch 107/200\n",
            "1/1 - 0s - loss: 0.7563 - accuracy: 0.7273\n",
            "Epoch 108/200\n",
            "1/1 - 0s - loss: 0.7440 - accuracy: 0.7273\n",
            "Epoch 109/200\n",
            "1/1 - 0s - loss: 0.7319 - accuracy: 0.7273\n",
            "Epoch 110/200\n",
            "1/1 - 0s - loss: 0.7200 - accuracy: 0.7273\n",
            "Epoch 111/200\n",
            "1/1 - 0s - loss: 0.7083 - accuracy: 0.7273\n",
            "Epoch 112/200\n",
            "1/1 - 0s - loss: 0.6967 - accuracy: 0.7273\n",
            "Epoch 113/200\n",
            "1/1 - 0s - loss: 0.6852 - accuracy: 0.7273\n",
            "Epoch 114/200\n",
            "1/1 - 0s - loss: 0.6739 - accuracy: 0.7273\n",
            "Epoch 115/200\n",
            "1/1 - 0s - loss: 0.6627 - accuracy: 0.7273\n",
            "Epoch 116/200\n",
            "1/1 - 0s - loss: 0.6517 - accuracy: 0.8182\n",
            "Epoch 117/200\n",
            "1/1 - 0s - loss: 0.6408 - accuracy: 0.9091\n",
            "Epoch 118/200\n",
            "1/1 - 0s - loss: 0.6301 - accuracy: 0.9091\n",
            "Epoch 119/200\n",
            "1/1 - 0s - loss: 0.6195 - accuracy: 0.9091\n",
            "Epoch 120/200\n",
            "1/1 - 0s - loss: 0.6090 - accuracy: 0.9091\n",
            "Epoch 121/200\n",
            "1/1 - 0s - loss: 0.5986 - accuracy: 0.9091\n",
            "Epoch 122/200\n",
            "1/1 - 0s - loss: 0.5884 - accuracy: 0.9091\n",
            "Epoch 123/200\n",
            "1/1 - 0s - loss: 0.5784 - accuracy: 0.9091\n",
            "Epoch 124/200\n",
            "1/1 - 0s - loss: 0.5684 - accuracy: 0.9091\n",
            "Epoch 125/200\n",
            "1/1 - 0s - loss: 0.5586 - accuracy: 0.9091\n",
            "Epoch 126/200\n",
            "1/1 - 0s - loss: 0.5489 - accuracy: 0.9091\n",
            "Epoch 127/200\n",
            "1/1 - 0s - loss: 0.5394 - accuracy: 0.9091\n",
            "Epoch 128/200\n",
            "1/1 - 0s - loss: 0.5300 - accuracy: 0.9091\n",
            "Epoch 129/200\n",
            "1/1 - 0s - loss: 0.5207 - accuracy: 0.9091\n",
            "Epoch 130/200\n",
            "1/1 - 0s - loss: 0.5115 - accuracy: 0.9091\n",
            "Epoch 131/200\n",
            "1/1 - 0s - loss: 0.5024 - accuracy: 0.9091\n",
            "Epoch 132/200\n",
            "1/1 - 0s - loss: 0.4935 - accuracy: 0.9091\n",
            "Epoch 133/200\n",
            "1/1 - 0s - loss: 0.4847 - accuracy: 0.9091\n",
            "Epoch 134/200\n",
            "1/1 - 0s - loss: 0.4760 - accuracy: 0.9091\n",
            "Epoch 135/200\n",
            "1/1 - 0s - loss: 0.4674 - accuracy: 0.9091\n",
            "Epoch 136/200\n",
            "1/1 - 0s - loss: 0.4589 - accuracy: 0.9091\n",
            "Epoch 137/200\n",
            "1/1 - 0s - loss: 0.4506 - accuracy: 0.9091\n",
            "Epoch 138/200\n",
            "1/1 - 0s - loss: 0.4423 - accuracy: 0.9091\n",
            "Epoch 139/200\n",
            "1/1 - 0s - loss: 0.4342 - accuracy: 0.9091\n",
            "Epoch 140/200\n",
            "1/1 - 0s - loss: 0.4262 - accuracy: 0.9091\n",
            "Epoch 141/200\n",
            "1/1 - 0s - loss: 0.4182 - accuracy: 0.9091\n",
            "Epoch 142/200\n",
            "1/1 - 0s - loss: 0.4104 - accuracy: 0.9091\n",
            "Epoch 143/200\n",
            "1/1 - 0s - loss: 0.4027 - accuracy: 0.9091\n",
            "Epoch 144/200\n",
            "1/1 - 0s - loss: 0.3951 - accuracy: 0.9091\n",
            "Epoch 145/200\n",
            "1/1 - 0s - loss: 0.3876 - accuracy: 0.9091\n",
            "Epoch 146/200\n",
            "1/1 - 0s - loss: 0.3802 - accuracy: 0.9091\n",
            "Epoch 147/200\n",
            "1/1 - 0s - loss: 0.3729 - accuracy: 0.9091\n",
            "Epoch 148/200\n",
            "1/1 - 0s - loss: 0.3657 - accuracy: 0.9091\n",
            "Epoch 149/200\n",
            "1/1 - 0s - loss: 0.3587 - accuracy: 0.9091\n",
            "Epoch 150/200\n",
            "1/1 - 0s - loss: 0.3517 - accuracy: 0.9091\n",
            "Epoch 151/200\n",
            "1/1 - 0s - loss: 0.3448 - accuracy: 0.9091\n",
            "Epoch 152/200\n",
            "1/1 - 0s - loss: 0.3380 - accuracy: 0.9091\n",
            "Epoch 153/200\n",
            "1/1 - 0s - loss: 0.3314 - accuracy: 1.0000\n",
            "Epoch 154/200\n",
            "1/1 - 0s - loss: 0.3248 - accuracy: 1.0000\n",
            "Epoch 155/200\n",
            "1/1 - 0s - loss: 0.3183 - accuracy: 1.0000\n",
            "Epoch 156/200\n",
            "1/1 - 0s - loss: 0.3120 - accuracy: 1.0000\n",
            "Epoch 157/200\n",
            "1/1 - 0s - loss: 0.3057 - accuracy: 1.0000\n",
            "Epoch 158/200\n",
            "1/1 - 0s - loss: 0.2996 - accuracy: 1.0000\n",
            "Epoch 159/200\n",
            "1/1 - 0s - loss: 0.2935 - accuracy: 1.0000\n",
            "Epoch 160/200\n",
            "1/1 - 0s - loss: 0.2876 - accuracy: 1.0000\n",
            "Epoch 161/200\n",
            "1/1 - 0s - loss: 0.2817 - accuracy: 1.0000\n",
            "Epoch 162/200\n",
            "1/1 - 0s - loss: 0.2760 - accuracy: 1.0000\n",
            "Epoch 163/200\n",
            "1/1 - 0s - loss: 0.2703 - accuracy: 1.0000\n",
            "Epoch 164/200\n",
            "1/1 - 0s - loss: 0.2648 - accuracy: 1.0000\n",
            "Epoch 165/200\n",
            "1/1 - 0s - loss: 0.2593 - accuracy: 1.0000\n",
            "Epoch 166/200\n",
            "1/1 - 0s - loss: 0.2540 - accuracy: 1.0000\n",
            "Epoch 167/200\n",
            "1/1 - 0s - loss: 0.2488 - accuracy: 1.0000\n",
            "Epoch 168/200\n",
            "1/1 - 0s - loss: 0.2436 - accuracy: 1.0000\n",
            "Epoch 169/200\n",
            "1/1 - 0s - loss: 0.2386 - accuracy: 1.0000\n",
            "Epoch 170/200\n",
            "1/1 - 0s - loss: 0.2337 - accuracy: 1.0000\n",
            "Epoch 171/200\n",
            "1/1 - 0s - loss: 0.2288 - accuracy: 1.0000\n",
            "Epoch 172/200\n",
            "1/1 - 0s - loss: 0.2241 - accuracy: 1.0000\n",
            "Epoch 173/200\n",
            "1/1 - 0s - loss: 0.2195 - accuracy: 1.0000\n",
            "Epoch 174/200\n",
            "1/1 - 0s - loss: 0.2149 - accuracy: 1.0000\n",
            "Epoch 175/200\n",
            "1/1 - 0s - loss: 0.2105 - accuracy: 1.0000\n",
            "Epoch 176/200\n",
            "1/1 - 0s - loss: 0.2061 - accuracy: 1.0000\n",
            "Epoch 177/200\n",
            "1/1 - 0s - loss: 0.2019 - accuracy: 1.0000\n",
            "Epoch 178/200\n",
            "1/1 - 0s - loss: 0.1977 - accuracy: 1.0000\n",
            "Epoch 179/200\n",
            "1/1 - 0s - loss: 0.1937 - accuracy: 1.0000\n",
            "Epoch 180/200\n",
            "1/1 - 0s - loss: 0.1897 - accuracy: 1.0000\n",
            "Epoch 181/200\n",
            "1/1 - 0s - loss: 0.1858 - accuracy: 1.0000\n",
            "Epoch 182/200\n",
            "1/1 - 0s - loss: 0.1820 - accuracy: 1.0000\n",
            "Epoch 183/200\n",
            "1/1 - 0s - loss: 0.1783 - accuracy: 1.0000\n",
            "Epoch 184/200\n",
            "1/1 - 0s - loss: 0.1747 - accuracy: 1.0000\n",
            "Epoch 185/200\n",
            "1/1 - 0s - loss: 0.1711 - accuracy: 1.0000\n",
            "Epoch 186/200\n",
            "1/1 - 0s - loss: 0.1677 - accuracy: 1.0000\n",
            "Epoch 187/200\n",
            "1/1 - 0s - loss: 0.1643 - accuracy: 1.0000\n",
            "Epoch 188/200\n",
            "1/1 - 0s - loss: 0.1610 - accuracy: 1.0000\n",
            "Epoch 189/200\n",
            "1/1 - 0s - loss: 0.1578 - accuracy: 1.0000\n",
            "Epoch 190/200\n",
            "1/1 - 0s - loss: 0.1547 - accuracy: 1.0000\n",
            "Epoch 191/200\n",
            "1/1 - 0s - loss: 0.1516 - accuracy: 1.0000\n",
            "Epoch 192/200\n",
            "1/1 - 0s - loss: 0.1487 - accuracy: 1.0000\n",
            "Epoch 193/200\n",
            "1/1 - 0s - loss: 0.1458 - accuracy: 1.0000\n",
            "Epoch 194/200\n",
            "1/1 - 0s - loss: 0.1429 - accuracy: 1.0000\n",
            "Epoch 195/200\n",
            "1/1 - 0s - loss: 0.1402 - accuracy: 1.0000\n",
            "Epoch 196/200\n",
            "1/1 - 0s - loss: 0.1375 - accuracy: 1.0000\n",
            "Epoch 197/200\n",
            "1/1 - 0s - loss: 0.1348 - accuracy: 1.0000\n",
            "Epoch 198/200\n",
            "1/1 - 0s - loss: 0.1323 - accuracy: 1.0000\n",
            "Epoch 199/200\n",
            "1/1 - 0s - loss: 0.1297 - accuracy: 1.0000\n",
            "Epoch 200/200\n",
            "1/1 - 0s - loss: 0.1273 - accuracy: 1.0000\n"
          ]
        },
        {
          "output_type": "execute_result",
          "data": {
            "text/plain": [
              "<keras.callbacks.History at 0x7fc83e0a20d0>"
            ]
          },
          "metadata": {},
          "execution_count": 18
        }
      ]
    },
    {
      "cell_type": "code",
      "metadata": {
        "id": "t96dpxgNEl4v"
      },
      "source": [
        "def sentence_generation(model, tokenizer, current_word, n): # 모델, 토크나이저, 현재 단어, 반복할 횟수\n",
        "    init_word = current_word\n",
        "    sentence = ''\n",
        "\n",
        "    # n번 반복\n",
        "    for _ in range(n):\n",
        "        # 현재 단어에 대한 정수 인코딩과 패딩\n",
        "        encoded = tokenizer.texts_to_sequences([current_word])[0]\n",
        "        encoded = pad_sequences([encoded], maxlen=5, padding='pre')\n",
        "        # 입력한 X(현재 단어)에 대해서 Y를 예측하고 Y(예측한 단어)를 result에 저장.\n",
        "        result = model.predict(encoded, verbose=0)\n",
        "        result = np.argmax(result, axis=1)\n",
        "\n",
        "        for word, index in tokenizer.word_index.items(): \n",
        "            # 만약 예측한 단어와 인덱스와 동일한 단어가 있다면 break\n",
        "            if index == result:\n",
        "                break\n",
        "\n",
        "        # 현재 단어 + ' ' + 예측 단어를 현재 단어로 변경\n",
        "        current_word = current_word + ' '  + word\n",
        "\n",
        "        # 예측 단어를 문장에 저장\n",
        "        sentence = sentence + ' ' + word\n",
        "\n",
        "    sentence = init_word + sentence\n",
        "    return sentence"
      ],
      "execution_count": null,
      "outputs": []
    },
    {
      "cell_type": "code",
      "metadata": {
        "colab": {
          "base_uri": "https://localhost:8080/"
        },
        "id": "jJjBZ6PxE0EX",
        "outputId": "97e43ec0-2ff3-4894-c14e-18574b262c1e"
      },
      "source": [
        "print(sentence_generation(model, tokenizer, '경마장에', 4))"
      ],
      "execution_count": null,
      "outputs": [
        {
          "output_type": "stream",
          "name": "stdout",
          "text": [
            "경마장에 있는 말이 뛰고 있다\n"
          ]
        }
      ]
    },
    {
      "cell_type": "code",
      "metadata": {
        "colab": {
          "base_uri": "https://localhost:8080/"
        },
        "id": "AOfI9YuUFVv2",
        "outputId": "f68c61c3-7704-454b-fa70-80164c95c627"
      },
      "source": [
        "print(sentence_generation(model, tokenizer, '그의', 2))"
      ],
      "execution_count": null,
      "outputs": [
        {
          "output_type": "stream",
          "name": "stdout",
          "text": [
            "그의 말이 법이다\n"
          ]
        }
      ]
    },
    {
      "cell_type": "code",
      "metadata": {
        "colab": {
          "base_uri": "https://localhost:8080/"
        },
        "id": "Gl9zEMmzFh9u",
        "outputId": "6bd5632e-62df-446c-d1ce-10a201134835"
      },
      "source": [
        "print(sentence_generation(model, tokenizer, '가는', 5))"
      ],
      "execution_count": null,
      "outputs": [
        {
          "output_type": "stream",
          "name": "stdout",
          "text": [
            "가는 말이 고와야 오는 말이 곱다\n"
          ]
        }
      ]
    },
    {
      "cell_type": "markdown",
      "metadata": {
        "id": "jJtAdaMtGn6T"
      },
      "source": [
        "# 2. LSTM을 이용하여 텍스트 생성하기"
      ]
    },
    {
      "cell_type": "code",
      "metadata": {
        "id": "wCIJkMG5Go1f"
      },
      "source": [
        "import pandas as pd\n",
        "import numpy as np\n",
        "from string import punctuation\n",
        "\n",
        "from tensorflow.keras.preprocessing.text import Tokenizer\n",
        "from tensorflow.keras.preprocessing.sequence import pad_sequences\n",
        "from tensorflow.keras.utils import to_categorical"
      ],
      "execution_count": null,
      "outputs": []
    },
    {
      "cell_type": "code",
      "metadata": {
        "colab": {
          "base_uri": "https://localhost:8080/",
          "height": 653
        },
        "id": "BhA4cyOgGrTP",
        "outputId": "eb3a9763-f7dc-4380-def7-8a864d48352f"
      },
      "source": [
        "df = pd.read_csv('ArticlesApril2018.csv')\n",
        "df.head()"
      ],
      "execution_count": null,
      "outputs": [
        {
          "output_type": "execute_result",
          "data": {
            "text/html": [
              "<div>\n",
              "<style scoped>\n",
              "    .dataframe tbody tr th:only-of-type {\n",
              "        vertical-align: middle;\n",
              "    }\n",
              "\n",
              "    .dataframe tbody tr th {\n",
              "        vertical-align: top;\n",
              "    }\n",
              "\n",
              "    .dataframe thead th {\n",
              "        text-align: right;\n",
              "    }\n",
              "</style>\n",
              "<table border=\"1\" class=\"dataframe\">\n",
              "  <thead>\n",
              "    <tr style=\"text-align: right;\">\n",
              "      <th></th>\n",
              "      <th>articleID</th>\n",
              "      <th>articleWordCount</th>\n",
              "      <th>byline</th>\n",
              "      <th>documentType</th>\n",
              "      <th>headline</th>\n",
              "      <th>keywords</th>\n",
              "      <th>multimedia</th>\n",
              "      <th>newDesk</th>\n",
              "      <th>printPage</th>\n",
              "      <th>pubDate</th>\n",
              "      <th>sectionName</th>\n",
              "      <th>snippet</th>\n",
              "      <th>source</th>\n",
              "      <th>typeOfMaterial</th>\n",
              "      <th>webURL</th>\n",
              "    </tr>\n",
              "  </thead>\n",
              "  <tbody>\n",
              "    <tr>\n",
              "      <th>0</th>\n",
              "      <td>5adf6684068401528a2aa69b</td>\n",
              "      <td>781</td>\n",
              "      <td>By JOHN BRANCH</td>\n",
              "      <td>article</td>\n",
              "      <td>Former N.F.L. Cheerleaders’ Settlement Offer: ...</td>\n",
              "      <td>['Workplace Hazards and Violations', 'Football...</td>\n",
              "      <td>68</td>\n",
              "      <td>Sports</td>\n",
              "      <td>0</td>\n",
              "      <td>2018-04-24 17:16:49</td>\n",
              "      <td>Pro Football</td>\n",
              "      <td>“I understand that they could meet with us, pa...</td>\n",
              "      <td>The New York Times</td>\n",
              "      <td>News</td>\n",
              "      <td>https://www.nytimes.com/2018/04/24/sports/foot...</td>\n",
              "    </tr>\n",
              "    <tr>\n",
              "      <th>1</th>\n",
              "      <td>5adf653f068401528a2aa697</td>\n",
              "      <td>656</td>\n",
              "      <td>By LISA FRIEDMAN</td>\n",
              "      <td>article</td>\n",
              "      <td>E.P.A. to Unveil a New Rule. Its Effect: Less ...</td>\n",
              "      <td>['Environmental Protection Agency', 'Pruitt, S...</td>\n",
              "      <td>68</td>\n",
              "      <td>Climate</td>\n",
              "      <td>0</td>\n",
              "      <td>2018-04-24 17:11:21</td>\n",
              "      <td>Unknown</td>\n",
              "      <td>The agency plans to publish a new regulation T...</td>\n",
              "      <td>The New York Times</td>\n",
              "      <td>News</td>\n",
              "      <td>https://www.nytimes.com/2018/04/24/climate/epa...</td>\n",
              "    </tr>\n",
              "    <tr>\n",
              "      <th>2</th>\n",
              "      <td>5adf4626068401528a2aa628</td>\n",
              "      <td>2427</td>\n",
              "      <td>By PETE WELLS</td>\n",
              "      <td>article</td>\n",
              "      <td>The New Noma, Explained</td>\n",
              "      <td>['Restaurants', 'Noma (Copenhagen, Restaurant)...</td>\n",
              "      <td>66</td>\n",
              "      <td>Dining</td>\n",
              "      <td>0</td>\n",
              "      <td>2018-04-24 14:58:44</td>\n",
              "      <td>Unknown</td>\n",
              "      <td>What’s it like to eat at the second incarnatio...</td>\n",
              "      <td>The New York Times</td>\n",
              "      <td>News</td>\n",
              "      <td>https://www.nytimes.com/2018/04/24/dining/noma...</td>\n",
              "    </tr>\n",
              "    <tr>\n",
              "      <th>3</th>\n",
              "      <td>5adf40d2068401528a2aa619</td>\n",
              "      <td>626</td>\n",
              "      <td>By JULIE HIRSCHFELD DAVIS and PETER BAKER</td>\n",
              "      <td>article</td>\n",
              "      <td>Unknown</td>\n",
              "      <td>['Macron, Emmanuel (1977- )', 'Trump, Donald J...</td>\n",
              "      <td>68</td>\n",
              "      <td>Washington</td>\n",
              "      <td>0</td>\n",
              "      <td>2018-04-24 14:35:57</td>\n",
              "      <td>Europe</td>\n",
              "      <td>President Trump welcomed President Emmanuel Ma...</td>\n",
              "      <td>The New York Times</td>\n",
              "      <td>News</td>\n",
              "      <td>https://www.nytimes.com/2018/04/24/world/europ...</td>\n",
              "    </tr>\n",
              "    <tr>\n",
              "      <th>4</th>\n",
              "      <td>5adf3d64068401528a2aa60f</td>\n",
              "      <td>815</td>\n",
              "      <td>By IAN AUSTEN and DAN BILEFSKY</td>\n",
              "      <td>article</td>\n",
              "      <td>Unknown</td>\n",
              "      <td>['Toronto, Ontario, Attack (April, 2018)', 'Mu...</td>\n",
              "      <td>68</td>\n",
              "      <td>Foreign</td>\n",
              "      <td>0</td>\n",
              "      <td>2018-04-24 14:21:21</td>\n",
              "      <td>Canada</td>\n",
              "      <td>Alek Minassian, 25, a resident of Toronto’s Ri...</td>\n",
              "      <td>The New York Times</td>\n",
              "      <td>News</td>\n",
              "      <td>https://www.nytimes.com/2018/04/24/world/canad...</td>\n",
              "    </tr>\n",
              "  </tbody>\n",
              "</table>\n",
              "</div>"
            ],
            "text/plain": [
              "                  articleID  ...                                             webURL\n",
              "0  5adf6684068401528a2aa69b  ...  https://www.nytimes.com/2018/04/24/sports/foot...\n",
              "1  5adf653f068401528a2aa697  ...  https://www.nytimes.com/2018/04/24/climate/epa...\n",
              "2  5adf4626068401528a2aa628  ...  https://www.nytimes.com/2018/04/24/dining/noma...\n",
              "3  5adf40d2068401528a2aa619  ...  https://www.nytimes.com/2018/04/24/world/europ...\n",
              "4  5adf3d64068401528a2aa60f  ...  https://www.nytimes.com/2018/04/24/world/canad...\n",
              "\n",
              "[5 rows x 15 columns]"
            ]
          },
          "metadata": {},
          "execution_count": 30
        }
      ]
    },
    {
      "cell_type": "code",
      "metadata": {
        "colab": {
          "base_uri": "https://localhost:8080/"
        },
        "id": "zMugfN6GGtNH",
        "outputId": "a6db3092-c0d1-4b90-952d-577501647ff9"
      },
      "source": [
        "print('열의 개수: ',len(df.columns))\n",
        "print(df.columns)"
      ],
      "execution_count": null,
      "outputs": [
        {
          "output_type": "stream",
          "name": "stdout",
          "text": [
            "열의 개수:  15\n",
            "Index(['articleID', 'articleWordCount', 'byline', 'documentType', 'headline',\n",
            "       'keywords', 'multimedia', 'newDesk', 'printPage', 'pubDate',\n",
            "       'sectionName', 'snippet', 'source', 'typeOfMaterial', 'webURL'],\n",
            "      dtype='object')\n"
          ]
        }
      ]
    },
    {
      "cell_type": "code",
      "metadata": {
        "colab": {
          "base_uri": "https://localhost:8080/"
        },
        "id": "RNK4ABDtGyMH",
        "outputId": "b8ac8eda-6593-4f5a-8277-73fbb953dfd2"
      },
      "source": [
        "print(df['headline'].isnull().values.any())"
      ],
      "execution_count": null,
      "outputs": [
        {
          "output_type": "stream",
          "name": "stdout",
          "text": [
            "False\n"
          ]
        }
      ]
    },
    {
      "cell_type": "code",
      "metadata": {
        "colab": {
          "base_uri": "https://localhost:8080/"
        },
        "id": "EGeLDG7EGz7P",
        "outputId": "55ff7eef-f726-4f41-d787-16f0067af032"
      },
      "source": [
        "headline = []\n",
        "# 헤드라인의 값들을 리스트로 저장\n",
        "headline.extend(list(df.headline.values)) \n",
        "headline[:5]"
      ],
      "execution_count": null,
      "outputs": [
        {
          "output_type": "execute_result",
          "data": {
            "text/plain": [
              "['Former N.F.L. Cheerleaders’ Settlement Offer: $1 and a Meeting With Goodell',\n",
              " 'E.P.A. to Unveil a New Rule. Its Effect: Less Science in Policymaking.',\n",
              " 'The New Noma, Explained',\n",
              " 'Unknown',\n",
              " 'Unknown']"
            ]
          },
          "metadata": {},
          "execution_count": 38
        }
      ]
    },
    {
      "cell_type": "code",
      "metadata": {
        "colab": {
          "base_uri": "https://localhost:8080/"
        },
        "id": "379FN70HG2XX",
        "outputId": "bae6a114-8d25-461d-c151-bffbded4800c"
      },
      "source": [
        "print('총 샘플의 개수 : {}'.format(len(headline))) # 현재 샘플의 개수"
      ],
      "execution_count": null,
      "outputs": [
        {
          "output_type": "stream",
          "name": "stdout",
          "text": [
            "총 샘플의 개수 : 1324\n"
          ]
        }
      ]
    },
    {
      "cell_type": "code",
      "metadata": {
        "colab": {
          "base_uri": "https://localhost:8080/"
        },
        "id": "zy8-4-AyG9Hv",
        "outputId": "8bf17e8e-a401-4a12-de70-23dc4abcfded"
      },
      "source": [
        " # Unknown 값을 가진 샘플 제거\n",
        "headline = [word for word in headline if word != \"Unknown\"]\n",
        "print('노이즈값 제거 후 샘플의 개수 : {}'.format(len(headline)))"
      ],
      "execution_count": null,
      "outputs": [
        {
          "output_type": "stream",
          "name": "stdout",
          "text": [
            "노이즈값 제거 후 샘플의 개수 : 1214\n"
          ]
        }
      ]
    },
    {
      "cell_type": "code",
      "metadata": {
        "colab": {
          "base_uri": "https://localhost:8080/"
        },
        "id": "pLGQ7s_2G_3W",
        "outputId": "90283ab8-8a0c-4920-e659-be03e117803d"
      },
      "source": [
        "def repreprocessing(raw_sentence):\n",
        "    preproceseed_sentence = raw_sentence.encode(\"utf8\").decode(\"ascii\",'ignore')\n",
        "    # 구두점 제거와 동시에 소문자화\n",
        "    return ''.join(word for word in preproceseed_sentence if word not in punctuation).lower()\n",
        "\n",
        "preporcessed_headline = [repreprocessing(x) for x in headline]\n",
        "preporcessed_headline[:5]"
      ],
      "execution_count": null,
      "outputs": [
        {
          "output_type": "execute_result",
          "data": {
            "text/plain": [
              "['former nfl cheerleaders settlement offer 1 and a meeting with goodell',\n",
              " 'epa to unveil a new rule its effect less science in policymaking',\n",
              " 'the new noma explained',\n",
              " 'how a bag of texas dirt  became a times tradition',\n",
              " 'is school a place for selfexpression']"
            ]
          },
          "metadata": {},
          "execution_count": 42
        }
      ]
    },
    {
      "cell_type": "code",
      "metadata": {
        "colab": {
          "base_uri": "https://localhost:8080/"
        },
        "id": "18-SLG1YHFb3",
        "outputId": "ea9a9626-9406-4e54-eed7-575601cd8e35"
      },
      "source": [
        "tokenizer = Tokenizer()\n",
        "tokenizer.fit_on_texts(preporcessed_headline)\n",
        "vocab_size = len(tokenizer.word_index) + 1\n",
        "print('단어 집합의 크기 : %d' % vocab_size)"
      ],
      "execution_count": null,
      "outputs": [
        {
          "output_type": "stream",
          "name": "stdout",
          "text": [
            "단어 집합의 크기 : 3494\n"
          ]
        }
      ]
    },
    {
      "cell_type": "code",
      "metadata": {
        "colab": {
          "base_uri": "https://localhost:8080/"
        },
        "id": "_9PRhbYzHmrX",
        "outputId": "d0acbe0e-9034-4626-e08f-40fd3ef3b7ea"
      },
      "source": [
        "sequences = list()\n",
        "\n",
        "for sentence in preporcessed_headline:\n",
        "\n",
        "    # 각 샘플에 대한 정수 인코딩\n",
        "    encoded = tokenizer.texts_to_sequences([sentence])[0] \n",
        "    for i in range(1, len(encoded)):\n",
        "        sequence = encoded[:i+1]\n",
        "        sequences.append(sequence)\n",
        "\n",
        "sequences[:11]"
      ],
      "execution_count": null,
      "outputs": [
        {
          "output_type": "execute_result",
          "data": {
            "text/plain": [
              "[[99, 269],\n",
              " [99, 269, 371],\n",
              " [99, 269, 371, 1115],\n",
              " [99, 269, 371, 1115, 582],\n",
              " [99, 269, 371, 1115, 582, 52],\n",
              " [99, 269, 371, 1115, 582, 52, 7],\n",
              " [99, 269, 371, 1115, 582, 52, 7, 2],\n",
              " [99, 269, 371, 1115, 582, 52, 7, 2, 372],\n",
              " [99, 269, 371, 1115, 582, 52, 7, 2, 372, 10],\n",
              " [99, 269, 371, 1115, 582, 52, 7, 2, 372, 10, 1116],\n",
              " [100, 3]]"
            ]
          },
          "metadata": {},
          "execution_count": 44
        }
      ]
    },
    {
      "cell_type": "code",
      "metadata": {
        "colab": {
          "base_uri": "https://localhost:8080/"
        },
        "id": "uB9VhghgH4Uf",
        "outputId": "8d4f09e4-dea3-4b53-cb78-780d12129bd5"
      },
      "source": [
        "index_to_word = {}\n",
        "for key, value in tokenizer.word_index.items(): # 인덱스를 단어로 바꾸기 위해 index_to_word를 생성\n",
        "    index_to_word[value] = key\n",
        "\n",
        "print('빈도수 상위 582번 단어 : {}'.format(index_to_word[582]))"
      ],
      "execution_count": null,
      "outputs": [
        {
          "output_type": "stream",
          "name": "stdout",
          "text": [
            "빈도수 상위 582번 단어 : offer\n"
          ]
        }
      ]
    },
    {
      "cell_type": "code",
      "metadata": {
        "colab": {
          "base_uri": "https://localhost:8080/"
        },
        "id": "1DFDdcHXIO03",
        "outputId": "2d1e7948-f77f-4afb-d7d6-7659dbb67108"
      },
      "source": [
        "max_len = max(len(l) for l in sequences)\n",
        "print('샘플의 최대 길이 : {}'.format(max_len))"
      ],
      "execution_count": null,
      "outputs": [
        {
          "output_type": "stream",
          "name": "stdout",
          "text": [
            "샘플의 최대 길이 : 24\n"
          ]
        }
      ]
    },
    {
      "cell_type": "code",
      "metadata": {
        "colab": {
          "base_uri": "https://localhost:8080/"
        },
        "id": "gI_BNPqGIUNv",
        "outputId": "3a4fed40-3ecc-4f19-b079-c65af8fe9d80"
      },
      "source": [
        "sequences = pad_sequences(sequences, maxlen=max_len, padding='pre')\n",
        "print(sequences[:3])"
      ],
      "execution_count": null,
      "outputs": [
        {
          "output_type": "stream",
          "name": "stdout",
          "text": [
            "[[   0    0    0    0    0    0    0    0    0    0    0    0    0    0\n",
            "     0    0    0    0    0    0    0    0   99  269]\n",
            " [   0    0    0    0    0    0    0    0    0    0    0    0    0    0\n",
            "     0    0    0    0    0    0    0   99  269  371]\n",
            " [   0    0    0    0    0    0    0    0    0    0    0    0    0    0\n",
            "     0    0    0    0    0    0   99  269  371 1115]]\n"
          ]
        }
      ]
    },
    {
      "cell_type": "code",
      "metadata": {
        "id": "AS_Xeb68IW7n"
      },
      "source": [
        "sequences = np.array(sequences)\n",
        "X = sequences[:,:-1]\n",
        "y = sequences[:,-1]"
      ],
      "execution_count": null,
      "outputs": []
    },
    {
      "cell_type": "code",
      "metadata": {
        "colab": {
          "base_uri": "https://localhost:8080/"
        },
        "id": "hQxwog4tIZOn",
        "outputId": "28b61b65-245b-41f5-e30e-71459dd4aa1b"
      },
      "source": [
        "print(X[:3])"
      ],
      "execution_count": null,
      "outputs": [
        {
          "output_type": "stream",
          "name": "stdout",
          "text": [
            "[[  0   0   0   0   0   0   0   0   0   0   0   0   0   0   0   0   0   0\n",
            "    0   0   0   0  99]\n",
            " [  0   0   0   0   0   0   0   0   0   0   0   0   0   0   0   0   0   0\n",
            "    0   0   0  99 269]\n",
            " [  0   0   0   0   0   0   0   0   0   0   0   0   0   0   0   0   0   0\n",
            "    0   0  99 269 371]]\n"
          ]
        }
      ]
    },
    {
      "cell_type": "code",
      "metadata": {
        "colab": {
          "base_uri": "https://localhost:8080/"
        },
        "id": "ymQ9On9bIZ8f",
        "outputId": "b5dbd0d1-e98a-4660-c11d-7bc5cfbc9eac"
      },
      "source": [
        "print(y[:3])"
      ],
      "execution_count": null,
      "outputs": [
        {
          "output_type": "stream",
          "name": "stdout",
          "text": [
            "[ 269  371 1115]\n"
          ]
        }
      ]
    },
    {
      "cell_type": "code",
      "metadata": {
        "id": "BfI0f9ChIbbP"
      },
      "source": [
        "y = to_categorical(y, num_classes=vocab_size)"
      ],
      "execution_count": null,
      "outputs": []
    },
    {
      "cell_type": "code",
      "metadata": {
        "id": "HqNmAdYJIcUP"
      },
      "source": [
        "from tensorflow.keras.models import Sequential\n",
        "from tensorflow.keras.layers import Embedding, Dense, LSTM"
      ],
      "execution_count": null,
      "outputs": []
    },
    {
      "cell_type": "code",
      "metadata": {
        "colab": {
          "base_uri": "https://localhost:8080/"
        },
        "id": "dUQE1WpzIkDP",
        "outputId": "8090a020-4647-4290-b3b5-11e03a4ae846"
      },
      "source": [
        "embedding_dim = 10\n",
        "hidden_units = 128\n",
        "\n",
        "model = Sequential()\n",
        "model.add(Embedding(vocab_size, embedding_dim))\n",
        "model.add(LSTM(hidden_units))\n",
        "model.add(Dense(vocab_size, activation='softmax'))\n",
        "model.compile(loss='categorical_crossentropy', optimizer='adam', metrics=['accuracy'])\n",
        "model.fit(X, y, epochs=200, verbose=2)"
      ],
      "execution_count": null,
      "outputs": [
        {
          "output_type": "stream",
          "name": "stdout",
          "text": [
            "Epoch 1/200\n",
            "244/244 - 5s - loss: 7.6507 - accuracy: 0.0249\n",
            "Epoch 2/200\n",
            "244/244 - 1s - loss: 7.1191 - accuracy: 0.0279\n",
            "Epoch 3/200\n",
            "244/244 - 1s - loss: 6.9864 - accuracy: 0.0333\n",
            "Epoch 4/200\n",
            "244/244 - 1s - loss: 6.8712 - accuracy: 0.0419\n",
            "Epoch 5/200\n",
            "244/244 - 1s - loss: 6.7319 - accuracy: 0.0455\n",
            "Epoch 6/200\n",
            "244/244 - 1s - loss: 6.6152 - accuracy: 0.0473\n",
            "Epoch 7/200\n",
            "244/244 - 1s - loss: 6.3575 - accuracy: 0.0534\n",
            "Epoch 8/200\n",
            "244/244 - 1s - loss: 6.1562 - accuracy: 0.0598\n",
            "Epoch 9/200\n",
            "244/244 - 1s - loss: 5.9646 - accuracy: 0.0610\n",
            "Epoch 10/200\n",
            "244/244 - 1s - loss: 5.7810 - accuracy: 0.0650\n",
            "Epoch 11/200\n",
            "244/244 - 1s - loss: 5.6068 - accuracy: 0.0720\n",
            "Epoch 12/200\n",
            "244/244 - 1s - loss: 5.4390 - accuracy: 0.0737\n",
            "Epoch 13/200\n",
            "244/244 - 1s - loss: 5.2764 - accuracy: 0.0789\n",
            "Epoch 14/200\n",
            "244/244 - 1s - loss: 5.1199 - accuracy: 0.0864\n",
            "Epoch 15/200\n",
            "244/244 - 1s - loss: 4.9734 - accuracy: 0.0943\n",
            "Epoch 16/200\n",
            "244/244 - 1s - loss: 4.8308 - accuracy: 0.1057\n",
            "Epoch 17/200\n",
            "244/244 - 1s - loss: 4.6905 - accuracy: 0.1167\n",
            "Epoch 18/200\n",
            "244/244 - 1s - loss: 4.5558 - accuracy: 0.1339\n",
            "Epoch 19/200\n",
            "244/244 - 1s - loss: 4.4296 - accuracy: 0.1470\n",
            "Epoch 20/200\n",
            "244/244 - 1s - loss: 4.3042 - accuracy: 0.1643\n",
            "Epoch 21/200\n",
            "244/244 - 1s - loss: 4.1821 - accuracy: 0.1831\n",
            "Epoch 22/200\n",
            "244/244 - 1s - loss: 4.0689 - accuracy: 0.1983\n",
            "Epoch 23/200\n",
            "244/244 - 1s - loss: 3.9579 - accuracy: 0.2150\n",
            "Epoch 24/200\n",
            "244/244 - 1s - loss: 3.8486 - accuracy: 0.2325\n",
            "Epoch 25/200\n",
            "244/244 - 1s - loss: 3.7439 - accuracy: 0.2525\n",
            "Epoch 26/200\n",
            "244/244 - 1s - loss: 3.6435 - accuracy: 0.2676\n",
            "Epoch 27/200\n",
            "244/244 - 1s - loss: 3.5445 - accuracy: 0.2880\n",
            "Epoch 28/200\n",
            "244/244 - 1s - loss: 3.4484 - accuracy: 0.3073\n",
            "Epoch 29/200\n",
            "244/244 - 1s - loss: 3.3580 - accuracy: 0.3237\n",
            "Epoch 30/200\n",
            "244/244 - 1s - loss: 3.2698 - accuracy: 0.3388\n",
            "Epoch 31/200\n",
            "244/244 - 1s - loss: 3.1845 - accuracy: 0.3576\n",
            "Epoch 32/200\n",
            "244/244 - 1s - loss: 3.1029 - accuracy: 0.3724\n",
            "Epoch 33/200\n",
            "244/244 - 1s - loss: 3.0195 - accuracy: 0.3878\n",
            "Epoch 34/200\n",
            "244/244 - 1s - loss: 2.9468 - accuracy: 0.4004\n",
            "Epoch 35/200\n",
            "244/244 - 1s - loss: 2.8747 - accuracy: 0.4138\n",
            "Epoch 36/200\n",
            "244/244 - 1s - loss: 2.7985 - accuracy: 0.4279\n",
            "Epoch 37/200\n",
            "244/244 - 1s - loss: 2.7303 - accuracy: 0.4428\n",
            "Epoch 38/200\n",
            "244/244 - 1s - loss: 2.6620 - accuracy: 0.4575\n",
            "Epoch 39/200\n",
            "244/244 - 1s - loss: 2.5973 - accuracy: 0.4702\n",
            "Epoch 40/200\n",
            "244/244 - 1s - loss: 2.5385 - accuracy: 0.4798\n",
            "Epoch 41/200\n",
            "244/244 - 1s - loss: 2.4736 - accuracy: 0.4962\n",
            "Epoch 42/200\n",
            "244/244 - 1s - loss: 2.4156 - accuracy: 0.5030\n",
            "Epoch 43/200\n",
            "244/244 - 1s - loss: 2.3542 - accuracy: 0.5163\n",
            "Epoch 44/200\n",
            "244/244 - 1s - loss: 2.2982 - accuracy: 0.5320\n",
            "Epoch 45/200\n",
            "244/244 - 1s - loss: 2.2437 - accuracy: 0.5386\n",
            "Epoch 46/200\n",
            "244/244 - 1s - loss: 2.1889 - accuracy: 0.5543\n",
            "Epoch 47/200\n",
            "244/244 - 1s - loss: 2.1343 - accuracy: 0.5652\n",
            "Epoch 48/200\n",
            "244/244 - 1s - loss: 2.0843 - accuracy: 0.5748\n",
            "Epoch 49/200\n",
            "244/244 - 1s - loss: 2.0330 - accuracy: 0.5853\n",
            "Epoch 50/200\n",
            "244/244 - 1s - loss: 1.9830 - accuracy: 0.5944\n",
            "Epoch 51/200\n",
            "244/244 - 1s - loss: 1.9345 - accuracy: 0.6082\n",
            "Epoch 52/200\n",
            "244/244 - 1s - loss: 1.8914 - accuracy: 0.6200\n",
            "Epoch 53/200\n",
            "244/244 - 1s - loss: 1.8411 - accuracy: 0.6268\n",
            "Epoch 54/200\n",
            "244/244 - 1s - loss: 1.7949 - accuracy: 0.6404\n",
            "Epoch 55/200\n",
            "244/244 - 1s - loss: 1.7524 - accuracy: 0.6501\n",
            "Epoch 56/200\n",
            "244/244 - 1s - loss: 1.7087 - accuracy: 0.6627\n",
            "Epoch 57/200\n",
            "244/244 - 1s - loss: 1.6623 - accuracy: 0.6696\n",
            "Epoch 58/200\n",
            "244/244 - 1s - loss: 1.6229 - accuracy: 0.6779\n",
            "Epoch 59/200\n",
            "244/244 - 1s - loss: 1.5807 - accuracy: 0.6895\n",
            "Epoch 60/200\n",
            "244/244 - 1s - loss: 1.5463 - accuracy: 0.6927\n",
            "Epoch 61/200\n",
            "244/244 - 1s - loss: 1.5063 - accuracy: 0.7054\n",
            "Epoch 62/200\n",
            "244/244 - 1s - loss: 1.4663 - accuracy: 0.7073\n",
            "Epoch 63/200\n",
            "244/244 - 1s - loss: 1.4290 - accuracy: 0.7200\n",
            "Epoch 64/200\n",
            "244/244 - 1s - loss: 1.3948 - accuracy: 0.7237\n",
            "Epoch 65/200\n",
            "244/244 - 1s - loss: 1.3592 - accuracy: 0.7354\n",
            "Epoch 66/200\n",
            "244/244 - 1s - loss: 1.3207 - accuracy: 0.7438\n",
            "Epoch 67/200\n",
            "244/244 - 1s - loss: 1.2919 - accuracy: 0.7482\n",
            "Epoch 68/200\n",
            "244/244 - 1s - loss: 1.2568 - accuracy: 0.7541\n",
            "Epoch 69/200\n",
            "244/244 - 1s - loss: 1.2237 - accuracy: 0.7611\n",
            "Epoch 70/200\n",
            "244/244 - 1s - loss: 1.1907 - accuracy: 0.7677\n",
            "Epoch 71/200\n",
            "244/244 - 1s - loss: 1.1611 - accuracy: 0.7744\n",
            "Epoch 72/200\n",
            "244/244 - 1s - loss: 1.1314 - accuracy: 0.7793\n",
            "Epoch 73/200\n",
            "244/244 - 1s - loss: 1.1036 - accuracy: 0.7841\n",
            "Epoch 74/200\n",
            "244/244 - 1s - loss: 1.0741 - accuracy: 0.7883\n",
            "Epoch 75/200\n",
            "244/244 - 1s - loss: 1.0453 - accuracy: 0.7958\n",
            "Epoch 76/200\n",
            "244/244 - 1s - loss: 1.0194 - accuracy: 0.8033\n",
            "Epoch 77/200\n",
            "244/244 - 1s - loss: 0.9928 - accuracy: 0.8056\n",
            "Epoch 78/200\n",
            "244/244 - 1s - loss: 0.9655 - accuracy: 0.8117\n",
            "Epoch 79/200\n",
            "244/244 - 1s - loss: 0.9434 - accuracy: 0.8174\n",
            "Epoch 80/200\n",
            "244/244 - 1s - loss: 0.9215 - accuracy: 0.8229\n",
            "Epoch 81/200\n",
            "244/244 - 1s - loss: 0.8963 - accuracy: 0.8262\n",
            "Epoch 82/200\n",
            "244/244 - 1s - loss: 0.8739 - accuracy: 0.8315\n",
            "Epoch 83/200\n",
            "244/244 - 1s - loss: 0.8528 - accuracy: 0.8360\n",
            "Epoch 84/200\n",
            "244/244 - 1s - loss: 0.8295 - accuracy: 0.8408\n",
            "Epoch 85/200\n",
            "244/244 - 1s - loss: 0.8098 - accuracy: 0.8447\n",
            "Epoch 86/200\n",
            "244/244 - 1s - loss: 0.7889 - accuracy: 0.8506\n",
            "Epoch 87/200\n",
            "244/244 - 1s - loss: 0.7694 - accuracy: 0.8504\n",
            "Epoch 88/200\n",
            "244/244 - 1s - loss: 0.7540 - accuracy: 0.8549\n",
            "Epoch 89/200\n",
            "244/244 - 1s - loss: 0.7606 - accuracy: 0.8551\n",
            "Epoch 90/200\n",
            "244/244 - 1s - loss: 0.7244 - accuracy: 0.8595\n",
            "Epoch 91/200\n",
            "244/244 - 1s - loss: 0.7009 - accuracy: 0.8635\n",
            "Epoch 92/200\n",
            "244/244 - 1s - loss: 0.6840 - accuracy: 0.8690\n",
            "Epoch 93/200\n",
            "244/244 - 1s - loss: 0.6669 - accuracy: 0.8706\n",
            "Epoch 94/200\n",
            "244/244 - 1s - loss: 0.6533 - accuracy: 0.8721\n",
            "Epoch 95/200\n",
            "244/244 - 1s - loss: 0.6411 - accuracy: 0.8763\n",
            "Epoch 96/200\n",
            "244/244 - 1s - loss: 0.6269 - accuracy: 0.8762\n",
            "Epoch 97/200\n",
            "244/244 - 1s - loss: 0.6124 - accuracy: 0.8820\n",
            "Epoch 98/200\n",
            "244/244 - 1s - loss: 0.5969 - accuracy: 0.8844\n",
            "Epoch 99/200\n",
            "244/244 - 1s - loss: 0.5869 - accuracy: 0.8841\n",
            "Epoch 100/200\n",
            "244/244 - 1s - loss: 0.5708 - accuracy: 0.8881\n",
            "Epoch 101/200\n",
            "244/244 - 1s - loss: 0.5644 - accuracy: 0.8876\n",
            "Epoch 102/200\n",
            "244/244 - 1s - loss: 0.5494 - accuracy: 0.8889\n",
            "Epoch 103/200\n",
            "244/244 - 1s - loss: 0.5392 - accuracy: 0.8897\n",
            "Epoch 104/200\n",
            "244/244 - 1s - loss: 0.5292 - accuracy: 0.8908\n",
            "Epoch 105/200\n",
            "244/244 - 1s - loss: 0.5169 - accuracy: 0.8940\n",
            "Epoch 106/200\n",
            "244/244 - 1s - loss: 0.5067 - accuracy: 0.8953\n",
            "Epoch 107/200\n",
            "244/244 - 1s - loss: 0.5035 - accuracy: 0.8973\n",
            "Epoch 108/200\n",
            "244/244 - 1s - loss: 0.4904 - accuracy: 0.8985\n",
            "Epoch 109/200\n",
            "244/244 - 1s - loss: 0.4771 - accuracy: 0.8999\n",
            "Epoch 110/200\n",
            "244/244 - 1s - loss: 0.4686 - accuracy: 0.9008\n",
            "Epoch 111/200\n",
            "244/244 - 1s - loss: 0.4595 - accuracy: 0.9009\n",
            "Epoch 112/200\n",
            "244/244 - 1s - loss: 0.4572 - accuracy: 0.9049\n",
            "Epoch 113/200\n",
            "244/244 - 1s - loss: 0.4570 - accuracy: 0.9050\n",
            "Epoch 114/200\n",
            "244/244 - 1s - loss: 0.4420 - accuracy: 0.9052\n",
            "Epoch 115/200\n",
            "244/244 - 1s - loss: 0.4335 - accuracy: 0.9068\n",
            "Epoch 116/200\n",
            "244/244 - 1s - loss: 0.4275 - accuracy: 0.9057\n",
            "Epoch 117/200\n",
            "244/244 - 1s - loss: 0.4161 - accuracy: 0.9089\n",
            "Epoch 118/200\n",
            "244/244 - 1s - loss: 0.4095 - accuracy: 0.9073\n",
            "Epoch 119/200\n",
            "244/244 - 1s - loss: 0.4034 - accuracy: 0.9095\n",
            "Epoch 120/200\n",
            "244/244 - 1s - loss: 0.3961 - accuracy: 0.9108\n",
            "Epoch 121/200\n",
            "244/244 - 1s - loss: 0.3911 - accuracy: 0.9093\n",
            "Epoch 122/200\n",
            "244/244 - 1s - loss: 0.3858 - accuracy: 0.9102\n",
            "Epoch 123/200\n",
            "244/244 - 1s - loss: 0.3802 - accuracy: 0.9123\n",
            "Epoch 124/200\n",
            "244/244 - 1s - loss: 0.3757 - accuracy: 0.9136\n",
            "Epoch 125/200\n",
            "244/244 - 1s - loss: 0.3716 - accuracy: 0.9117\n",
            "Epoch 126/200\n",
            "244/244 - 1s - loss: 0.3690 - accuracy: 0.9132\n",
            "Epoch 127/200\n",
            "244/244 - 1s - loss: 0.3674 - accuracy: 0.9125\n",
            "Epoch 128/200\n",
            "244/244 - 1s - loss: 0.3622 - accuracy: 0.9132\n",
            "Epoch 129/200\n",
            "244/244 - 1s - loss: 0.3757 - accuracy: 0.9114\n",
            "Epoch 130/200\n",
            "244/244 - 1s - loss: 0.3589 - accuracy: 0.9136\n",
            "Epoch 131/200\n",
            "244/244 - 1s - loss: 0.3500 - accuracy: 0.9145\n",
            "Epoch 132/200\n",
            "244/244 - 1s - loss: 0.3441 - accuracy: 0.9131\n",
            "Epoch 133/200\n",
            "244/244 - 1s - loss: 0.3402 - accuracy: 0.9152\n",
            "Epoch 134/200\n",
            "244/244 - 1s - loss: 0.3338 - accuracy: 0.9170\n",
            "Epoch 135/200\n",
            "244/244 - 1s - loss: 0.3315 - accuracy: 0.9139\n",
            "Epoch 136/200\n",
            "244/244 - 1s - loss: 0.3275 - accuracy: 0.9162\n",
            "Epoch 137/200\n",
            "244/244 - 1s - loss: 0.3269 - accuracy: 0.9164\n",
            "Epoch 138/200\n",
            "244/244 - 1s - loss: 0.3227 - accuracy: 0.9168\n",
            "Epoch 139/200\n",
            "244/244 - 1s - loss: 0.3195 - accuracy: 0.9167\n",
            "Epoch 140/200\n",
            "244/244 - 1s - loss: 0.3173 - accuracy: 0.9159\n",
            "Epoch 141/200\n",
            "244/244 - 1s - loss: 0.3163 - accuracy: 0.9170\n",
            "Epoch 142/200\n",
            "244/244 - 1s - loss: 0.3141 - accuracy: 0.9150\n",
            "Epoch 143/200\n",
            "244/244 - 1s - loss: 0.4810 - accuracy: 0.8788\n",
            "Epoch 144/200\n",
            "244/244 - 1s - loss: 0.3723 - accuracy: 0.9075\n",
            "Epoch 145/200\n",
            "244/244 - 1s - loss: 0.3215 - accuracy: 0.9157\n",
            "Epoch 146/200\n",
            "244/244 - 1s - loss: 0.3073 - accuracy: 0.9164\n",
            "Epoch 147/200\n",
            "244/244 - 1s - loss: 0.3036 - accuracy: 0.9166\n",
            "Epoch 148/200\n",
            "244/244 - 1s - loss: 0.3012 - accuracy: 0.9175\n",
            "Epoch 149/200\n",
            "244/244 - 1s - loss: 0.2993 - accuracy: 0.9163\n",
            "Epoch 150/200\n",
            "244/244 - 1s - loss: 0.2973 - accuracy: 0.9158\n",
            "Epoch 151/200\n",
            "244/244 - 1s - loss: 0.2968 - accuracy: 0.9161\n",
            "Epoch 152/200\n",
            "244/244 - 1s - loss: 0.2956 - accuracy: 0.9163\n",
            "Epoch 153/200\n",
            "244/244 - 1s - loss: 0.2939 - accuracy: 0.9170\n",
            "Epoch 154/200\n",
            "244/244 - 1s - loss: 0.2933 - accuracy: 0.9167\n",
            "Epoch 155/200\n",
            "244/244 - 1s - loss: 0.2913 - accuracy: 0.9176\n",
            "Epoch 156/200\n",
            "244/244 - 1s - loss: 0.2903 - accuracy: 0.9168\n",
            "Epoch 157/200\n",
            "244/244 - 1s - loss: 0.2912 - accuracy: 0.9170\n",
            "Epoch 158/200\n",
            "244/244 - 1s - loss: 0.2889 - accuracy: 0.9170\n",
            "Epoch 159/200\n",
            "244/244 - 1s - loss: 0.2882 - accuracy: 0.9155\n",
            "Epoch 160/200\n",
            "244/244 - 1s - loss: 0.2895 - accuracy: 0.9155\n",
            "Epoch 161/200\n",
            "244/244 - 1s - loss: 0.3067 - accuracy: 0.9143\n",
            "Epoch 162/200\n",
            "244/244 - 1s - loss: 0.3248 - accuracy: 0.9111\n",
            "Epoch 163/200\n",
            "244/244 - 1s - loss: 0.2917 - accuracy: 0.9158\n",
            "Epoch 164/200\n",
            "244/244 - 1s - loss: 0.2836 - accuracy: 0.9162\n",
            "Epoch 165/200\n",
            "244/244 - 1s - loss: 0.2821 - accuracy: 0.9166\n",
            "Epoch 166/200\n",
            "244/244 - 1s - loss: 0.2807 - accuracy: 0.9173\n",
            "Epoch 167/200\n",
            "244/244 - 1s - loss: 0.2798 - accuracy: 0.9179\n",
            "Epoch 168/200\n",
            "244/244 - 1s - loss: 0.2792 - accuracy: 0.9155\n",
            "Epoch 169/200\n",
            "244/244 - 1s - loss: 0.2810 - accuracy: 0.9163\n",
            "Epoch 170/200\n",
            "244/244 - 1s - loss: 0.2789 - accuracy: 0.9157\n",
            "Epoch 171/200\n",
            "244/244 - 1s - loss: 0.2772 - accuracy: 0.9163\n",
            "Epoch 172/200\n",
            "244/244 - 1s - loss: 0.2772 - accuracy: 0.9154\n",
            "Epoch 173/200\n",
            "244/244 - 1s - loss: 0.2763 - accuracy: 0.9181\n",
            "Epoch 174/200\n",
            "244/244 - 1s - loss: 0.2756 - accuracy: 0.9152\n",
            "Epoch 175/200\n",
            "244/244 - 1s - loss: 0.2748 - accuracy: 0.9162\n",
            "Epoch 176/200\n",
            "244/244 - 1s - loss: 0.2792 - accuracy: 0.9154\n",
            "Epoch 177/200\n",
            "244/244 - 1s - loss: 0.2852 - accuracy: 0.9161\n",
            "Epoch 178/200\n",
            "244/244 - 1s - loss: 0.3014 - accuracy: 0.9136\n",
            "Epoch 179/200\n",
            "244/244 - 1s - loss: 0.2839 - accuracy: 0.9143\n",
            "Epoch 180/200\n",
            "244/244 - 1s - loss: 0.2732 - accuracy: 0.9157\n",
            "Epoch 181/200\n",
            "244/244 - 1s - loss: 0.2711 - accuracy: 0.9152\n",
            "Epoch 182/200\n",
            "244/244 - 1s - loss: 0.2714 - accuracy: 0.9170\n",
            "Epoch 183/200\n",
            "244/244 - 1s - loss: 0.2702 - accuracy: 0.9153\n",
            "Epoch 184/200\n",
            "244/244 - 1s - loss: 0.2691 - accuracy: 0.9180\n",
            "Epoch 185/200\n",
            "244/244 - 1s - loss: 0.2730 - accuracy: 0.9153\n",
            "Epoch 186/200\n",
            "244/244 - 1s - loss: 0.2691 - accuracy: 0.9150\n",
            "Epoch 187/200\n",
            "244/244 - 1s - loss: 0.2680 - accuracy: 0.9161\n",
            "Epoch 188/200\n",
            "244/244 - 1s - loss: 0.2682 - accuracy: 0.9164\n",
            "Epoch 189/200\n",
            "244/244 - 1s - loss: 0.2670 - accuracy: 0.9159\n",
            "Epoch 190/200\n",
            "244/244 - 1s - loss: 0.2681 - accuracy: 0.9177\n",
            "Epoch 191/200\n",
            "244/244 - 1s - loss: 0.2671 - accuracy: 0.9161\n",
            "Epoch 192/200\n",
            "244/244 - 1s - loss: 0.2671 - accuracy: 0.9155\n",
            "Epoch 193/200\n",
            "244/244 - 1s - loss: 0.2666 - accuracy: 0.9167\n",
            "Epoch 194/200\n",
            "244/244 - 1s - loss: 0.2696 - accuracy: 0.9176\n",
            "Epoch 195/200\n",
            "244/244 - 1s - loss: 0.2733 - accuracy: 0.9145\n",
            "Epoch 196/200\n",
            "244/244 - 1s - loss: 0.2728 - accuracy: 0.9149\n",
            "Epoch 197/200\n",
            "244/244 - 1s - loss: 0.2798 - accuracy: 0.9155\n",
            "Epoch 198/200\n",
            "244/244 - 1s - loss: 0.2738 - accuracy: 0.9149\n",
            "Epoch 199/200\n",
            "244/244 - 1s - loss: 0.2680 - accuracy: 0.9166\n",
            "Epoch 200/200\n",
            "244/244 - 1s - loss: 0.2648 - accuracy: 0.9173\n"
          ]
        },
        {
          "output_type": "execute_result",
          "data": {
            "text/plain": [
              "<keras.callbacks.History at 0x7fc825be53d0>"
            ]
          },
          "metadata": {},
          "execution_count": 54
        }
      ]
    },
    {
      "cell_type": "code",
      "metadata": {
        "id": "J6Lqo_uRIq2X"
      },
      "source": [
        "def sentence_generation(model, tokenizer, current_word, n): # 모델, 토크나이저, 현재 단어, 반복할 횟수\n",
        "    init_word = current_word\n",
        "    sentence = ''\n",
        "\n",
        "    # n번 반복\n",
        "    for _ in range(n):\n",
        "        encoded = tokenizer.texts_to_sequences([current_word])[0]\n",
        "        encoded = pad_sequences([encoded], maxlen=max_len-1, padding='pre')\n",
        "\n",
        "        # 입력한 X(현재 단어)에 대해서 y를 예측하고 y(예측한 단어)를 result에 저장.\n",
        "        result = model.predict(encoded, verbose=0)\n",
        "        result = np.argmax(result, axis=1)\n",
        "\n",
        "        for word, index in tokenizer.word_index.items(): \n",
        "            # 만약 예측한 단어와 인덱스와 동일한 단어가 있다면\n",
        "            if index == result:\n",
        "                break\n",
        "\n",
        "        # 현재 단어 + ' ' + 예측 단어를 현재 단어로 변경\n",
        "        current_word = current_word + ' '  + word\n",
        "\n",
        "        # 예측 단어를 문장에 저장\n",
        "        sentence = sentence + ' ' + word\n",
        "\n",
        "    sentence = init_word + sentence\n",
        "    return sentence"
      ],
      "execution_count": null,
      "outputs": []
    },
    {
      "cell_type": "code",
      "metadata": {
        "colab": {
          "base_uri": "https://localhost:8080/"
        },
        "id": "uAfJZAD4JIUM",
        "outputId": "3a61fef1-8790-48c7-e0b4-cee24472dbde"
      },
      "source": [
        "print(sentence_generation(model, tokenizer, 'i', 10))"
      ],
      "execution_count": null,
      "outputs": [
        {
          "output_type": "stream",
          "name": "stdout",
          "text": [
            "i disapprove of school vouchers can i still apply for them\n"
          ]
        }
      ]
    },
    {
      "cell_type": "code",
      "metadata": {
        "colab": {
          "base_uri": "https://localhost:8080/"
        },
        "id": "JeXp2oTZJLiS",
        "outputId": "00e7fa2c-821a-4bf1-ada3-736c227865fd"
      },
      "source": [
        "print(sentence_generation(model, tokenizer, 'how', 10))"
      ],
      "execution_count": null,
      "outputs": [
        {
          "output_type": "stream",
          "name": "stdout",
          "text": [
            "how to serve a deranged tyrant stoically has that own time\n"
          ]
        }
      ]
    }
  ]
}