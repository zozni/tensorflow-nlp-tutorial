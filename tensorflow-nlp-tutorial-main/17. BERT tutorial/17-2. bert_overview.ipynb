{
  "nbformat": 4,
  "nbformat_minor": 0,
  "metadata": {
    "colab": {
      "name": "BERT overview.ipynb",
      "provenance": []
    },
    "kernelspec": {
      "name": "python3",
      "display_name": "Python 3"
    },
    "language_info": {
      "name": "python"
    },
    "accelerator": "GPU",
    "widgets": {
      "application/vnd.jupyter.widget-state+json": {
        "0a6fb699dd774558b46ad89fec86021e": {
          "model_module": "@jupyter-widgets/controls",
          "model_name": "HBoxModel",
          "model_module_version": "1.5.0",
          "state": {
            "_view_name": "HBoxView",
            "_dom_classes": [],
            "_model_name": "HBoxModel",
            "_view_module": "@jupyter-widgets/controls",
            "_model_module_version": "1.5.0",
            "_view_count": null,
            "_view_module_version": "1.5.0",
            "box_style": "",
            "layout": "IPY_MODEL_99de5b240e9c4108a9f5c0095deeb3b4",
            "_model_module": "@jupyter-widgets/controls",
            "children": [
              "IPY_MODEL_3d1811e314774a23b7f8fa1d3d8d3fa2",
              "IPY_MODEL_36c0f4401beb4a5497289b4802a42e16",
              "IPY_MODEL_ce6335cc7bbb43a3ba1879d20c07148d"
            ]
          }
        },
        "99de5b240e9c4108a9f5c0095deeb3b4": {
          "model_module": "@jupyter-widgets/base",
          "model_name": "LayoutModel",
          "model_module_version": "1.2.0",
          "state": {
            "_view_name": "LayoutView",
            "grid_template_rows": null,
            "right": null,
            "justify_content": null,
            "_view_module": "@jupyter-widgets/base",
            "overflow": null,
            "_model_module_version": "1.2.0",
            "_view_count": null,
            "flex_flow": null,
            "width": null,
            "min_width": null,
            "border": null,
            "align_items": null,
            "bottom": null,
            "_model_module": "@jupyter-widgets/base",
            "top": null,
            "grid_column": null,
            "overflow_y": null,
            "overflow_x": null,
            "grid_auto_flow": null,
            "grid_area": null,
            "grid_template_columns": null,
            "flex": null,
            "_model_name": "LayoutModel",
            "justify_items": null,
            "grid_row": null,
            "max_height": null,
            "align_content": null,
            "visibility": null,
            "align_self": null,
            "height": null,
            "min_height": null,
            "padding": null,
            "grid_auto_rows": null,
            "grid_gap": null,
            "max_width": null,
            "order": null,
            "_view_module_version": "1.2.0",
            "grid_template_areas": null,
            "object_position": null,
            "object_fit": null,
            "grid_auto_columns": null,
            "margin": null,
            "display": null,
            "left": null
          }
        },
        "3d1811e314774a23b7f8fa1d3d8d3fa2": {
          "model_module": "@jupyter-widgets/controls",
          "model_name": "HTMLModel",
          "model_module_version": "1.5.0",
          "state": {
            "_view_name": "HTMLView",
            "style": "IPY_MODEL_c30a0c60f343418db3f337c788bdfaf3",
            "_dom_classes": [],
            "description": "",
            "_model_name": "HTMLModel",
            "placeholder": "​",
            "_view_module": "@jupyter-widgets/controls",
            "_model_module_version": "1.5.0",
            "value": "Downloading: 100%",
            "_view_count": null,
            "_view_module_version": "1.5.0",
            "description_tooltip": null,
            "_model_module": "@jupyter-widgets/controls",
            "layout": "IPY_MODEL_97ccb659bb2741df9409528dcde71265"
          }
        },
        "36c0f4401beb4a5497289b4802a42e16": {
          "model_module": "@jupyter-widgets/controls",
          "model_name": "FloatProgressModel",
          "model_module_version": "1.5.0",
          "state": {
            "_view_name": "ProgressView",
            "style": "IPY_MODEL_cdd9e57f84984c988fee1158de034d32",
            "_dom_classes": [],
            "description": "",
            "_model_name": "FloatProgressModel",
            "bar_style": "success",
            "max": 231508,
            "_view_module": "@jupyter-widgets/controls",
            "_model_module_version": "1.5.0",
            "value": 231508,
            "_view_count": null,
            "_view_module_version": "1.5.0",
            "orientation": "horizontal",
            "min": 0,
            "description_tooltip": null,
            "_model_module": "@jupyter-widgets/controls",
            "layout": "IPY_MODEL_8e00aedd7c6b4ce59bc45a4674d5e2a7"
          }
        },
        "ce6335cc7bbb43a3ba1879d20c07148d": {
          "model_module": "@jupyter-widgets/controls",
          "model_name": "HTMLModel",
          "model_module_version": "1.5.0",
          "state": {
            "_view_name": "HTMLView",
            "style": "IPY_MODEL_2f72ead5b5fa4cba96acafbfde30c025",
            "_dom_classes": [],
            "description": "",
            "_model_name": "HTMLModel",
            "placeholder": "​",
            "_view_module": "@jupyter-widgets/controls",
            "_model_module_version": "1.5.0",
            "value": " 226k/226k [00:00&lt;00:00, 514kB/s]",
            "_view_count": null,
            "_view_module_version": "1.5.0",
            "description_tooltip": null,
            "_model_module": "@jupyter-widgets/controls",
            "layout": "IPY_MODEL_ecec88e4f8d5405984f370afbb15b7f1"
          }
        },
        "c30a0c60f343418db3f337c788bdfaf3": {
          "model_module": "@jupyter-widgets/controls",
          "model_name": "DescriptionStyleModel",
          "model_module_version": "1.5.0",
          "state": {
            "_view_name": "StyleView",
            "_model_name": "DescriptionStyleModel",
            "description_width": "",
            "_view_module": "@jupyter-widgets/base",
            "_model_module_version": "1.5.0",
            "_view_count": null,
            "_view_module_version": "1.2.0",
            "_model_module": "@jupyter-widgets/controls"
          }
        },
        "97ccb659bb2741df9409528dcde71265": {
          "model_module": "@jupyter-widgets/base",
          "model_name": "LayoutModel",
          "model_module_version": "1.2.0",
          "state": {
            "_view_name": "LayoutView",
            "grid_template_rows": null,
            "right": null,
            "justify_content": null,
            "_view_module": "@jupyter-widgets/base",
            "overflow": null,
            "_model_module_version": "1.2.0",
            "_view_count": null,
            "flex_flow": null,
            "width": null,
            "min_width": null,
            "border": null,
            "align_items": null,
            "bottom": null,
            "_model_module": "@jupyter-widgets/base",
            "top": null,
            "grid_column": null,
            "overflow_y": null,
            "overflow_x": null,
            "grid_auto_flow": null,
            "grid_area": null,
            "grid_template_columns": null,
            "flex": null,
            "_model_name": "LayoutModel",
            "justify_items": null,
            "grid_row": null,
            "max_height": null,
            "align_content": null,
            "visibility": null,
            "align_self": null,
            "height": null,
            "min_height": null,
            "padding": null,
            "grid_auto_rows": null,
            "grid_gap": null,
            "max_width": null,
            "order": null,
            "_view_module_version": "1.2.0",
            "grid_template_areas": null,
            "object_position": null,
            "object_fit": null,
            "grid_auto_columns": null,
            "margin": null,
            "display": null,
            "left": null
          }
        },
        "cdd9e57f84984c988fee1158de034d32": {
          "model_module": "@jupyter-widgets/controls",
          "model_name": "ProgressStyleModel",
          "model_module_version": "1.5.0",
          "state": {
            "_view_name": "StyleView",
            "_model_name": "ProgressStyleModel",
            "description_width": "",
            "_view_module": "@jupyter-widgets/base",
            "_model_module_version": "1.5.0",
            "_view_count": null,
            "_view_module_version": "1.2.0",
            "bar_color": null,
            "_model_module": "@jupyter-widgets/controls"
          }
        },
        "8e00aedd7c6b4ce59bc45a4674d5e2a7": {
          "model_module": "@jupyter-widgets/base",
          "model_name": "LayoutModel",
          "model_module_version": "1.2.0",
          "state": {
            "_view_name": "LayoutView",
            "grid_template_rows": null,
            "right": null,
            "justify_content": null,
            "_view_module": "@jupyter-widgets/base",
            "overflow": null,
            "_model_module_version": "1.2.0",
            "_view_count": null,
            "flex_flow": null,
            "width": null,
            "min_width": null,
            "border": null,
            "align_items": null,
            "bottom": null,
            "_model_module": "@jupyter-widgets/base",
            "top": null,
            "grid_column": null,
            "overflow_y": null,
            "overflow_x": null,
            "grid_auto_flow": null,
            "grid_area": null,
            "grid_template_columns": null,
            "flex": null,
            "_model_name": "LayoutModel",
            "justify_items": null,
            "grid_row": null,
            "max_height": null,
            "align_content": null,
            "visibility": null,
            "align_self": null,
            "height": null,
            "min_height": null,
            "padding": null,
            "grid_auto_rows": null,
            "grid_gap": null,
            "max_width": null,
            "order": null,
            "_view_module_version": "1.2.0",
            "grid_template_areas": null,
            "object_position": null,
            "object_fit": null,
            "grid_auto_columns": null,
            "margin": null,
            "display": null,
            "left": null
          }
        },
        "2f72ead5b5fa4cba96acafbfde30c025": {
          "model_module": "@jupyter-widgets/controls",
          "model_name": "DescriptionStyleModel",
          "model_module_version": "1.5.0",
          "state": {
            "_view_name": "StyleView",
            "_model_name": "DescriptionStyleModel",
            "description_width": "",
            "_view_module": "@jupyter-widgets/base",
            "_model_module_version": "1.5.0",
            "_view_count": null,
            "_view_module_version": "1.2.0",
            "_model_module": "@jupyter-widgets/controls"
          }
        },
        "ecec88e4f8d5405984f370afbb15b7f1": {
          "model_module": "@jupyter-widgets/base",
          "model_name": "LayoutModel",
          "model_module_version": "1.2.0",
          "state": {
            "_view_name": "LayoutView",
            "grid_template_rows": null,
            "right": null,
            "justify_content": null,
            "_view_module": "@jupyter-widgets/base",
            "overflow": null,
            "_model_module_version": "1.2.0",
            "_view_count": null,
            "flex_flow": null,
            "width": null,
            "min_width": null,
            "border": null,
            "align_items": null,
            "bottom": null,
            "_model_module": "@jupyter-widgets/base",
            "top": null,
            "grid_column": null,
            "overflow_y": null,
            "overflow_x": null,
            "grid_auto_flow": null,
            "grid_area": null,
            "grid_template_columns": null,
            "flex": null,
            "_model_name": "LayoutModel",
            "justify_items": null,
            "grid_row": null,
            "max_height": null,
            "align_content": null,
            "visibility": null,
            "align_self": null,
            "height": null,
            "min_height": null,
            "padding": null,
            "grid_auto_rows": null,
            "grid_gap": null,
            "max_width": null,
            "order": null,
            "_view_module_version": "1.2.0",
            "grid_template_areas": null,
            "object_position": null,
            "object_fit": null,
            "grid_auto_columns": null,
            "margin": null,
            "display": null,
            "left": null
          }
        },
        "309b631e46bd412cbc07ef2bd07a6ddd": {
          "model_module": "@jupyter-widgets/controls",
          "model_name": "HBoxModel",
          "model_module_version": "1.5.0",
          "state": {
            "_view_name": "HBoxView",
            "_dom_classes": [],
            "_model_name": "HBoxModel",
            "_view_module": "@jupyter-widgets/controls",
            "_model_module_version": "1.5.0",
            "_view_count": null,
            "_view_module_version": "1.5.0",
            "box_style": "",
            "layout": "IPY_MODEL_80e75024d459422388bac0ef3400f7e6",
            "_model_module": "@jupyter-widgets/controls",
            "children": [
              "IPY_MODEL_a511ed13cea4415b945868f9f544b762",
              "IPY_MODEL_d1e5c18bf8c64b95831d2503531f76c0",
              "IPY_MODEL_4903b5f94e7f4f6cb25db863577e0247"
            ]
          }
        },
        "80e75024d459422388bac0ef3400f7e6": {
          "model_module": "@jupyter-widgets/base",
          "model_name": "LayoutModel",
          "model_module_version": "1.2.0",
          "state": {
            "_view_name": "LayoutView",
            "grid_template_rows": null,
            "right": null,
            "justify_content": null,
            "_view_module": "@jupyter-widgets/base",
            "overflow": null,
            "_model_module_version": "1.2.0",
            "_view_count": null,
            "flex_flow": null,
            "width": null,
            "min_width": null,
            "border": null,
            "align_items": null,
            "bottom": null,
            "_model_module": "@jupyter-widgets/base",
            "top": null,
            "grid_column": null,
            "overflow_y": null,
            "overflow_x": null,
            "grid_auto_flow": null,
            "grid_area": null,
            "grid_template_columns": null,
            "flex": null,
            "_model_name": "LayoutModel",
            "justify_items": null,
            "grid_row": null,
            "max_height": null,
            "align_content": null,
            "visibility": null,
            "align_self": null,
            "height": null,
            "min_height": null,
            "padding": null,
            "grid_auto_rows": null,
            "grid_gap": null,
            "max_width": null,
            "order": null,
            "_view_module_version": "1.2.0",
            "grid_template_areas": null,
            "object_position": null,
            "object_fit": null,
            "grid_auto_columns": null,
            "margin": null,
            "display": null,
            "left": null
          }
        },
        "a511ed13cea4415b945868f9f544b762": {
          "model_module": "@jupyter-widgets/controls",
          "model_name": "HTMLModel",
          "model_module_version": "1.5.0",
          "state": {
            "_view_name": "HTMLView",
            "style": "IPY_MODEL_e6bff4835c42404896331a5e697b7994",
            "_dom_classes": [],
            "description": "",
            "_model_name": "HTMLModel",
            "placeholder": "​",
            "_view_module": "@jupyter-widgets/controls",
            "_model_module_version": "1.5.0",
            "value": "Downloading: 100%",
            "_view_count": null,
            "_view_module_version": "1.5.0",
            "description_tooltip": null,
            "_model_module": "@jupyter-widgets/controls",
            "layout": "IPY_MODEL_004299a59ffb4383bc9a0bbe17127257"
          }
        },
        "d1e5c18bf8c64b95831d2503531f76c0": {
          "model_module": "@jupyter-widgets/controls",
          "model_name": "FloatProgressModel",
          "model_module_version": "1.5.0",
          "state": {
            "_view_name": "ProgressView",
            "style": "IPY_MODEL_73e8acc819324721997cbce1dc6f2411",
            "_dom_classes": [],
            "description": "",
            "_model_name": "FloatProgressModel",
            "bar_style": "success",
            "max": 28,
            "_view_module": "@jupyter-widgets/controls",
            "_model_module_version": "1.5.0",
            "value": 28,
            "_view_count": null,
            "_view_module_version": "1.5.0",
            "orientation": "horizontal",
            "min": 0,
            "description_tooltip": null,
            "_model_module": "@jupyter-widgets/controls",
            "layout": "IPY_MODEL_78b9b1f3795f4a578269acdcfaa6262b"
          }
        },
        "4903b5f94e7f4f6cb25db863577e0247": {
          "model_module": "@jupyter-widgets/controls",
          "model_name": "HTMLModel",
          "model_module_version": "1.5.0",
          "state": {
            "_view_name": "HTMLView",
            "style": "IPY_MODEL_415aba8f79ea401295b47e4a8cdaff36",
            "_dom_classes": [],
            "description": "",
            "_model_name": "HTMLModel",
            "placeholder": "​",
            "_view_module": "@jupyter-widgets/controls",
            "_model_module_version": "1.5.0",
            "value": " 28.0/28.0 [00:00&lt;00:00, 222B/s]",
            "_view_count": null,
            "_view_module_version": "1.5.0",
            "description_tooltip": null,
            "_model_module": "@jupyter-widgets/controls",
            "layout": "IPY_MODEL_18339442a4494b7ba43cc09f08886acd"
          }
        },
        "e6bff4835c42404896331a5e697b7994": {
          "model_module": "@jupyter-widgets/controls",
          "model_name": "DescriptionStyleModel",
          "model_module_version": "1.5.0",
          "state": {
            "_view_name": "StyleView",
            "_model_name": "DescriptionStyleModel",
            "description_width": "",
            "_view_module": "@jupyter-widgets/base",
            "_model_module_version": "1.5.0",
            "_view_count": null,
            "_view_module_version": "1.2.0",
            "_model_module": "@jupyter-widgets/controls"
          }
        },
        "004299a59ffb4383bc9a0bbe17127257": {
          "model_module": "@jupyter-widgets/base",
          "model_name": "LayoutModel",
          "model_module_version": "1.2.0",
          "state": {
            "_view_name": "LayoutView",
            "grid_template_rows": null,
            "right": null,
            "justify_content": null,
            "_view_module": "@jupyter-widgets/base",
            "overflow": null,
            "_model_module_version": "1.2.0",
            "_view_count": null,
            "flex_flow": null,
            "width": null,
            "min_width": null,
            "border": null,
            "align_items": null,
            "bottom": null,
            "_model_module": "@jupyter-widgets/base",
            "top": null,
            "grid_column": null,
            "overflow_y": null,
            "overflow_x": null,
            "grid_auto_flow": null,
            "grid_area": null,
            "grid_template_columns": null,
            "flex": null,
            "_model_name": "LayoutModel",
            "justify_items": null,
            "grid_row": null,
            "max_height": null,
            "align_content": null,
            "visibility": null,
            "align_self": null,
            "height": null,
            "min_height": null,
            "padding": null,
            "grid_auto_rows": null,
            "grid_gap": null,
            "max_width": null,
            "order": null,
            "_view_module_version": "1.2.0",
            "grid_template_areas": null,
            "object_position": null,
            "object_fit": null,
            "grid_auto_columns": null,
            "margin": null,
            "display": null,
            "left": null
          }
        },
        "73e8acc819324721997cbce1dc6f2411": {
          "model_module": "@jupyter-widgets/controls",
          "model_name": "ProgressStyleModel",
          "model_module_version": "1.5.0",
          "state": {
            "_view_name": "StyleView",
            "_model_name": "ProgressStyleModel",
            "description_width": "",
            "_view_module": "@jupyter-widgets/base",
            "_model_module_version": "1.5.0",
            "_view_count": null,
            "_view_module_version": "1.2.0",
            "bar_color": null,
            "_model_module": "@jupyter-widgets/controls"
          }
        },
        "78b9b1f3795f4a578269acdcfaa6262b": {
          "model_module": "@jupyter-widgets/base",
          "model_name": "LayoutModel",
          "model_module_version": "1.2.0",
          "state": {
            "_view_name": "LayoutView",
            "grid_template_rows": null,
            "right": null,
            "justify_content": null,
            "_view_module": "@jupyter-widgets/base",
            "overflow": null,
            "_model_module_version": "1.2.0",
            "_view_count": null,
            "flex_flow": null,
            "width": null,
            "min_width": null,
            "border": null,
            "align_items": null,
            "bottom": null,
            "_model_module": "@jupyter-widgets/base",
            "top": null,
            "grid_column": null,
            "overflow_y": null,
            "overflow_x": null,
            "grid_auto_flow": null,
            "grid_area": null,
            "grid_template_columns": null,
            "flex": null,
            "_model_name": "LayoutModel",
            "justify_items": null,
            "grid_row": null,
            "max_height": null,
            "align_content": null,
            "visibility": null,
            "align_self": null,
            "height": null,
            "min_height": null,
            "padding": null,
            "grid_auto_rows": null,
            "grid_gap": null,
            "max_width": null,
            "order": null,
            "_view_module_version": "1.2.0",
            "grid_template_areas": null,
            "object_position": null,
            "object_fit": null,
            "grid_auto_columns": null,
            "margin": null,
            "display": null,
            "left": null
          }
        },
        "415aba8f79ea401295b47e4a8cdaff36": {
          "model_module": "@jupyter-widgets/controls",
          "model_name": "DescriptionStyleModel",
          "model_module_version": "1.5.0",
          "state": {
            "_view_name": "StyleView",
            "_model_name": "DescriptionStyleModel",
            "description_width": "",
            "_view_module": "@jupyter-widgets/base",
            "_model_module_version": "1.5.0",
            "_view_count": null,
            "_view_module_version": "1.2.0",
            "_model_module": "@jupyter-widgets/controls"
          }
        },
        "18339442a4494b7ba43cc09f08886acd": {
          "model_module": "@jupyter-widgets/base",
          "model_name": "LayoutModel",
          "model_module_version": "1.2.0",
          "state": {
            "_view_name": "LayoutView",
            "grid_template_rows": null,
            "right": null,
            "justify_content": null,
            "_view_module": "@jupyter-widgets/base",
            "overflow": null,
            "_model_module_version": "1.2.0",
            "_view_count": null,
            "flex_flow": null,
            "width": null,
            "min_width": null,
            "border": null,
            "align_items": null,
            "bottom": null,
            "_model_module": "@jupyter-widgets/base",
            "top": null,
            "grid_column": null,
            "overflow_y": null,
            "overflow_x": null,
            "grid_auto_flow": null,
            "grid_area": null,
            "grid_template_columns": null,
            "flex": null,
            "_model_name": "LayoutModel",
            "justify_items": null,
            "grid_row": null,
            "max_height": null,
            "align_content": null,
            "visibility": null,
            "align_self": null,
            "height": null,
            "min_height": null,
            "padding": null,
            "grid_auto_rows": null,
            "grid_gap": null,
            "max_width": null,
            "order": null,
            "_view_module_version": "1.2.0",
            "grid_template_areas": null,
            "object_position": null,
            "object_fit": null,
            "grid_auto_columns": null,
            "margin": null,
            "display": null,
            "left": null
          }
        },
        "60a72c88b72e427ab64c9f638a091e8b": {
          "model_module": "@jupyter-widgets/controls",
          "model_name": "HBoxModel",
          "model_module_version": "1.5.0",
          "state": {
            "_view_name": "HBoxView",
            "_dom_classes": [],
            "_model_name": "HBoxModel",
            "_view_module": "@jupyter-widgets/controls",
            "_model_module_version": "1.5.0",
            "_view_count": null,
            "_view_module_version": "1.5.0",
            "box_style": "",
            "layout": "IPY_MODEL_c8d8caa1bffb4c38b179f95b81b0cc5d",
            "_model_module": "@jupyter-widgets/controls",
            "children": [
              "IPY_MODEL_2f488a97f87846cf972fd162864bc63b",
              "IPY_MODEL_770dc862deee478a9abe201ee6a44ed4",
              "IPY_MODEL_a2aa7e25905a42f0b08da0588ce181df"
            ]
          }
        },
        "c8d8caa1bffb4c38b179f95b81b0cc5d": {
          "model_module": "@jupyter-widgets/base",
          "model_name": "LayoutModel",
          "model_module_version": "1.2.0",
          "state": {
            "_view_name": "LayoutView",
            "grid_template_rows": null,
            "right": null,
            "justify_content": null,
            "_view_module": "@jupyter-widgets/base",
            "overflow": null,
            "_model_module_version": "1.2.0",
            "_view_count": null,
            "flex_flow": null,
            "width": null,
            "min_width": null,
            "border": null,
            "align_items": null,
            "bottom": null,
            "_model_module": "@jupyter-widgets/base",
            "top": null,
            "grid_column": null,
            "overflow_y": null,
            "overflow_x": null,
            "grid_auto_flow": null,
            "grid_area": null,
            "grid_template_columns": null,
            "flex": null,
            "_model_name": "LayoutModel",
            "justify_items": null,
            "grid_row": null,
            "max_height": null,
            "align_content": null,
            "visibility": null,
            "align_self": null,
            "height": null,
            "min_height": null,
            "padding": null,
            "grid_auto_rows": null,
            "grid_gap": null,
            "max_width": null,
            "order": null,
            "_view_module_version": "1.2.0",
            "grid_template_areas": null,
            "object_position": null,
            "object_fit": null,
            "grid_auto_columns": null,
            "margin": null,
            "display": null,
            "left": null
          }
        },
        "2f488a97f87846cf972fd162864bc63b": {
          "model_module": "@jupyter-widgets/controls",
          "model_name": "HTMLModel",
          "model_module_version": "1.5.0",
          "state": {
            "_view_name": "HTMLView",
            "style": "IPY_MODEL_894d7d7b7f2b4c90ab1c5a8b009f2760",
            "_dom_classes": [],
            "description": "",
            "_model_name": "HTMLModel",
            "placeholder": "​",
            "_view_module": "@jupyter-widgets/controls",
            "_model_module_version": "1.5.0",
            "value": "Downloading: 100%",
            "_view_count": null,
            "_view_module_version": "1.5.0",
            "description_tooltip": null,
            "_model_module": "@jupyter-widgets/controls",
            "layout": "IPY_MODEL_b2094ddc6cc44d0db914f0b396357f29"
          }
        },
        "770dc862deee478a9abe201ee6a44ed4": {
          "model_module": "@jupyter-widgets/controls",
          "model_name": "FloatProgressModel",
          "model_module_version": "1.5.0",
          "state": {
            "_view_name": "ProgressView",
            "style": "IPY_MODEL_c40e8e8439334195abd85ed507750392",
            "_dom_classes": [],
            "description": "",
            "_model_name": "FloatProgressModel",
            "bar_style": "success",
            "max": 466062,
            "_view_module": "@jupyter-widgets/controls",
            "_model_module_version": "1.5.0",
            "value": 466062,
            "_view_count": null,
            "_view_module_version": "1.5.0",
            "orientation": "horizontal",
            "min": 0,
            "description_tooltip": null,
            "_model_module": "@jupyter-widgets/controls",
            "layout": "IPY_MODEL_43ea6ce231624fe7aea83994c98462dd"
          }
        },
        "a2aa7e25905a42f0b08da0588ce181df": {
          "model_module": "@jupyter-widgets/controls",
          "model_name": "HTMLModel",
          "model_module_version": "1.5.0",
          "state": {
            "_view_name": "HTMLView",
            "style": "IPY_MODEL_b404e48b22cb46639f7c8194d164c045",
            "_dom_classes": [],
            "description": "",
            "_model_name": "HTMLModel",
            "placeholder": "​",
            "_view_module": "@jupyter-widgets/controls",
            "_model_module_version": "1.5.0",
            "value": " 455k/455k [00:00&lt;00:00, 471kB/s]",
            "_view_count": null,
            "_view_module_version": "1.5.0",
            "description_tooltip": null,
            "_model_module": "@jupyter-widgets/controls",
            "layout": "IPY_MODEL_d95b71e5f636482e9ff0a10b59eb174c"
          }
        },
        "894d7d7b7f2b4c90ab1c5a8b009f2760": {
          "model_module": "@jupyter-widgets/controls",
          "model_name": "DescriptionStyleModel",
          "model_module_version": "1.5.0",
          "state": {
            "_view_name": "StyleView",
            "_model_name": "DescriptionStyleModel",
            "description_width": "",
            "_view_module": "@jupyter-widgets/base",
            "_model_module_version": "1.5.0",
            "_view_count": null,
            "_view_module_version": "1.2.0",
            "_model_module": "@jupyter-widgets/controls"
          }
        },
        "b2094ddc6cc44d0db914f0b396357f29": {
          "model_module": "@jupyter-widgets/base",
          "model_name": "LayoutModel",
          "model_module_version": "1.2.0",
          "state": {
            "_view_name": "LayoutView",
            "grid_template_rows": null,
            "right": null,
            "justify_content": null,
            "_view_module": "@jupyter-widgets/base",
            "overflow": null,
            "_model_module_version": "1.2.0",
            "_view_count": null,
            "flex_flow": null,
            "width": null,
            "min_width": null,
            "border": null,
            "align_items": null,
            "bottom": null,
            "_model_module": "@jupyter-widgets/base",
            "top": null,
            "grid_column": null,
            "overflow_y": null,
            "overflow_x": null,
            "grid_auto_flow": null,
            "grid_area": null,
            "grid_template_columns": null,
            "flex": null,
            "_model_name": "LayoutModel",
            "justify_items": null,
            "grid_row": null,
            "max_height": null,
            "align_content": null,
            "visibility": null,
            "align_self": null,
            "height": null,
            "min_height": null,
            "padding": null,
            "grid_auto_rows": null,
            "grid_gap": null,
            "max_width": null,
            "order": null,
            "_view_module_version": "1.2.0",
            "grid_template_areas": null,
            "object_position": null,
            "object_fit": null,
            "grid_auto_columns": null,
            "margin": null,
            "display": null,
            "left": null
          }
        },
        "c40e8e8439334195abd85ed507750392": {
          "model_module": "@jupyter-widgets/controls",
          "model_name": "ProgressStyleModel",
          "model_module_version": "1.5.0",
          "state": {
            "_view_name": "StyleView",
            "_model_name": "ProgressStyleModel",
            "description_width": "",
            "_view_module": "@jupyter-widgets/base",
            "_model_module_version": "1.5.0",
            "_view_count": null,
            "_view_module_version": "1.2.0",
            "bar_color": null,
            "_model_module": "@jupyter-widgets/controls"
          }
        },
        "43ea6ce231624fe7aea83994c98462dd": {
          "model_module": "@jupyter-widgets/base",
          "model_name": "LayoutModel",
          "model_module_version": "1.2.0",
          "state": {
            "_view_name": "LayoutView",
            "grid_template_rows": null,
            "right": null,
            "justify_content": null,
            "_view_module": "@jupyter-widgets/base",
            "overflow": null,
            "_model_module_version": "1.2.0",
            "_view_count": null,
            "flex_flow": null,
            "width": null,
            "min_width": null,
            "border": null,
            "align_items": null,
            "bottom": null,
            "_model_module": "@jupyter-widgets/base",
            "top": null,
            "grid_column": null,
            "overflow_y": null,
            "overflow_x": null,
            "grid_auto_flow": null,
            "grid_area": null,
            "grid_template_columns": null,
            "flex": null,
            "_model_name": "LayoutModel",
            "justify_items": null,
            "grid_row": null,
            "max_height": null,
            "align_content": null,
            "visibility": null,
            "align_self": null,
            "height": null,
            "min_height": null,
            "padding": null,
            "grid_auto_rows": null,
            "grid_gap": null,
            "max_width": null,
            "order": null,
            "_view_module_version": "1.2.0",
            "grid_template_areas": null,
            "object_position": null,
            "object_fit": null,
            "grid_auto_columns": null,
            "margin": null,
            "display": null,
            "left": null
          }
        },
        "b404e48b22cb46639f7c8194d164c045": {
          "model_module": "@jupyter-widgets/controls",
          "model_name": "DescriptionStyleModel",
          "model_module_version": "1.5.0",
          "state": {
            "_view_name": "StyleView",
            "_model_name": "DescriptionStyleModel",
            "description_width": "",
            "_view_module": "@jupyter-widgets/base",
            "_model_module_version": "1.5.0",
            "_view_count": null,
            "_view_module_version": "1.2.0",
            "_model_module": "@jupyter-widgets/controls"
          }
        },
        "d95b71e5f636482e9ff0a10b59eb174c": {
          "model_module": "@jupyter-widgets/base",
          "model_name": "LayoutModel",
          "model_module_version": "1.2.0",
          "state": {
            "_view_name": "LayoutView",
            "grid_template_rows": null,
            "right": null,
            "justify_content": null,
            "_view_module": "@jupyter-widgets/base",
            "overflow": null,
            "_model_module_version": "1.2.0",
            "_view_count": null,
            "flex_flow": null,
            "width": null,
            "min_width": null,
            "border": null,
            "align_items": null,
            "bottom": null,
            "_model_module": "@jupyter-widgets/base",
            "top": null,
            "grid_column": null,
            "overflow_y": null,
            "overflow_x": null,
            "grid_auto_flow": null,
            "grid_area": null,
            "grid_template_columns": null,
            "flex": null,
            "_model_name": "LayoutModel",
            "justify_items": null,
            "grid_row": null,
            "max_height": null,
            "align_content": null,
            "visibility": null,
            "align_self": null,
            "height": null,
            "min_height": null,
            "padding": null,
            "grid_auto_rows": null,
            "grid_gap": null,
            "max_width": null,
            "order": null,
            "_view_module_version": "1.2.0",
            "grid_template_areas": null,
            "object_position": null,
            "object_fit": null,
            "grid_auto_columns": null,
            "margin": null,
            "display": null,
            "left": null
          }
        },
        "886a32c6eefa443f8d36dcdeba718231": {
          "model_module": "@jupyter-widgets/controls",
          "model_name": "HBoxModel",
          "model_module_version": "1.5.0",
          "state": {
            "_view_name": "HBoxView",
            "_dom_classes": [],
            "_model_name": "HBoxModel",
            "_view_module": "@jupyter-widgets/controls",
            "_model_module_version": "1.5.0",
            "_view_count": null,
            "_view_module_version": "1.5.0",
            "box_style": "",
            "layout": "IPY_MODEL_f6602e10c6ae4624919f5d6533b31cec",
            "_model_module": "@jupyter-widgets/controls",
            "children": [
              "IPY_MODEL_895b76ea1ac242a6a02551390ff2b26b",
              "IPY_MODEL_9a50525282bb42f8be9ebaf74a82cabf",
              "IPY_MODEL_916d0662a911473680b28d88604a1d2e"
            ]
          }
        },
        "f6602e10c6ae4624919f5d6533b31cec": {
          "model_module": "@jupyter-widgets/base",
          "model_name": "LayoutModel",
          "model_module_version": "1.2.0",
          "state": {
            "_view_name": "LayoutView",
            "grid_template_rows": null,
            "right": null,
            "justify_content": null,
            "_view_module": "@jupyter-widgets/base",
            "overflow": null,
            "_model_module_version": "1.2.0",
            "_view_count": null,
            "flex_flow": null,
            "width": null,
            "min_width": null,
            "border": null,
            "align_items": null,
            "bottom": null,
            "_model_module": "@jupyter-widgets/base",
            "top": null,
            "grid_column": null,
            "overflow_y": null,
            "overflow_x": null,
            "grid_auto_flow": null,
            "grid_area": null,
            "grid_template_columns": null,
            "flex": null,
            "_model_name": "LayoutModel",
            "justify_items": null,
            "grid_row": null,
            "max_height": null,
            "align_content": null,
            "visibility": null,
            "align_self": null,
            "height": null,
            "min_height": null,
            "padding": null,
            "grid_auto_rows": null,
            "grid_gap": null,
            "max_width": null,
            "order": null,
            "_view_module_version": "1.2.0",
            "grid_template_areas": null,
            "object_position": null,
            "object_fit": null,
            "grid_auto_columns": null,
            "margin": null,
            "display": null,
            "left": null
          }
        },
        "895b76ea1ac242a6a02551390ff2b26b": {
          "model_module": "@jupyter-widgets/controls",
          "model_name": "HTMLModel",
          "model_module_version": "1.5.0",
          "state": {
            "_view_name": "HTMLView",
            "style": "IPY_MODEL_49e330c5183e449f8c44f779d7982ba8",
            "_dom_classes": [],
            "description": "",
            "_model_name": "HTMLModel",
            "placeholder": "​",
            "_view_module": "@jupyter-widgets/controls",
            "_model_module_version": "1.5.0",
            "value": "Downloading: 100%",
            "_view_count": null,
            "_view_module_version": "1.5.0",
            "description_tooltip": null,
            "_model_module": "@jupyter-widgets/controls",
            "layout": "IPY_MODEL_bd27db366aca4a428a1a0861370fac45"
          }
        },
        "9a50525282bb42f8be9ebaf74a82cabf": {
          "model_module": "@jupyter-widgets/controls",
          "model_name": "FloatProgressModel",
          "model_module_version": "1.5.0",
          "state": {
            "_view_name": "ProgressView",
            "style": "IPY_MODEL_e0307cb124484e748b880abd96ce1511",
            "_dom_classes": [],
            "description": "",
            "_model_name": "FloatProgressModel",
            "bar_style": "success",
            "max": 570,
            "_view_module": "@jupyter-widgets/controls",
            "_model_module_version": "1.5.0",
            "value": 570,
            "_view_count": null,
            "_view_module_version": "1.5.0",
            "orientation": "horizontal",
            "min": 0,
            "description_tooltip": null,
            "_model_module": "@jupyter-widgets/controls",
            "layout": "IPY_MODEL_5b132032a9304cdea2548e5b9ab7298e"
          }
        },
        "916d0662a911473680b28d88604a1d2e": {
          "model_module": "@jupyter-widgets/controls",
          "model_name": "HTMLModel",
          "model_module_version": "1.5.0",
          "state": {
            "_view_name": "HTMLView",
            "style": "IPY_MODEL_d270a872e14848f781d231f06ed79dac",
            "_dom_classes": [],
            "description": "",
            "_model_name": "HTMLModel",
            "placeholder": "​",
            "_view_module": "@jupyter-widgets/controls",
            "_model_module_version": "1.5.0",
            "value": " 570/570 [00:00&lt;00:00, 9.52kB/s]",
            "_view_count": null,
            "_view_module_version": "1.5.0",
            "description_tooltip": null,
            "_model_module": "@jupyter-widgets/controls",
            "layout": "IPY_MODEL_156f24999b7744658a6f7cef694e8965"
          }
        },
        "49e330c5183e449f8c44f779d7982ba8": {
          "model_module": "@jupyter-widgets/controls",
          "model_name": "DescriptionStyleModel",
          "model_module_version": "1.5.0",
          "state": {
            "_view_name": "StyleView",
            "_model_name": "DescriptionStyleModel",
            "description_width": "",
            "_view_module": "@jupyter-widgets/base",
            "_model_module_version": "1.5.0",
            "_view_count": null,
            "_view_module_version": "1.2.0",
            "_model_module": "@jupyter-widgets/controls"
          }
        },
        "bd27db366aca4a428a1a0861370fac45": {
          "model_module": "@jupyter-widgets/base",
          "model_name": "LayoutModel",
          "model_module_version": "1.2.0",
          "state": {
            "_view_name": "LayoutView",
            "grid_template_rows": null,
            "right": null,
            "justify_content": null,
            "_view_module": "@jupyter-widgets/base",
            "overflow": null,
            "_model_module_version": "1.2.0",
            "_view_count": null,
            "flex_flow": null,
            "width": null,
            "min_width": null,
            "border": null,
            "align_items": null,
            "bottom": null,
            "_model_module": "@jupyter-widgets/base",
            "top": null,
            "grid_column": null,
            "overflow_y": null,
            "overflow_x": null,
            "grid_auto_flow": null,
            "grid_area": null,
            "grid_template_columns": null,
            "flex": null,
            "_model_name": "LayoutModel",
            "justify_items": null,
            "grid_row": null,
            "max_height": null,
            "align_content": null,
            "visibility": null,
            "align_self": null,
            "height": null,
            "min_height": null,
            "padding": null,
            "grid_auto_rows": null,
            "grid_gap": null,
            "max_width": null,
            "order": null,
            "_view_module_version": "1.2.0",
            "grid_template_areas": null,
            "object_position": null,
            "object_fit": null,
            "grid_auto_columns": null,
            "margin": null,
            "display": null,
            "left": null
          }
        },
        "e0307cb124484e748b880abd96ce1511": {
          "model_module": "@jupyter-widgets/controls",
          "model_name": "ProgressStyleModel",
          "model_module_version": "1.5.0",
          "state": {
            "_view_name": "StyleView",
            "_model_name": "ProgressStyleModel",
            "description_width": "",
            "_view_module": "@jupyter-widgets/base",
            "_model_module_version": "1.5.0",
            "_view_count": null,
            "_view_module_version": "1.2.0",
            "bar_color": null,
            "_model_module": "@jupyter-widgets/controls"
          }
        },
        "5b132032a9304cdea2548e5b9ab7298e": {
          "model_module": "@jupyter-widgets/base",
          "model_name": "LayoutModel",
          "model_module_version": "1.2.0",
          "state": {
            "_view_name": "LayoutView",
            "grid_template_rows": null,
            "right": null,
            "justify_content": null,
            "_view_module": "@jupyter-widgets/base",
            "overflow": null,
            "_model_module_version": "1.2.0",
            "_view_count": null,
            "flex_flow": null,
            "width": null,
            "min_width": null,
            "border": null,
            "align_items": null,
            "bottom": null,
            "_model_module": "@jupyter-widgets/base",
            "top": null,
            "grid_column": null,
            "overflow_y": null,
            "overflow_x": null,
            "grid_auto_flow": null,
            "grid_area": null,
            "grid_template_columns": null,
            "flex": null,
            "_model_name": "LayoutModel",
            "justify_items": null,
            "grid_row": null,
            "max_height": null,
            "align_content": null,
            "visibility": null,
            "align_self": null,
            "height": null,
            "min_height": null,
            "padding": null,
            "grid_auto_rows": null,
            "grid_gap": null,
            "max_width": null,
            "order": null,
            "_view_module_version": "1.2.0",
            "grid_template_areas": null,
            "object_position": null,
            "object_fit": null,
            "grid_auto_columns": null,
            "margin": null,
            "display": null,
            "left": null
          }
        },
        "d270a872e14848f781d231f06ed79dac": {
          "model_module": "@jupyter-widgets/controls",
          "model_name": "DescriptionStyleModel",
          "model_module_version": "1.5.0",
          "state": {
            "_view_name": "StyleView",
            "_model_name": "DescriptionStyleModel",
            "description_width": "",
            "_view_module": "@jupyter-widgets/base",
            "_model_module_version": "1.5.0",
            "_view_count": null,
            "_view_module_version": "1.2.0",
            "_model_module": "@jupyter-widgets/controls"
          }
        },
        "156f24999b7744658a6f7cef694e8965": {
          "model_module": "@jupyter-widgets/base",
          "model_name": "LayoutModel",
          "model_module_version": "1.2.0",
          "state": {
            "_view_name": "LayoutView",
            "grid_template_rows": null,
            "right": null,
            "justify_content": null,
            "_view_module": "@jupyter-widgets/base",
            "overflow": null,
            "_model_module_version": "1.2.0",
            "_view_count": null,
            "flex_flow": null,
            "width": null,
            "min_width": null,
            "border": null,
            "align_items": null,
            "bottom": null,
            "_model_module": "@jupyter-widgets/base",
            "top": null,
            "grid_column": null,
            "overflow_y": null,
            "overflow_x": null,
            "grid_auto_flow": null,
            "grid_area": null,
            "grid_template_columns": null,
            "flex": null,
            "_model_name": "LayoutModel",
            "justify_items": null,
            "grid_row": null,
            "max_height": null,
            "align_content": null,
            "visibility": null,
            "align_self": null,
            "height": null,
            "min_height": null,
            "padding": null,
            "grid_auto_rows": null,
            "grid_gap": null,
            "max_width": null,
            "order": null,
            "_view_module_version": "1.2.0",
            "grid_template_areas": null,
            "object_position": null,
            "object_fit": null,
            "grid_auto_columns": null,
            "margin": null,
            "display": null,
            "left": null
          }
        }
      }
    }
  },
  "cells": [
    {
      "cell_type": "code",
      "execution_count": 1,
      "metadata": {
        "colab": {
          "base_uri": "https://localhost:8080/"
        },
        "id": "TZ0bgJiQNb5U",
        "outputId": "ee0186d1-b786-4604-c489-310c76510c54"
      },
      "outputs": [
        {
          "output_type": "stream",
          "name": "stdout",
          "text": [
            "Collecting transformers\n",
            "  Downloading transformers-4.15.0-py3-none-any.whl (3.4 MB)\n",
            "\u001b[?25l\r\u001b[K     |                                | 10 kB 30.9 MB/s eta 0:00:01\r\u001b[K     |▏                               | 20 kB 35.9 MB/s eta 0:00:01\r\u001b[K     |▎                               | 30 kB 20.4 MB/s eta 0:00:01\r\u001b[K     |▍                               | 40 kB 16.5 MB/s eta 0:00:01\r\u001b[K     |▌                               | 51 kB 8.8 MB/s eta 0:00:01\r\u001b[K     |▋                               | 61 kB 9.6 MB/s eta 0:00:01\r\u001b[K     |▊                               | 71 kB 8.5 MB/s eta 0:00:01\r\u001b[K     |▉                               | 81 kB 9.5 MB/s eta 0:00:01\r\u001b[K     |▉                               | 92 kB 10.0 MB/s eta 0:00:01\r\u001b[K     |█                               | 102 kB 8.4 MB/s eta 0:00:01\r\u001b[K     |█                               | 112 kB 8.4 MB/s eta 0:00:01\r\u001b[K     |█▏                              | 122 kB 8.4 MB/s eta 0:00:01\r\u001b[K     |█▎                              | 133 kB 8.4 MB/s eta 0:00:01\r\u001b[K     |█▍                              | 143 kB 8.4 MB/s eta 0:00:01\r\u001b[K     |█▌                              | 153 kB 8.4 MB/s eta 0:00:01\r\u001b[K     |█▋                              | 163 kB 8.4 MB/s eta 0:00:01\r\u001b[K     |█▋                              | 174 kB 8.4 MB/s eta 0:00:01\r\u001b[K     |█▊                              | 184 kB 8.4 MB/s eta 0:00:01\r\u001b[K     |█▉                              | 194 kB 8.4 MB/s eta 0:00:01\r\u001b[K     |██                              | 204 kB 8.4 MB/s eta 0:00:01\r\u001b[K     |██                              | 215 kB 8.4 MB/s eta 0:00:01\r\u001b[K     |██▏                             | 225 kB 8.4 MB/s eta 0:00:01\r\u001b[K     |██▎                             | 235 kB 8.4 MB/s eta 0:00:01\r\u001b[K     |██▍                             | 245 kB 8.4 MB/s eta 0:00:01\r\u001b[K     |██▍                             | 256 kB 8.4 MB/s eta 0:00:01\r\u001b[K     |██▌                             | 266 kB 8.4 MB/s eta 0:00:01\r\u001b[K     |██▋                             | 276 kB 8.4 MB/s eta 0:00:01\r\u001b[K     |██▊                             | 286 kB 8.4 MB/s eta 0:00:01\r\u001b[K     |██▉                             | 296 kB 8.4 MB/s eta 0:00:01\r\u001b[K     |███                             | 307 kB 8.4 MB/s eta 0:00:01\r\u001b[K     |███                             | 317 kB 8.4 MB/s eta 0:00:01\r\u001b[K     |███▏                            | 327 kB 8.4 MB/s eta 0:00:01\r\u001b[K     |███▎                            | 337 kB 8.4 MB/s eta 0:00:01\r\u001b[K     |███▎                            | 348 kB 8.4 MB/s eta 0:00:01\r\u001b[K     |███▍                            | 358 kB 8.4 MB/s eta 0:00:01\r\u001b[K     |███▌                            | 368 kB 8.4 MB/s eta 0:00:01\r\u001b[K     |███▋                            | 378 kB 8.4 MB/s eta 0:00:01\r\u001b[K     |███▊                            | 389 kB 8.4 MB/s eta 0:00:01\r\u001b[K     |███▉                            | 399 kB 8.4 MB/s eta 0:00:01\r\u001b[K     |████                            | 409 kB 8.4 MB/s eta 0:00:01\r\u001b[K     |████                            | 419 kB 8.4 MB/s eta 0:00:01\r\u001b[K     |████                            | 430 kB 8.4 MB/s eta 0:00:01\r\u001b[K     |████▏                           | 440 kB 8.4 MB/s eta 0:00:01\r\u001b[K     |████▎                           | 450 kB 8.4 MB/s eta 0:00:01\r\u001b[K     |████▍                           | 460 kB 8.4 MB/s eta 0:00:01\r\u001b[K     |████▌                           | 471 kB 8.4 MB/s eta 0:00:01\r\u001b[K     |████▋                           | 481 kB 8.4 MB/s eta 0:00:01\r\u001b[K     |████▊                           | 491 kB 8.4 MB/s eta 0:00:01\r\u001b[K     |████▉                           | 501 kB 8.4 MB/s eta 0:00:01\r\u001b[K     |████▉                           | 512 kB 8.4 MB/s eta 0:00:01\r\u001b[K     |█████                           | 522 kB 8.4 MB/s eta 0:00:01\r\u001b[K     |█████                           | 532 kB 8.4 MB/s eta 0:00:01\r\u001b[K     |█████▏                          | 542 kB 8.4 MB/s eta 0:00:01\r\u001b[K     |█████▎                          | 552 kB 8.4 MB/s eta 0:00:01\r\u001b[K     |█████▍                          | 563 kB 8.4 MB/s eta 0:00:01\r\u001b[K     |█████▌                          | 573 kB 8.4 MB/s eta 0:00:01\r\u001b[K     |█████▋                          | 583 kB 8.4 MB/s eta 0:00:01\r\u001b[K     |█████▋                          | 593 kB 8.4 MB/s eta 0:00:01\r\u001b[K     |█████▊                          | 604 kB 8.4 MB/s eta 0:00:01\r\u001b[K     |█████▉                          | 614 kB 8.4 MB/s eta 0:00:01\r\u001b[K     |██████                          | 624 kB 8.4 MB/s eta 0:00:01\r\u001b[K     |██████                          | 634 kB 8.4 MB/s eta 0:00:01\r\u001b[K     |██████▏                         | 645 kB 8.4 MB/s eta 0:00:01\r\u001b[K     |██████▎                         | 655 kB 8.4 MB/s eta 0:00:01\r\u001b[K     |██████▍                         | 665 kB 8.4 MB/s eta 0:00:01\r\u001b[K     |██████▌                         | 675 kB 8.4 MB/s eta 0:00:01\r\u001b[K     |██████▌                         | 686 kB 8.4 MB/s eta 0:00:01\r\u001b[K     |██████▋                         | 696 kB 8.4 MB/s eta 0:00:01\r\u001b[K     |██████▊                         | 706 kB 8.4 MB/s eta 0:00:01\r\u001b[K     |██████▉                         | 716 kB 8.4 MB/s eta 0:00:01\r\u001b[K     |███████                         | 727 kB 8.4 MB/s eta 0:00:01\r\u001b[K     |███████                         | 737 kB 8.4 MB/s eta 0:00:01\r\u001b[K     |███████▏                        | 747 kB 8.4 MB/s eta 0:00:01\r\u001b[K     |███████▎                        | 757 kB 8.4 MB/s eta 0:00:01\r\u001b[K     |███████▎                        | 768 kB 8.4 MB/s eta 0:00:01\r\u001b[K     |███████▍                        | 778 kB 8.4 MB/s eta 0:00:01\r\u001b[K     |███████▌                        | 788 kB 8.4 MB/s eta 0:00:01\r\u001b[K     |███████▋                        | 798 kB 8.4 MB/s eta 0:00:01\r\u001b[K     |███████▊                        | 808 kB 8.4 MB/s eta 0:00:01\r\u001b[K     |███████▉                        | 819 kB 8.4 MB/s eta 0:00:01\r\u001b[K     |████████                        | 829 kB 8.4 MB/s eta 0:00:01\r\u001b[K     |████████                        | 839 kB 8.4 MB/s eta 0:00:01\r\u001b[K     |████████                        | 849 kB 8.4 MB/s eta 0:00:01\r\u001b[K     |████████▏                       | 860 kB 8.4 MB/s eta 0:00:01\r\u001b[K     |████████▎                       | 870 kB 8.4 MB/s eta 0:00:01\r\u001b[K     |████████▍                       | 880 kB 8.4 MB/s eta 0:00:01\r\u001b[K     |████████▌                       | 890 kB 8.4 MB/s eta 0:00:01\r\u001b[K     |████████▋                       | 901 kB 8.4 MB/s eta 0:00:01\r\u001b[K     |████████▊                       | 911 kB 8.4 MB/s eta 0:00:01\r\u001b[K     |████████▉                       | 921 kB 8.4 MB/s eta 0:00:01\r\u001b[K     |████████▉                       | 931 kB 8.4 MB/s eta 0:00:01\r\u001b[K     |█████████                       | 942 kB 8.4 MB/s eta 0:00:01\r\u001b[K     |█████████                       | 952 kB 8.4 MB/s eta 0:00:01\r\u001b[K     |█████████▏                      | 962 kB 8.4 MB/s eta 0:00:01\r\u001b[K     |█████████▎                      | 972 kB 8.4 MB/s eta 0:00:01\r\u001b[K     |█████████▍                      | 983 kB 8.4 MB/s eta 0:00:01\r\u001b[K     |█████████▌                      | 993 kB 8.4 MB/s eta 0:00:01\r\u001b[K     |█████████▋                      | 1.0 MB 8.4 MB/s eta 0:00:01\r\u001b[K     |█████████▊                      | 1.0 MB 8.4 MB/s eta 0:00:01\r\u001b[K     |█████████▊                      | 1.0 MB 8.4 MB/s eta 0:00:01\r\u001b[K     |█████████▉                      | 1.0 MB 8.4 MB/s eta 0:00:01\r\u001b[K     |██████████                      | 1.0 MB 8.4 MB/s eta 0:00:01\r\u001b[K     |██████████                      | 1.1 MB 8.4 MB/s eta 0:00:01\r\u001b[K     |██████████▏                     | 1.1 MB 8.4 MB/s eta 0:00:01\r\u001b[K     |██████████▎                     | 1.1 MB 8.4 MB/s eta 0:00:01\r\u001b[K     |██████████▍                     | 1.1 MB 8.4 MB/s eta 0:00:01\r\u001b[K     |██████████▌                     | 1.1 MB 8.4 MB/s eta 0:00:01\r\u001b[K     |██████████▌                     | 1.1 MB 8.4 MB/s eta 0:00:01\r\u001b[K     |██████████▋                     | 1.1 MB 8.4 MB/s eta 0:00:01\r\u001b[K     |██████████▊                     | 1.1 MB 8.4 MB/s eta 0:00:01\r\u001b[K     |██████████▉                     | 1.1 MB 8.4 MB/s eta 0:00:01\r\u001b[K     |███████████                     | 1.1 MB 8.4 MB/s eta 0:00:01\r\u001b[K     |███████████                     | 1.2 MB 8.4 MB/s eta 0:00:01\r\u001b[K     |███████████▏                    | 1.2 MB 8.4 MB/s eta 0:00:01\r\u001b[K     |███████████▎                    | 1.2 MB 8.4 MB/s eta 0:00:01\r\u001b[K     |███████████▎                    | 1.2 MB 8.4 MB/s eta 0:00:01\r\u001b[K     |███████████▍                    | 1.2 MB 8.4 MB/s eta 0:00:01\r\u001b[K     |███████████▌                    | 1.2 MB 8.4 MB/s eta 0:00:01\r\u001b[K     |███████████▋                    | 1.2 MB 8.4 MB/s eta 0:00:01\r\u001b[K     |███████████▊                    | 1.2 MB 8.4 MB/s eta 0:00:01\r\u001b[K     |███████████▉                    | 1.2 MB 8.4 MB/s eta 0:00:01\r\u001b[K     |████████████                    | 1.2 MB 8.4 MB/s eta 0:00:01\r\u001b[K     |████████████                    | 1.3 MB 8.4 MB/s eta 0:00:01\r\u001b[K     |████████████                    | 1.3 MB 8.4 MB/s eta 0:00:01\r\u001b[K     |████████████▏                   | 1.3 MB 8.4 MB/s eta 0:00:01\r\u001b[K     |████████████▎                   | 1.3 MB 8.4 MB/s eta 0:00:01\r\u001b[K     |████████████▍                   | 1.3 MB 8.4 MB/s eta 0:00:01\r\u001b[K     |████████████▌                   | 1.3 MB 8.4 MB/s eta 0:00:01\r\u001b[K     |████████████▋                   | 1.3 MB 8.4 MB/s eta 0:00:01\r\u001b[K     |████████████▊                   | 1.3 MB 8.4 MB/s eta 0:00:01\r\u001b[K     |████████████▉                   | 1.3 MB 8.4 MB/s eta 0:00:01\r\u001b[K     |█████████████                   | 1.4 MB 8.4 MB/s eta 0:00:01\r\u001b[K     |█████████████                   | 1.4 MB 8.4 MB/s eta 0:00:01\r\u001b[K     |█████████████                   | 1.4 MB 8.4 MB/s eta 0:00:01\r\u001b[K     |█████████████▏                  | 1.4 MB 8.4 MB/s eta 0:00:01\r\u001b[K     |█████████████▎                  | 1.4 MB 8.4 MB/s eta 0:00:01\r\u001b[K     |█████████████▍                  | 1.4 MB 8.4 MB/s eta 0:00:01\r\u001b[K     |█████████████▌                  | 1.4 MB 8.4 MB/s eta 0:00:01\r\u001b[K     |█████████████▋                  | 1.4 MB 8.4 MB/s eta 0:00:01\r\u001b[K     |█████████████▊                  | 1.4 MB 8.4 MB/s eta 0:00:01\r\u001b[K     |█████████████▊                  | 1.4 MB 8.4 MB/s eta 0:00:01\r\u001b[K     |█████████████▉                  | 1.5 MB 8.4 MB/s eta 0:00:01\r\u001b[K     |██████████████                  | 1.5 MB 8.4 MB/s eta 0:00:01\r\u001b[K     |██████████████                  | 1.5 MB 8.4 MB/s eta 0:00:01\r\u001b[K     |██████████████▏                 | 1.5 MB 8.4 MB/s eta 0:00:01\r\u001b[K     |██████████████▎                 | 1.5 MB 8.4 MB/s eta 0:00:01\r\u001b[K     |██████████████▍                 | 1.5 MB 8.4 MB/s eta 0:00:01\r\u001b[K     |██████████████▌                 | 1.5 MB 8.4 MB/s eta 0:00:01\r\u001b[K     |██████████████▌                 | 1.5 MB 8.4 MB/s eta 0:00:01\r\u001b[K     |██████████████▋                 | 1.5 MB 8.4 MB/s eta 0:00:01\r\u001b[K     |██████████████▊                 | 1.5 MB 8.4 MB/s eta 0:00:01\r\u001b[K     |██████████████▉                 | 1.6 MB 8.4 MB/s eta 0:00:01\r\u001b[K     |███████████████                 | 1.6 MB 8.4 MB/s eta 0:00:01\r\u001b[K     |███████████████                 | 1.6 MB 8.4 MB/s eta 0:00:01\r\u001b[K     |███████████████▏                | 1.6 MB 8.4 MB/s eta 0:00:01\r\u001b[K     |███████████████▎                | 1.6 MB 8.4 MB/s eta 0:00:01\r\u001b[K     |███████████████▎                | 1.6 MB 8.4 MB/s eta 0:00:01\r\u001b[K     |███████████████▍                | 1.6 MB 8.4 MB/s eta 0:00:01\r\u001b[K     |███████████████▌                | 1.6 MB 8.4 MB/s eta 0:00:01\r\u001b[K     |███████████████▋                | 1.6 MB 8.4 MB/s eta 0:00:01\r\u001b[K     |███████████████▊                | 1.6 MB 8.4 MB/s eta 0:00:01\r\u001b[K     |███████████████▉                | 1.7 MB 8.4 MB/s eta 0:00:01\r\u001b[K     |████████████████                | 1.7 MB 8.4 MB/s eta 0:00:01\r\u001b[K     |████████████████                | 1.7 MB 8.4 MB/s eta 0:00:01\r\u001b[K     |████████████████▏               | 1.7 MB 8.4 MB/s eta 0:00:01\r\u001b[K     |████████████████▏               | 1.7 MB 8.4 MB/s eta 0:00:01\r\u001b[K     |████████████████▎               | 1.7 MB 8.4 MB/s eta 0:00:01\r\u001b[K     |████████████████▍               | 1.7 MB 8.4 MB/s eta 0:00:01\r\u001b[K     |████████████████▌               | 1.7 MB 8.4 MB/s eta 0:00:01\r\u001b[K     |████████████████▋               | 1.7 MB 8.4 MB/s eta 0:00:01\r\u001b[K     |████████████████▊               | 1.8 MB 8.4 MB/s eta 0:00:01\r\u001b[K     |████████████████▉               | 1.8 MB 8.4 MB/s eta 0:00:01\r\u001b[K     |█████████████████               | 1.8 MB 8.4 MB/s eta 0:00:01\r\u001b[K     |█████████████████               | 1.8 MB 8.4 MB/s eta 0:00:01\r\u001b[K     |█████████████████               | 1.8 MB 8.4 MB/s eta 0:00:01\r\u001b[K     |█████████████████▏              | 1.8 MB 8.4 MB/s eta 0:00:01\r\u001b[K     |█████████████████▎              | 1.8 MB 8.4 MB/s eta 0:00:01\r\u001b[K     |█████████████████▍              | 1.8 MB 8.4 MB/s eta 0:00:01\r\u001b[K     |█████████████████▌              | 1.8 MB 8.4 MB/s eta 0:00:01\r\u001b[K     |█████████████████▋              | 1.8 MB 8.4 MB/s eta 0:00:01\r\u001b[K     |█████████████████▊              | 1.9 MB 8.4 MB/s eta 0:00:01\r\u001b[K     |█████████████████▊              | 1.9 MB 8.4 MB/s eta 0:00:01\r\u001b[K     |█████████████████▉              | 1.9 MB 8.4 MB/s eta 0:00:01\r\u001b[K     |██████████████████              | 1.9 MB 8.4 MB/s eta 0:00:01\r\u001b[K     |██████████████████              | 1.9 MB 8.4 MB/s eta 0:00:01\r\u001b[K     |██████████████████▏             | 1.9 MB 8.4 MB/s eta 0:00:01\r\u001b[K     |██████████████████▎             | 1.9 MB 8.4 MB/s eta 0:00:01\r\u001b[K     |██████████████████▍             | 1.9 MB 8.4 MB/s eta 0:00:01\r\u001b[K     |██████████████████▌             | 1.9 MB 8.4 MB/s eta 0:00:01\r\u001b[K     |██████████████████▌             | 1.9 MB 8.4 MB/s eta 0:00:01\r\u001b[K     |██████████████████▋             | 2.0 MB 8.4 MB/s eta 0:00:01\r\u001b[K     |██████████████████▊             | 2.0 MB 8.4 MB/s eta 0:00:01\r\u001b[K     |██████████████████▉             | 2.0 MB 8.4 MB/s eta 0:00:01\r\u001b[K     |███████████████████             | 2.0 MB 8.4 MB/s eta 0:00:01\r\u001b[K     |███████████████████             | 2.0 MB 8.4 MB/s eta 0:00:01\r\u001b[K     |███████████████████▏            | 2.0 MB 8.4 MB/s eta 0:00:01\r\u001b[K     |███████████████████▎            | 2.0 MB 8.4 MB/s eta 0:00:01\r\u001b[K     |███████████████████▍            | 2.0 MB 8.4 MB/s eta 0:00:01\r\u001b[K     |███████████████████▍            | 2.0 MB 8.4 MB/s eta 0:00:01\r\u001b[K     |███████████████████▌            | 2.0 MB 8.4 MB/s eta 0:00:01\r\u001b[K     |███████████████████▋            | 2.1 MB 8.4 MB/s eta 0:00:01\r\u001b[K     |███████████████████▊            | 2.1 MB 8.4 MB/s eta 0:00:01\r\u001b[K     |███████████████████▉            | 2.1 MB 8.4 MB/s eta 0:00:01\r\u001b[K     |████████████████████            | 2.1 MB 8.4 MB/s eta 0:00:01\r\u001b[K     |████████████████████            | 2.1 MB 8.4 MB/s eta 0:00:01\r\u001b[K     |████████████████████▏           | 2.1 MB 8.4 MB/s eta 0:00:01\r\u001b[K     |████████████████████▏           | 2.1 MB 8.4 MB/s eta 0:00:01\r\u001b[K     |████████████████████▎           | 2.1 MB 8.4 MB/s eta 0:00:01\r\u001b[K     |████████████████████▍           | 2.1 MB 8.4 MB/s eta 0:00:01\r\u001b[K     |████████████████████▌           | 2.2 MB 8.4 MB/s eta 0:00:01\r\u001b[K     |████████████████████▋           | 2.2 MB 8.4 MB/s eta 0:00:01\r\u001b[K     |████████████████████▊           | 2.2 MB 8.4 MB/s eta 0:00:01\r\u001b[K     |████████████████████▉           | 2.2 MB 8.4 MB/s eta 0:00:01\r\u001b[K     |█████████████████████           | 2.2 MB 8.4 MB/s eta 0:00:01\r\u001b[K     |█████████████████████           | 2.2 MB 8.4 MB/s eta 0:00:01\r\u001b[K     |█████████████████████           | 2.2 MB 8.4 MB/s eta 0:00:01\r\u001b[K     |█████████████████████▏          | 2.2 MB 8.4 MB/s eta 0:00:01\r\u001b[K     |█████████████████████▎          | 2.2 MB 8.4 MB/s eta 0:00:01\r\u001b[K     |█████████████████████▍          | 2.2 MB 8.4 MB/s eta 0:00:01\r\u001b[K     |█████████████████████▌          | 2.3 MB 8.4 MB/s eta 0:00:01\r\u001b[K     |█████████████████████▋          | 2.3 MB 8.4 MB/s eta 0:00:01\r\u001b[K     |█████████████████████▊          | 2.3 MB 8.4 MB/s eta 0:00:01\r\u001b[K     |█████████████████████▊          | 2.3 MB 8.4 MB/s eta 0:00:01\r\u001b[K     |█████████████████████▉          | 2.3 MB 8.4 MB/s eta 0:00:01\r\u001b[K     |██████████████████████          | 2.3 MB 8.4 MB/s eta 0:00:01\r\u001b[K     |██████████████████████          | 2.3 MB 8.4 MB/s eta 0:00:01\r\u001b[K     |██████████████████████▏         | 2.3 MB 8.4 MB/s eta 0:00:01\r\u001b[K     |██████████████████████▎         | 2.3 MB 8.4 MB/s eta 0:00:01\r\u001b[K     |██████████████████████▍         | 2.3 MB 8.4 MB/s eta 0:00:01\r\u001b[K     |██████████████████████▌         | 2.4 MB 8.4 MB/s eta 0:00:01\r\u001b[K     |██████████████████████▋         | 2.4 MB 8.4 MB/s eta 0:00:01\r\u001b[K     |██████████████████████▋         | 2.4 MB 8.4 MB/s eta 0:00:01\r\u001b[K     |██████████████████████▊         | 2.4 MB 8.4 MB/s eta 0:00:01\r\u001b[K     |██████████████████████▉         | 2.4 MB 8.4 MB/s eta 0:00:01\r\u001b[K     |███████████████████████         | 2.4 MB 8.4 MB/s eta 0:00:01\r\u001b[K     |███████████████████████         | 2.4 MB 8.4 MB/s eta 0:00:01\r\u001b[K     |███████████████████████▏        | 2.4 MB 8.4 MB/s eta 0:00:01\r\u001b[K     |███████████████████████▎        | 2.4 MB 8.4 MB/s eta 0:00:01\r\u001b[K     |███████████████████████▍        | 2.4 MB 8.4 MB/s eta 0:00:01\r\u001b[K     |███████████████████████▍        | 2.5 MB 8.4 MB/s eta 0:00:01\r\u001b[K     |███████████████████████▌        | 2.5 MB 8.4 MB/s eta 0:00:01\r\u001b[K     |███████████████████████▋        | 2.5 MB 8.4 MB/s eta 0:00:01\r\u001b[K     |███████████████████████▊        | 2.5 MB 8.4 MB/s eta 0:00:01\r\u001b[K     |███████████████████████▉        | 2.5 MB 8.4 MB/s eta 0:00:01\r\u001b[K     |████████████████████████        | 2.5 MB 8.4 MB/s eta 0:00:01\r\u001b[K     |████████████████████████        | 2.5 MB 8.4 MB/s eta 0:00:01\r\u001b[K     |████████████████████████▏       | 2.5 MB 8.4 MB/s eta 0:00:01\r\u001b[K     |████████████████████████▏       | 2.5 MB 8.4 MB/s eta 0:00:01\r\u001b[K     |████████████████████████▎       | 2.5 MB 8.4 MB/s eta 0:00:01\r\u001b[K     |████████████████████████▍       | 2.6 MB 8.4 MB/s eta 0:00:01\r\u001b[K     |████████████████████████▌       | 2.6 MB 8.4 MB/s eta 0:00:01\r\u001b[K     |████████████████████████▋       | 2.6 MB 8.4 MB/s eta 0:00:01\r\u001b[K     |████████████████████████▊       | 2.6 MB 8.4 MB/s eta 0:00:01\r\u001b[K     |████████████████████████▉       | 2.6 MB 8.4 MB/s eta 0:00:01\r\u001b[K     |█████████████████████████       | 2.6 MB 8.4 MB/s eta 0:00:01\r\u001b[K     |█████████████████████████       | 2.6 MB 8.4 MB/s eta 0:00:01\r\u001b[K     |█████████████████████████       | 2.6 MB 8.4 MB/s eta 0:00:01\r\u001b[K     |█████████████████████████▏      | 2.6 MB 8.4 MB/s eta 0:00:01\r\u001b[K     |█████████████████████████▎      | 2.7 MB 8.4 MB/s eta 0:00:01\r\u001b[K     |█████████████████████████▍      | 2.7 MB 8.4 MB/s eta 0:00:01\r\u001b[K     |█████████████████████████▌      | 2.7 MB 8.4 MB/s eta 0:00:01\r\u001b[K     |█████████████████████████▋      | 2.7 MB 8.4 MB/s eta 0:00:01\r\u001b[K     |█████████████████████████▊      | 2.7 MB 8.4 MB/s eta 0:00:01\r\u001b[K     |█████████████████████████▉      | 2.7 MB 8.4 MB/s eta 0:00:01\r\u001b[K     |█████████████████████████▉      | 2.7 MB 8.4 MB/s eta 0:00:01\r\u001b[K     |██████████████████████████      | 2.7 MB 8.4 MB/s eta 0:00:01\r\u001b[K     |██████████████████████████      | 2.7 MB 8.4 MB/s eta 0:00:01\r\u001b[K     |██████████████████████████▏     | 2.7 MB 8.4 MB/s eta 0:00:01\r\u001b[K     |██████████████████████████▎     | 2.8 MB 8.4 MB/s eta 0:00:01\r\u001b[K     |██████████████████████████▍     | 2.8 MB 8.4 MB/s eta 0:00:01\r\u001b[K     |██████████████████████████▌     | 2.8 MB 8.4 MB/s eta 0:00:01\r\u001b[K     |██████████████████████████▋     | 2.8 MB 8.4 MB/s eta 0:00:01\r\u001b[K     |██████████████████████████▋     | 2.8 MB 8.4 MB/s eta 0:00:01\r\u001b[K     |██████████████████████████▊     | 2.8 MB 8.4 MB/s eta 0:00:01\r\u001b[K     |██████████████████████████▉     | 2.8 MB 8.4 MB/s eta 0:00:01\r\u001b[K     |███████████████████████████     | 2.8 MB 8.4 MB/s eta 0:00:01\r\u001b[K     |███████████████████████████     | 2.8 MB 8.4 MB/s eta 0:00:01\r\u001b[K     |███████████████████████████▏    | 2.8 MB 8.4 MB/s eta 0:00:01\r\u001b[K     |███████████████████████████▎    | 2.9 MB 8.4 MB/s eta 0:00:01\r\u001b[K     |███████████████████████████▍    | 2.9 MB 8.4 MB/s eta 0:00:01\r\u001b[K     |███████████████████████████▍    | 2.9 MB 8.4 MB/s eta 0:00:01\r\u001b[K     |███████████████████████████▌    | 2.9 MB 8.4 MB/s eta 0:00:01\r\u001b[K     |███████████████████████████▋    | 2.9 MB 8.4 MB/s eta 0:00:01\r\u001b[K     |███████████████████████████▊    | 2.9 MB 8.4 MB/s eta 0:00:01\r\u001b[K     |███████████████████████████▉    | 2.9 MB 8.4 MB/s eta 0:00:01\r\u001b[K     |████████████████████████████    | 2.9 MB 8.4 MB/s eta 0:00:01\r\u001b[K     |████████████████████████████    | 2.9 MB 8.4 MB/s eta 0:00:01\r\u001b[K     |████████████████████████████▏   | 2.9 MB 8.4 MB/s eta 0:00:01\r\u001b[K     |████████████████████████████▏   | 3.0 MB 8.4 MB/s eta 0:00:01\r\u001b[K     |████████████████████████████▎   | 3.0 MB 8.4 MB/s eta 0:00:01\r\u001b[K     |████████████████████████████▍   | 3.0 MB 8.4 MB/s eta 0:00:01\r\u001b[K     |████████████████████████████▌   | 3.0 MB 8.4 MB/s eta 0:00:01\r\u001b[K     |████████████████████████████▋   | 3.0 MB 8.4 MB/s eta 0:00:01\r\u001b[K     |████████████████████████████▊   | 3.0 MB 8.4 MB/s eta 0:00:01\r\u001b[K     |████████████████████████████▉   | 3.0 MB 8.4 MB/s eta 0:00:01\r\u001b[K     |█████████████████████████████   | 3.0 MB 8.4 MB/s eta 0:00:01\r\u001b[K     |█████████████████████████████   | 3.0 MB 8.4 MB/s eta 0:00:01\r\u001b[K     |█████████████████████████████   | 3.1 MB 8.4 MB/s eta 0:00:01\r\u001b[K     |█████████████████████████████▏  | 3.1 MB 8.4 MB/s eta 0:00:01\r\u001b[K     |█████████████████████████████▎  | 3.1 MB 8.4 MB/s eta 0:00:01\r\u001b[K     |█████████████████████████████▍  | 3.1 MB 8.4 MB/s eta 0:00:01\r\u001b[K     |█████████████████████████████▌  | 3.1 MB 8.4 MB/s eta 0:00:01\r\u001b[K     |█████████████████████████████▋  | 3.1 MB 8.4 MB/s eta 0:00:01\r\u001b[K     |█████████████████████████████▊  | 3.1 MB 8.4 MB/s eta 0:00:01\r\u001b[K     |█████████████████████████████▉  | 3.1 MB 8.4 MB/s eta 0:00:01\r\u001b[K     |█████████████████████████████▉  | 3.1 MB 8.4 MB/s eta 0:00:01\r\u001b[K     |██████████████████████████████  | 3.1 MB 8.4 MB/s eta 0:00:01\r\u001b[K     |██████████████████████████████  | 3.2 MB 8.4 MB/s eta 0:00:01\r\u001b[K     |██████████████████████████████▏ | 3.2 MB 8.4 MB/s eta 0:00:01\r\u001b[K     |██████████████████████████████▎ | 3.2 MB 8.4 MB/s eta 0:00:01\r\u001b[K     |██████████████████████████████▍ | 3.2 MB 8.4 MB/s eta 0:00:01\r\u001b[K     |██████████████████████████████▌ | 3.2 MB 8.4 MB/s eta 0:00:01\r\u001b[K     |██████████████████████████████▋ | 3.2 MB 8.4 MB/s eta 0:00:01\r\u001b[K     |██████████████████████████████▋ | 3.2 MB 8.4 MB/s eta 0:00:01\r\u001b[K     |██████████████████████████████▊ | 3.2 MB 8.4 MB/s eta 0:00:01\r\u001b[K     |██████████████████████████████▉ | 3.2 MB 8.4 MB/s eta 0:00:01\r\u001b[K     |███████████████████████████████ | 3.2 MB 8.4 MB/s eta 0:00:01\r\u001b[K     |███████████████████████████████ | 3.3 MB 8.4 MB/s eta 0:00:01\r\u001b[K     |███████████████████████████████▏| 3.3 MB 8.4 MB/s eta 0:00:01\r\u001b[K     |███████████████████████████████▎| 3.3 MB 8.4 MB/s eta 0:00:01\r\u001b[K     |███████████████████████████████▍| 3.3 MB 8.4 MB/s eta 0:00:01\r\u001b[K     |███████████████████████████████▍| 3.3 MB 8.4 MB/s eta 0:00:01\r\u001b[K     |███████████████████████████████▌| 3.3 MB 8.4 MB/s eta 0:00:01\r\u001b[K     |███████████████████████████████▋| 3.3 MB 8.4 MB/s eta 0:00:01\r\u001b[K     |███████████████████████████████▊| 3.3 MB 8.4 MB/s eta 0:00:01\r\u001b[K     |███████████████████████████████▉| 3.3 MB 8.4 MB/s eta 0:00:01\r\u001b[K     |████████████████████████████████| 3.3 MB 8.4 MB/s eta 0:00:01\r\u001b[K     |████████████████████████████████| 3.4 MB 8.4 MB/s \n",
            "\u001b[?25hRequirement already satisfied: regex!=2019.12.17 in /usr/local/lib/python3.7/dist-packages (from transformers) (2019.12.20)\n",
            "Requirement already satisfied: numpy>=1.17 in /usr/local/lib/python3.7/dist-packages (from transformers) (1.19.5)\n",
            "Collecting tokenizers<0.11,>=0.10.1\n",
            "  Downloading tokenizers-0.10.3-cp37-cp37m-manylinux_2_5_x86_64.manylinux1_x86_64.manylinux_2_12_x86_64.manylinux2010_x86_64.whl (3.3 MB)\n",
            "\u001b[K     |████████████████████████████████| 3.3 MB 56.0 MB/s \n",
            "\u001b[?25hRequirement already satisfied: importlib-metadata in /usr/local/lib/python3.7/dist-packages (from transformers) (4.8.2)\n",
            "Collecting huggingface-hub<1.0,>=0.1.0\n",
            "  Downloading huggingface_hub-0.2.1-py3-none-any.whl (61 kB)\n",
            "\u001b[K     |████████████████████████████████| 61 kB 494 kB/s \n",
            "\u001b[?25hRequirement already satisfied: packaging>=20.0 in /usr/local/lib/python3.7/dist-packages (from transformers) (21.3)\n",
            "Requirement already satisfied: tqdm>=4.27 in /usr/local/lib/python3.7/dist-packages (from transformers) (4.62.3)\n",
            "Collecting sacremoses\n",
            "  Downloading sacremoses-0.0.46-py3-none-any.whl (895 kB)\n",
            "\u001b[K     |████████████████████████████████| 895 kB 68.6 MB/s \n",
            "\u001b[?25hRequirement already satisfied: filelock in /usr/local/lib/python3.7/dist-packages (from transformers) (3.4.0)\n",
            "Collecting pyyaml>=5.1\n",
            "  Downloading PyYAML-6.0-cp37-cp37m-manylinux_2_5_x86_64.manylinux1_x86_64.manylinux_2_12_x86_64.manylinux2010_x86_64.whl (596 kB)\n",
            "\u001b[K     |████████████████████████████████| 596 kB 68.7 MB/s \n",
            "\u001b[?25hRequirement already satisfied: requests in /usr/local/lib/python3.7/dist-packages (from transformers) (2.23.0)\n",
            "Requirement already satisfied: typing-extensions>=3.7.4.3 in /usr/local/lib/python3.7/dist-packages (from huggingface-hub<1.0,>=0.1.0->transformers) (3.10.0.2)\n",
            "Requirement already satisfied: pyparsing!=3.0.5,>=2.0.2 in /usr/local/lib/python3.7/dist-packages (from packaging>=20.0->transformers) (3.0.6)\n",
            "Requirement already satisfied: zipp>=0.5 in /usr/local/lib/python3.7/dist-packages (from importlib-metadata->transformers) (3.6.0)\n",
            "Requirement already satisfied: chardet<4,>=3.0.2 in /usr/local/lib/python3.7/dist-packages (from requests->transformers) (3.0.4)\n",
            "Requirement already satisfied: idna<3,>=2.5 in /usr/local/lib/python3.7/dist-packages (from requests->transformers) (2.10)\n",
            "Requirement already satisfied: certifi>=2017.4.17 in /usr/local/lib/python3.7/dist-packages (from requests->transformers) (2021.10.8)\n",
            "Requirement already satisfied: urllib3!=1.25.0,!=1.25.1,<1.26,>=1.21.1 in /usr/local/lib/python3.7/dist-packages (from requests->transformers) (1.24.3)\n",
            "Requirement already satisfied: click in /usr/local/lib/python3.7/dist-packages (from sacremoses->transformers) (7.1.2)\n",
            "Requirement already satisfied: joblib in /usr/local/lib/python3.7/dist-packages (from sacremoses->transformers) (1.1.0)\n",
            "Requirement already satisfied: six in /usr/local/lib/python3.7/dist-packages (from sacremoses->transformers) (1.15.0)\n",
            "Installing collected packages: pyyaml, tokenizers, sacremoses, huggingface-hub, transformers\n",
            "  Attempting uninstall: pyyaml\n",
            "    Found existing installation: PyYAML 3.13\n",
            "    Uninstalling PyYAML-3.13:\n",
            "      Successfully uninstalled PyYAML-3.13\n",
            "Successfully installed huggingface-hub-0.2.1 pyyaml-6.0 sacremoses-0.0.46 tokenizers-0.10.3 transformers-4.15.0\n"
          ]
        }
      ],
      "source": [
        "pip install transformers"
      ]
    },
    {
      "cell_type": "code",
      "source": [
        "import pandas as pd\n",
        "from transformers import BertTokenizer\n",
        "\n",
        "tokenizer = BertTokenizer.from_pretrained(\"bert-base-uncased\") # Bert-base의 토크나이저"
      ],
      "metadata": {
        "colab": {
          "base_uri": "https://localhost:8080/",
          "height": 145,
          "referenced_widgets": [
            "0a6fb699dd774558b46ad89fec86021e",
            "99de5b240e9c4108a9f5c0095deeb3b4",
            "3d1811e314774a23b7f8fa1d3d8d3fa2",
            "36c0f4401beb4a5497289b4802a42e16",
            "ce6335cc7bbb43a3ba1879d20c07148d",
            "c30a0c60f343418db3f337c788bdfaf3",
            "97ccb659bb2741df9409528dcde71265",
            "cdd9e57f84984c988fee1158de034d32",
            "8e00aedd7c6b4ce59bc45a4674d5e2a7",
            "2f72ead5b5fa4cba96acafbfde30c025",
            "ecec88e4f8d5405984f370afbb15b7f1",
            "309b631e46bd412cbc07ef2bd07a6ddd",
            "80e75024d459422388bac0ef3400f7e6",
            "a511ed13cea4415b945868f9f544b762",
            "d1e5c18bf8c64b95831d2503531f76c0",
            "4903b5f94e7f4f6cb25db863577e0247",
            "e6bff4835c42404896331a5e697b7994",
            "004299a59ffb4383bc9a0bbe17127257",
            "73e8acc819324721997cbce1dc6f2411",
            "78b9b1f3795f4a578269acdcfaa6262b",
            "415aba8f79ea401295b47e4a8cdaff36",
            "18339442a4494b7ba43cc09f08886acd",
            "60a72c88b72e427ab64c9f638a091e8b",
            "c8d8caa1bffb4c38b179f95b81b0cc5d",
            "2f488a97f87846cf972fd162864bc63b",
            "770dc862deee478a9abe201ee6a44ed4",
            "a2aa7e25905a42f0b08da0588ce181df",
            "894d7d7b7f2b4c90ab1c5a8b009f2760",
            "b2094ddc6cc44d0db914f0b396357f29",
            "c40e8e8439334195abd85ed507750392",
            "43ea6ce231624fe7aea83994c98462dd",
            "b404e48b22cb46639f7c8194d164c045",
            "d95b71e5f636482e9ff0a10b59eb174c",
            "886a32c6eefa443f8d36dcdeba718231",
            "f6602e10c6ae4624919f5d6533b31cec",
            "895b76ea1ac242a6a02551390ff2b26b",
            "9a50525282bb42f8be9ebaf74a82cabf",
            "916d0662a911473680b28d88604a1d2e",
            "49e330c5183e449f8c44f779d7982ba8",
            "bd27db366aca4a428a1a0861370fac45",
            "e0307cb124484e748b880abd96ce1511",
            "5b132032a9304cdea2548e5b9ab7298e",
            "d270a872e14848f781d231f06ed79dac",
            "156f24999b7744658a6f7cef694e8965"
          ]
        },
        "id": "tWnY0QQ6Nf7q",
        "outputId": "b604d0d4-e199-42a7-a1b7-7bbf0414329c"
      },
      "execution_count": 2,
      "outputs": [
        {
          "output_type": "display_data",
          "data": {
            "application/vnd.jupyter.widget-view+json": {
              "model_id": "0a6fb699dd774558b46ad89fec86021e",
              "version_minor": 0,
              "version_major": 2
            },
            "text/plain": [
              "Downloading:   0%|          | 0.00/226k [00:00<?, ?B/s]"
            ]
          },
          "metadata": {}
        },
        {
          "output_type": "display_data",
          "data": {
            "application/vnd.jupyter.widget-view+json": {
              "model_id": "309b631e46bd412cbc07ef2bd07a6ddd",
              "version_minor": 0,
              "version_major": 2
            },
            "text/plain": [
              "Downloading:   0%|          | 0.00/28.0 [00:00<?, ?B/s]"
            ]
          },
          "metadata": {}
        },
        {
          "output_type": "display_data",
          "data": {
            "application/vnd.jupyter.widget-view+json": {
              "model_id": "60a72c88b72e427ab64c9f638a091e8b",
              "version_minor": 0,
              "version_major": 2
            },
            "text/plain": [
              "Downloading:   0%|          | 0.00/455k [00:00<?, ?B/s]"
            ]
          },
          "metadata": {}
        },
        {
          "output_type": "display_data",
          "data": {
            "application/vnd.jupyter.widget-view+json": {
              "model_id": "886a32c6eefa443f8d36dcdeba718231",
              "version_minor": 0,
              "version_major": 2
            },
            "text/plain": [
              "Downloading:   0%|          | 0.00/570 [00:00<?, ?B/s]"
            ]
          },
          "metadata": {}
        }
      ]
    },
    {
      "cell_type": "code",
      "source": [
        "result = tokenizer.tokenize('Here is the sentence I want embeddings for.')\n",
        "print(result)"
      ],
      "metadata": {
        "colab": {
          "base_uri": "https://localhost:8080/"
        },
        "id": "4tx1uecINipZ",
        "outputId": "a44b025e-b195-4c85-9d7e-112b432abc8f"
      },
      "execution_count": 3,
      "outputs": [
        {
          "output_type": "stream",
          "name": "stdout",
          "text": [
            "['here', 'is', 'the', 'sentence', 'i', 'want', 'em', '##bed', '##ding', '##s', 'for', '.']\n"
          ]
        }
      ]
    },
    {
      "cell_type": "code",
      "source": [
        "print(tokenizer.vocab['here'])"
      ],
      "metadata": {
        "colab": {
          "base_uri": "https://localhost:8080/"
        },
        "id": "wR-IaDSJNj-R",
        "outputId": "f629f12d-1cf9-4d90-8a00-d6ea130bd100"
      },
      "execution_count": 4,
      "outputs": [
        {
          "output_type": "stream",
          "name": "stdout",
          "text": [
            "2182\n"
          ]
        }
      ]
    },
    {
      "cell_type": "code",
      "source": [
        "print(tokenizer.vocab['embeddings'])"
      ],
      "metadata": {
        "colab": {
          "base_uri": "https://localhost:8080/",
          "height": 173
        },
        "id": "RTpXz-9GNkht",
        "outputId": "250d698e-0e9a-473f-bdce-db245f18949a"
      },
      "execution_count": 5,
      "outputs": [
        {
          "output_type": "error",
          "ename": "KeyError",
          "evalue": "ignored",
          "traceback": [
            "\u001b[0;31m---------------------------------------------------------------------------\u001b[0m",
            "\u001b[0;31mKeyError\u001b[0m                                  Traceback (most recent call last)",
            "\u001b[0;32m<ipython-input-5-4ef7a948935c>\u001b[0m in \u001b[0;36m<module>\u001b[0;34m()\u001b[0m\n\u001b[0;32m----> 1\u001b[0;31m \u001b[0mprint\u001b[0m\u001b[0;34m(\u001b[0m\u001b[0mtokenizer\u001b[0m\u001b[0;34m.\u001b[0m\u001b[0mvocab\u001b[0m\u001b[0;34m[\u001b[0m\u001b[0;34m'embeddings'\u001b[0m\u001b[0;34m]\u001b[0m\u001b[0;34m)\u001b[0m\u001b[0;34m\u001b[0m\u001b[0;34m\u001b[0m\u001b[0m\n\u001b[0m",
            "\u001b[0;31mKeyError\u001b[0m: 'embeddings'"
          ]
        }
      ]
    },
    {
      "cell_type": "code",
      "source": [
        "print(tokenizer.vocab['em'])"
      ],
      "metadata": {
        "colab": {
          "base_uri": "https://localhost:8080/"
        },
        "id": "oT7UcmHANm3Z",
        "outputId": "518735a5-272b-450e-fb29-24a3f70a03b1"
      },
      "execution_count": 6,
      "outputs": [
        {
          "output_type": "stream",
          "name": "stdout",
          "text": [
            "7861\n"
          ]
        }
      ]
    },
    {
      "cell_type": "code",
      "source": [
        "print(tokenizer.vocab['##bed'])"
      ],
      "metadata": {
        "colab": {
          "base_uri": "https://localhost:8080/"
        },
        "id": "Gvwmp5L0NoHx",
        "outputId": "9b28674b-08a4-4cb6-d0f1-c41c5fab5eae"
      },
      "execution_count": 7,
      "outputs": [
        {
          "output_type": "stream",
          "name": "stdout",
          "text": [
            "8270\n"
          ]
        }
      ]
    },
    {
      "cell_type": "code",
      "source": [
        "print(tokenizer.vocab['##ding'])"
      ],
      "metadata": {
        "colab": {
          "base_uri": "https://localhost:8080/"
        },
        "id": "1CXk_B0wNpbB",
        "outputId": "8173db8c-ce33-498a-c247-ff238cd500bb"
      },
      "execution_count": 8,
      "outputs": [
        {
          "output_type": "stream",
          "name": "stdout",
          "text": [
            "4667\n"
          ]
        }
      ]
    },
    {
      "cell_type": "code",
      "source": [
        "print(tokenizer.vocab['##s'])"
      ],
      "metadata": {
        "colab": {
          "base_uri": "https://localhost:8080/"
        },
        "id": "AfVJUntBNqoR",
        "outputId": "d30499ea-bd07-43c5-a03e-79a06ba078b8"
      },
      "execution_count": 9,
      "outputs": [
        {
          "output_type": "stream",
          "name": "stdout",
          "text": [
            "2015\n"
          ]
        }
      ]
    },
    {
      "cell_type": "code",
      "source": [
        "# BERT의 단어 집합을 vocabulary.txt에 저장\n",
        "with open('vocabulary.txt', 'w') as f:\n",
        "  for token in tokenizer.vocab.keys():\n",
        "    f.write(token + '\\n')"
      ],
      "metadata": {
        "id": "cwmikCL_NrvB"
      },
      "execution_count": 10,
      "outputs": []
    },
    {
      "cell_type": "code",
      "source": [
        "df = pd.read_fwf('vocabulary.txt', header=None)\n",
        "df"
      ],
      "metadata": {
        "colab": {
          "base_uri": "https://localhost:8080/",
          "height": 424
        },
        "id": "LkJJMG4_Ns1p",
        "outputId": "6167d9d9-3cc7-48c2-d60d-3f379c173258"
      },
      "execution_count": 11,
      "outputs": [
        {
          "output_type": "execute_result",
          "data": {
            "text/html": [
              "\n",
              "  <div id=\"df-2bf95aca-b263-4d41-967c-6ce50eb53dc1\">\n",
              "    <div class=\"colab-df-container\">\n",
              "      <div>\n",
              "<style scoped>\n",
              "    .dataframe tbody tr th:only-of-type {\n",
              "        vertical-align: middle;\n",
              "    }\n",
              "\n",
              "    .dataframe tbody tr th {\n",
              "        vertical-align: top;\n",
              "    }\n",
              "\n",
              "    .dataframe thead th {\n",
              "        text-align: right;\n",
              "    }\n",
              "</style>\n",
              "<table border=\"1\" class=\"dataframe\">\n",
              "  <thead>\n",
              "    <tr style=\"text-align: right;\">\n",
              "      <th></th>\n",
              "      <th>0</th>\n",
              "    </tr>\n",
              "  </thead>\n",
              "  <tbody>\n",
              "    <tr>\n",
              "      <th>0</th>\n",
              "      <td>[PAD]</td>\n",
              "    </tr>\n",
              "    <tr>\n",
              "      <th>1</th>\n",
              "      <td>[unused0]</td>\n",
              "    </tr>\n",
              "    <tr>\n",
              "      <th>2</th>\n",
              "      <td>[unused1]</td>\n",
              "    </tr>\n",
              "    <tr>\n",
              "      <th>3</th>\n",
              "      <td>[unused2]</td>\n",
              "    </tr>\n",
              "    <tr>\n",
              "      <th>4</th>\n",
              "      <td>[unused3]</td>\n",
              "    </tr>\n",
              "    <tr>\n",
              "      <th>...</th>\n",
              "      <td>...</td>\n",
              "    </tr>\n",
              "    <tr>\n",
              "      <th>30517</th>\n",
              "      <td>##．</td>\n",
              "    </tr>\n",
              "    <tr>\n",
              "      <th>30518</th>\n",
              "      <td>##／</td>\n",
              "    </tr>\n",
              "    <tr>\n",
              "      <th>30519</th>\n",
              "      <td>##：</td>\n",
              "    </tr>\n",
              "    <tr>\n",
              "      <th>30520</th>\n",
              "      <td>##？</td>\n",
              "    </tr>\n",
              "    <tr>\n",
              "      <th>30521</th>\n",
              "      <td>##～</td>\n",
              "    </tr>\n",
              "  </tbody>\n",
              "</table>\n",
              "<p>30522 rows × 1 columns</p>\n",
              "</div>\n",
              "      <button class=\"colab-df-convert\" onclick=\"convertToInteractive('df-2bf95aca-b263-4d41-967c-6ce50eb53dc1')\"\n",
              "              title=\"Convert this dataframe to an interactive table.\"\n",
              "              style=\"display:none;\">\n",
              "        \n",
              "  <svg xmlns=\"http://www.w3.org/2000/svg\" height=\"24px\"viewBox=\"0 0 24 24\"\n",
              "       width=\"24px\">\n",
              "    <path d=\"M0 0h24v24H0V0z\" fill=\"none\"/>\n",
              "    <path d=\"M18.56 5.44l.94 2.06.94-2.06 2.06-.94-2.06-.94-.94-2.06-.94 2.06-2.06.94zm-11 1L8.5 8.5l.94-2.06 2.06-.94-2.06-.94L8.5 2.5l-.94 2.06-2.06.94zm10 10l.94 2.06.94-2.06 2.06-.94-2.06-.94-.94-2.06-.94 2.06-2.06.94z\"/><path d=\"M17.41 7.96l-1.37-1.37c-.4-.4-.92-.59-1.43-.59-.52 0-1.04.2-1.43.59L10.3 9.45l-7.72 7.72c-.78.78-.78 2.05 0 2.83L4 21.41c.39.39.9.59 1.41.59.51 0 1.02-.2 1.41-.59l7.78-7.78 2.81-2.81c.8-.78.8-2.07 0-2.86zM5.41 20L4 18.59l7.72-7.72 1.47 1.35L5.41 20z\"/>\n",
              "  </svg>\n",
              "      </button>\n",
              "      \n",
              "  <style>\n",
              "    .colab-df-container {\n",
              "      display:flex;\n",
              "      flex-wrap:wrap;\n",
              "      gap: 12px;\n",
              "    }\n",
              "\n",
              "    .colab-df-convert {\n",
              "      background-color: #E8F0FE;\n",
              "      border: none;\n",
              "      border-radius: 50%;\n",
              "      cursor: pointer;\n",
              "      display: none;\n",
              "      fill: #1967D2;\n",
              "      height: 32px;\n",
              "      padding: 0 0 0 0;\n",
              "      width: 32px;\n",
              "    }\n",
              "\n",
              "    .colab-df-convert:hover {\n",
              "      background-color: #E2EBFA;\n",
              "      box-shadow: 0px 1px 2px rgba(60, 64, 67, 0.3), 0px 1px 3px 1px rgba(60, 64, 67, 0.15);\n",
              "      fill: #174EA6;\n",
              "    }\n",
              "\n",
              "    [theme=dark] .colab-df-convert {\n",
              "      background-color: #3B4455;\n",
              "      fill: #D2E3FC;\n",
              "    }\n",
              "\n",
              "    [theme=dark] .colab-df-convert:hover {\n",
              "      background-color: #434B5C;\n",
              "      box-shadow: 0px 1px 3px 1px rgba(0, 0, 0, 0.15);\n",
              "      filter: drop-shadow(0px 1px 2px rgba(0, 0, 0, 0.3));\n",
              "      fill: #FFFFFF;\n",
              "    }\n",
              "  </style>\n",
              "\n",
              "      <script>\n",
              "        const buttonEl =\n",
              "          document.querySelector('#df-2bf95aca-b263-4d41-967c-6ce50eb53dc1 button.colab-df-convert');\n",
              "        buttonEl.style.display =\n",
              "          google.colab.kernel.accessAllowed ? 'block' : 'none';\n",
              "\n",
              "        async function convertToInteractive(key) {\n",
              "          const element = document.querySelector('#df-2bf95aca-b263-4d41-967c-6ce50eb53dc1');\n",
              "          const dataTable =\n",
              "            await google.colab.kernel.invokeFunction('convertToInteractive',\n",
              "                                                     [key], {});\n",
              "          if (!dataTable) return;\n",
              "\n",
              "          const docLinkHtml = 'Like what you see? Visit the ' +\n",
              "            '<a target=\"_blank\" href=https://colab.research.google.com/notebooks/data_table.ipynb>data table notebook</a>'\n",
              "            + ' to learn more about interactive tables.';\n",
              "          element.innerHTML = '';\n",
              "          dataTable['output_type'] = 'display_data';\n",
              "          await google.colab.output.renderOutput(dataTable, element);\n",
              "          const docLink = document.createElement('div');\n",
              "          docLink.innerHTML = docLinkHtml;\n",
              "          element.appendChild(docLink);\n",
              "        }\n",
              "      </script>\n",
              "    </div>\n",
              "  </div>\n",
              "  "
            ],
            "text/plain": [
              "               0\n",
              "0          [PAD]\n",
              "1      [unused0]\n",
              "2      [unused1]\n",
              "3      [unused2]\n",
              "4      [unused3]\n",
              "...          ...\n",
              "30517        ##．\n",
              "30518        ##／\n",
              "30519        ##：\n",
              "30520        ##？\n",
              "30521        ##～\n",
              "\n",
              "[30522 rows x 1 columns]"
            ]
          },
          "metadata": {},
          "execution_count": 11
        }
      ]
    },
    {
      "cell_type": "code",
      "source": [
        "print('단어 집합의 크기 :',len(df))"
      ],
      "metadata": {
        "colab": {
          "base_uri": "https://localhost:8080/"
        },
        "id": "Uf1tI3LTNuyB",
        "outputId": "e30fd55f-c03f-480c-f717-bd7f3b0abe0e"
      },
      "execution_count": 12,
      "outputs": [
        {
          "output_type": "stream",
          "name": "stdout",
          "text": [
            "단어 집합의 크기 : 30522\n"
          ]
        }
      ]
    },
    {
      "cell_type": "code",
      "source": [
        "df.loc[4667].values[0]"
      ],
      "metadata": {
        "colab": {
          "base_uri": "https://localhost:8080/",
          "height": 35
        },
        "id": "oGe0aFCRNv3p",
        "outputId": "1adda901-e257-4c65-ed6e-c9806d949173"
      },
      "execution_count": 13,
      "outputs": [
        {
          "output_type": "execute_result",
          "data": {
            "application/vnd.google.colaboratory.intrinsic+json": {
              "type": "string"
            },
            "text/plain": [
              "'##ding'"
            ]
          },
          "metadata": {},
          "execution_count": 13
        }
      ]
    },
    {
      "cell_type": "code",
      "source": [
        "df.loc[102].values[0]"
      ],
      "metadata": {
        "colab": {
          "base_uri": "https://localhost:8080/",
          "height": 35
        },
        "id": "Dve_cUCUNxBh",
        "outputId": "67946b3a-71b6-41f5-a289-8b33ad992ae3"
      },
      "execution_count": 14,
      "outputs": [
        {
          "output_type": "execute_result",
          "data": {
            "application/vnd.google.colaboratory.intrinsic+json": {
              "type": "string"
            },
            "text/plain": [
              "'[SEP]'"
            ]
          },
          "metadata": {},
          "execution_count": 14
        }
      ]
    }
  ]
}