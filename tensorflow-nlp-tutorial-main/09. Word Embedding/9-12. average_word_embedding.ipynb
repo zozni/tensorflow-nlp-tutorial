{
  "nbformat": 4,
  "nbformat_minor": 0,
  "metadata": {
    "colab": {
      "name": "Average Word Embedding.ipynb",
      "provenance": [],
      "collapsed_sections": [],
      "machine_shape": "hm"
    },
    "kernelspec": {
      "name": "python3",
      "display_name": "Python 3"
    },
    "language_info": {
      "name": "python"
    },
    "accelerator": "GPU"
  },
  "cells": [
    {
      "cell_type": "markdown",
      "metadata": {
        "id": "DAk7Ivmd0hJg"
      },
      "source": [
        "이 자료는 위키독스 딥 러닝을 이용한 자연어 처리 입문의 워드 임베딩의 평균 튜토리얼 자료입니다.  \n",
        "\n",
        "링크 : https://wikidocs.net/103496\n",
        "\n",
        "이 자료는 2021년 10월 13일에 마지막으로 테스트되었습니다."
      ]
    },
    {
      "cell_type": "code",
      "metadata": {
        "colab": {
          "base_uri": "https://localhost:8080/",
          "height": 35
        },
        "id": "GkQ-btEo0pX5",
        "outputId": "9714faed-9bc1-4786-e3d7-3448e1d8c3e0"
      },
      "source": [
        "import tensorflow as tf\n",
        "tf.__version__"
      ],
      "execution_count": null,
      "outputs": [
        {
          "output_type": "execute_result",
          "data": {
            "application/vnd.google.colaboratory.intrinsic+json": {
              "type": "string"
            },
            "text/plain": [
              "'2.6.0'"
            ]
          },
          "metadata": {},
          "execution_count": 12
        }
      ]
    },
    {
      "cell_type": "markdown",
      "source": [
        "# 1. 데이터 로드와 전처리"
      ],
      "metadata": {
        "id": "RtdH-cpkaV7p"
      }
    },
    {
      "cell_type": "code",
      "metadata": {
        "id": "z-Un4NKMzG8I"
      },
      "source": [
        "import numpy as np\n",
        "from tensorflow.keras.preprocessing.sequence import pad_sequences\n",
        "from tensorflow.keras.models import Sequential, load_model\n",
        "from tensorflow.keras.layers import Dense, Embedding, GlobalAveragePooling1D\n",
        "from tensorflow.keras.callbacks import EarlyStopping, ModelCheckpoint\n",
        "from tensorflow.keras.datasets import imdb"
      ],
      "execution_count": null,
      "outputs": []
    },
    {
      "cell_type": "code",
      "metadata": {
        "colab": {
          "base_uri": "https://localhost:8080/"
        },
        "id": "aH3ms-O4zLHS",
        "outputId": "c349c4f9-7e84-4406-cec2-e7f2f3c7b9da"
      },
      "source": [
        "vocab_size = 20000\n",
        "\n",
        "(X_train, y_train), (X_test, y_test) = imdb.load_data(num_words=vocab_size)\n",
        "print('훈련용 리뷰 개수 :',len(X_train))\n",
        "print('테스트용 리뷰 개수 :',len(X_test))"
      ],
      "execution_count": null,
      "outputs": [
        {
          "output_type": "stream",
          "name": "stdout",
          "text": [
            "훈련용 리뷰 개수 : 25000\n",
            "테스트용 리뷰 개수 : 25000\n"
          ]
        }
      ]
    },
    {
      "cell_type": "code",
      "metadata": {
        "colab": {
          "base_uri": "https://localhost:8080/"
        },
        "id": "kjZ4iJOWzMbp",
        "outputId": "41638cb1-67d4-4654-a028-1eef132b7b5b"
      },
      "source": [
        "print(X_train[0])"
      ],
      "execution_count": null,
      "outputs": [
        {
          "output_type": "stream",
          "name": "stdout",
          "text": [
            "[1, 14, 22, 16, 43, 530, 973, 1622, 1385, 65, 458, 4468, 66, 3941, 4, 173, 36, 256, 5, 25, 100, 43, 838, 112, 50, 670, 2, 9, 35, 480, 284, 5, 150, 4, 172, 112, 167, 2, 336, 385, 39, 4, 172, 4536, 1111, 17, 546, 38, 13, 447, 4, 192, 50, 16, 6, 147, 2025, 19, 14, 22, 4, 1920, 4613, 469, 4, 22, 71, 87, 12, 16, 43, 530, 38, 76, 15, 13, 1247, 4, 22, 17, 515, 17, 12, 16, 626, 18, 19193, 5, 62, 386, 12, 8, 316, 8, 106, 5, 4, 2223, 5244, 16, 480, 66, 3785, 33, 4, 130, 12, 16, 38, 619, 5, 25, 124, 51, 36, 135, 48, 25, 1415, 33, 6, 22, 12, 215, 28, 77, 52, 5, 14, 407, 16, 82, 10311, 8, 4, 107, 117, 5952, 15, 256, 4, 2, 7, 3766, 5, 723, 36, 71, 43, 530, 476, 26, 400, 317, 46, 7, 4, 12118, 1029, 13, 104, 88, 4, 381, 15, 297, 98, 32, 2071, 56, 26, 141, 6, 194, 7486, 18, 4, 226, 22, 21, 134, 476, 26, 480, 5, 144, 30, 5535, 18, 51, 36, 28, 224, 92, 25, 104, 4, 226, 65, 16, 38, 1334, 88, 12, 16, 283, 5, 16, 4472, 113, 103, 32, 15, 16, 5345, 19, 178, 32]\n"
          ]
        }
      ]
    },
    {
      "cell_type": "code",
      "metadata": {
        "colab": {
          "base_uri": "https://localhost:8080/"
        },
        "id": "vnMNKIF2zNfp",
        "outputId": "fa280087-9e97-4d4b-c20c-5af281a6478a"
      },
      "source": [
        "print(y_train[0])"
      ],
      "execution_count": null,
      "outputs": [
        {
          "output_type": "stream",
          "name": "stdout",
          "text": [
            "1\n"
          ]
        }
      ]
    },
    {
      "cell_type": "code",
      "metadata": {
        "colab": {
          "base_uri": "https://localhost:8080/"
        },
        "id": "ge1JOddjzOPJ",
        "outputId": "3be3120f-2747-44fd-ec14-fe50e5fd20f4"
      },
      "source": [
        "print('훈련용 리뷰의 평규 길이: {}'.format(np.mean(list(map(len, X_train)), dtype=int)))\n",
        "print('테스트용 리뷰의 평균 길이: {}'.format(np.mean(list(map(len, X_test)), dtype=int)))"
      ],
      "execution_count": null,
      "outputs": [
        {
          "output_type": "stream",
          "name": "stdout",
          "text": [
            "훈련용 리뷰의 평규 길이: 238\n",
            "테스트용 리뷰의 평균 길이: 230\n"
          ]
        }
      ]
    },
    {
      "cell_type": "code",
      "metadata": {
        "colab": {
          "base_uri": "https://localhost:8080/"
        },
        "id": "B-vMjyi5zPGh",
        "outputId": "0fe2a8c4-5d88-4014-a5df-fab6b4ff292f"
      },
      "source": [
        "max_len = 400\n",
        "\n",
        "X_train = pad_sequences(X_train, maxlen=max_len)\n",
        "X_test = pad_sequences(X_test, maxlen=max_len)\n",
        "print('x_train의 크기(shape) :', X_train.shape)\n",
        "print('x_test의 크기(shape) :', X_test.shape)"
      ],
      "execution_count": null,
      "outputs": [
        {
          "output_type": "stream",
          "name": "stdout",
          "text": [
            "x_train의 크기(shape) : (25000, 400)\n",
            "x_test의 크기(shape) : (25000, 400)\n"
          ]
        }
      ]
    },
    {
      "cell_type": "markdown",
      "source": [
        "# 2. 모델 설계하기"
      ],
      "metadata": {
        "id": "L743rBFHaXww"
      }
    },
    {
      "cell_type": "code",
      "metadata": {
        "id": "WPJm4kH4zRNx"
      },
      "source": [
        "embedding_dim = 64\n",
        "\n",
        "model = Sequential()\n",
        "model.add(Embedding(vocab_size, embedding_dim))\n",
        "\n",
        "# 모든 단어 벡터의 평균을 구한다.\n",
        "model.add(GlobalAveragePooling1D())\n",
        "model.add(Dense(1, activation='sigmoid'))"
      ],
      "execution_count": null,
      "outputs": []
    },
    {
      "cell_type": "code",
      "metadata": {
        "id": "yRagjoJdzZ3Z"
      },
      "source": [
        "es = EarlyStopping(monitor='val_loss', mode='min', verbose=1, patience=4)\n",
        "mc = ModelCheckpoint('embedding_average_model.h5', monitor='val_acc', mode='max', verbose=1, save_best_only=True)"
      ],
      "execution_count": null,
      "outputs": []
    },
    {
      "cell_type": "code",
      "metadata": {
        "colab": {
          "base_uri": "https://localhost:8080/"
        },
        "id": "v5c1BHdvzfLR",
        "outputId": "63b24a81-7c61-436a-8816-b63ced527487"
      },
      "source": [
        "model.compile(loss='binary_crossentropy', optimizer='adam', metrics=['acc'])\n",
        "model.fit(X_train, y_train, batch_size=32, epochs=10, callbacks=[es, mc], validation_split=0.2)"
      ],
      "execution_count": null,
      "outputs": [
        {
          "output_type": "stream",
          "name": "stdout",
          "text": [
            "Epoch 1/10\n",
            "625/625 [==============================] - 4s 3ms/step - loss: 0.6291 - acc: 0.7186 - val_loss: 0.5225 - val_acc: 0.8120\n",
            "\n",
            "Epoch 00001: val_acc improved from -inf to 0.81200, saving model to embedding_average_model.h5\n",
            "Epoch 2/10\n",
            "625/625 [==============================] - 2s 3ms/step - loss: 0.4304 - acc: 0.8557 - val_loss: 0.3788 - val_acc: 0.8690\n",
            "\n",
            "Epoch 00002: val_acc improved from 0.81200 to 0.86900, saving model to embedding_average_model.h5\n",
            "Epoch 3/10\n",
            "625/625 [==============================] - 2s 3ms/step - loss: 0.3190 - acc: 0.8911 - val_loss: 0.3233 - val_acc: 0.8798\n",
            "\n",
            "Epoch 00003: val_acc improved from 0.86900 to 0.87980, saving model to embedding_average_model.h5\n",
            "Epoch 4/10\n",
            "625/625 [==============================] - 2s 3ms/step - loss: 0.2621 - acc: 0.9085 - val_loss: 0.2982 - val_acc: 0.8852\n",
            "\n",
            "Epoch 00004: val_acc improved from 0.87980 to 0.88520, saving model to embedding_average_model.h5\n",
            "Epoch 5/10\n",
            "625/625 [==============================] - 2s 3ms/step - loss: 0.2245 - acc: 0.9230 - val_loss: 0.2882 - val_acc: 0.8884\n",
            "\n",
            "Epoch 00005: val_acc improved from 0.88520 to 0.88840, saving model to embedding_average_model.h5\n",
            "Epoch 6/10\n",
            "625/625 [==============================] - 2s 3ms/step - loss: 0.1955 - acc: 0.9344 - val_loss: 0.2765 - val_acc: 0.8904\n",
            "\n",
            "Epoch 00006: val_acc improved from 0.88840 to 0.89040, saving model to embedding_average_model.h5\n",
            "Epoch 7/10\n",
            "625/625 [==============================] - 2s 3ms/step - loss: 0.1722 - acc: 0.9430 - val_loss: 0.2713 - val_acc: 0.8936\n",
            "\n",
            "Epoch 00007: val_acc improved from 0.89040 to 0.89360, saving model to embedding_average_model.h5\n",
            "Epoch 8/10\n",
            "625/625 [==============================] - 2s 3ms/step - loss: 0.1524 - acc: 0.9502 - val_loss: 0.2738 - val_acc: 0.8926\n",
            "\n",
            "Epoch 00008: val_acc did not improve from 0.89360\n",
            "Epoch 9/10\n",
            "625/625 [==============================] - 2s 3ms/step - loss: 0.1349 - acc: 0.9578 - val_loss: 0.2754 - val_acc: 0.8954\n",
            "\n",
            "Epoch 00009: val_acc improved from 0.89360 to 0.89540, saving model to embedding_average_model.h5\n",
            "Epoch 10/10\n",
            "625/625 [==============================] - 2s 3ms/step - loss: 0.1200 - acc: 0.9632 - val_loss: 0.2779 - val_acc: 0.8960\n",
            "\n",
            "Epoch 00010: val_acc improved from 0.89540 to 0.89600, saving model to embedding_average_model.h5\n"
          ]
        },
        {
          "output_type": "execute_result",
          "data": {
            "text/plain": [
              "<keras.callbacks.History at 0x7f7b99b24d90>"
            ]
          },
          "metadata": {},
          "execution_count": 10
        }
      ]
    },
    {
      "cell_type": "code",
      "metadata": {
        "colab": {
          "base_uri": "https://localhost:8080/"
        },
        "id": "_cPZRlFrzuiC",
        "outputId": "a7381e81-b71e-423d-a330-c6f6be104c18"
      },
      "source": [
        "loaded_model = load_model('embedding_average_model.h5')\n",
        "print(\"\\n 테스트 정확도: %.4f\" % (loaded_model.evaluate(X_test, y_test)[1]))"
      ],
      "execution_count": null,
      "outputs": [
        {
          "output_type": "stream",
          "name": "stdout",
          "text": [
            "782/782 [==============================] - 1s 1ms/step - loss: 0.2921 - acc: 0.8867\n",
            "\n",
            " 테스트 정확도: 0.8867\n"
          ]
        }
      ]
    }
  ]
}