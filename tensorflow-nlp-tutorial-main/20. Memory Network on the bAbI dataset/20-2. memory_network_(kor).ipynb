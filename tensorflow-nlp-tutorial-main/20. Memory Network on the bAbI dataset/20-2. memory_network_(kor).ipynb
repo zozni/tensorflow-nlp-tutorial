{
  "nbformat": 4,
  "nbformat_minor": 0,
  "metadata": {
    "colab": {
      "name": "memory network (kor).ipynb",
      "provenance": [],
      "collapsed_sections": [],
      "toc_visible": true
    },
    "kernelspec": {
      "display_name": "Python 3",
      "name": "python3"
    }
  },
  "cells": [
    {
      "cell_type": "markdown",
      "metadata": {
        "id": "VlviU4N-NAv1"
      },
      "source": [
        "2021년 10월 8일에 최종 테스트 되었습니다."
      ]
    },
    {
      "cell_type": "markdown",
      "metadata": {
        "id": "YtP8ZuteNnXu"
      },
      "source": [
        "링크 : https://wikidocs.net/82475"
      ]
    },
    {
      "cell_type": "code",
      "metadata": {
        "colab": {
          "base_uri": "https://localhost:8080/",
          "height": 35
        },
        "id": "jJWHK_eANDN0",
        "outputId": "aa946e96-864e-4328-ad7a-eac9e105bfbd"
      },
      "source": [
        "import tensorflow as tf\n",
        "tf.__version__"
      ],
      "execution_count": null,
      "outputs": [
        {
          "output_type": "execute_result",
          "data": {
            "application/vnd.google.colaboratory.intrinsic+json": {
              "type": "string"
            },
            "text/plain": [
              "'2.6.0'"
            ]
          },
          "metadata": {},
          "execution_count": 2
        }
      ]
    },
    {
      "cell_type": "markdown",
      "metadata": {
        "id": "ktt34R7EGRZM"
      },
      "source": [
        "# 메모리 네트워크를 이용한 한국어 QA"
      ]
    },
    {
      "cell_type": "markdown",
      "metadata": {
        "id": "Tq0aHOs0GWCP"
      },
      "source": [
        "데이터는 각각 아래의 링크에서 다운로드 할 수 있습니다.  \n",
        "훈련 데이터 : https://bit.ly/31SqtHy  \n",
        "테스트 데이터 : https://bit.ly/3f7rH5g"
      ]
    },
    {
      "cell_type": "markdown",
      "metadata": {
        "id": "x9XiEZRvGXJJ"
      },
      "source": [
        "## 단어 사전 등록이 간편한 형태소 분석기 customized_konlpy"
      ]
    },
    {
      "cell_type": "code",
      "metadata": {
        "colab": {
          "base_uri": "https://localhost:8080/",
          "height": 318
        },
        "id": "Us3UZp-tQPmT",
        "outputId": "cd573911-4ddc-4ff2-f901-14e41a3ca595"
      },
      "source": [
        "pip install customized_konlpy"
      ],
      "execution_count": null,
      "outputs": [
        {
          "name": "stdout",
          "output_type": "stream",
          "text": [
            "Requirement already satisfied: customized_konlpy in /usr/local/lib/python3.6/dist-packages (0.0.64)\n",
            "Requirement already satisfied: Jpype1>=0.6.1 in /usr/local/lib/python3.6/dist-packages (from customized_konlpy) (0.7.5)\n",
            "Requirement already satisfied: konlpy>=0.4.4 in /usr/local/lib/python3.6/dist-packages (from customized_konlpy) (0.5.2)\n",
            "Requirement already satisfied: numpy>=1.6 in /usr/local/lib/python3.6/dist-packages (from konlpy>=0.4.4->customized_konlpy) (1.18.5)\n",
            "Requirement already satisfied: colorama in /usr/local/lib/python3.6/dist-packages (from konlpy>=0.4.4->customized_konlpy) (0.4.3)\n",
            "Requirement already satisfied: lxml>=4.1.0 in /usr/local/lib/python3.6/dist-packages (from konlpy>=0.4.4->customized_konlpy) (4.2.6)\n",
            "Requirement already satisfied: tweepy>=3.7.0 in /usr/local/lib/python3.6/dist-packages (from konlpy>=0.4.4->customized_konlpy) (3.8.0)\n",
            "Requirement already satisfied: beautifulsoup4==4.6.0 in /usr/local/lib/python3.6/dist-packages (from konlpy>=0.4.4->customized_konlpy) (4.6.0)\n",
            "Requirement already satisfied: requests>=2.11.1 in /usr/local/lib/python3.6/dist-packages (from tweepy>=3.7.0->konlpy>=0.4.4->customized_konlpy) (2.23.0)\n",
            "Requirement already satisfied: requests-oauthlib>=0.7.0 in /usr/local/lib/python3.6/dist-packages (from tweepy>=3.7.0->konlpy>=0.4.4->customized_konlpy) (1.3.0)\n",
            "Requirement already satisfied: six>=1.10.0 in /usr/local/lib/python3.6/dist-packages (from tweepy>=3.7.0->konlpy>=0.4.4->customized_konlpy) (1.12.0)\n",
            "Requirement already satisfied: PySocks>=1.5.7 in /usr/local/lib/python3.6/dist-packages (from tweepy>=3.7.0->konlpy>=0.4.4->customized_konlpy) (1.7.1)\n",
            "Requirement already satisfied: urllib3!=1.25.0,!=1.25.1,<1.26,>=1.21.1 in /usr/local/lib/python3.6/dist-packages (from requests>=2.11.1->tweepy>=3.7.0->konlpy>=0.4.4->customized_konlpy) (1.24.3)\n",
            "Requirement already satisfied: chardet<4,>=3.0.2 in /usr/local/lib/python3.6/dist-packages (from requests>=2.11.1->tweepy>=3.7.0->konlpy>=0.4.4->customized_konlpy) (3.0.4)\n",
            "Requirement already satisfied: idna<3,>=2.5 in /usr/local/lib/python3.6/dist-packages (from requests>=2.11.1->tweepy>=3.7.0->konlpy>=0.4.4->customized_konlpy) (2.9)\n",
            "Requirement already satisfied: certifi>=2017.4.17 in /usr/local/lib/python3.6/dist-packages (from requests>=2.11.1->tweepy>=3.7.0->konlpy>=0.4.4->customized_konlpy) (2020.6.20)\n",
            "Requirement already satisfied: oauthlib>=3.0.0 in /usr/local/lib/python3.6/dist-packages (from requests-oauthlib>=0.7.0->tweepy>=3.7.0->konlpy>=0.4.4->customized_konlpy) (3.1.0)\n"
          ]
        }
      ]
    },
    {
      "cell_type": "code",
      "metadata": {
        "id": "uEgY4ShzQudC"
      },
      "source": [
        "from ckonlpy.tag import Twitter"
      ],
      "execution_count": null,
      "outputs": []
    },
    {
      "cell_type": "code",
      "metadata": {
        "colab": {
          "base_uri": "https://localhost:8080/",
          "height": 70
        },
        "id": "HHNd8PuTQoQK",
        "outputId": "77716e12-9d05-4204-95e0-e98a4abf2d2f"
      },
      "source": [
        "twitter = Twitter()\n",
        "twitter.morphs('은경이는 사무실로 갔습니다.')"
      ],
      "execution_count": null,
      "outputs": [
        {
          "name": "stderr",
          "output_type": "stream",
          "text": [
            "/usr/local/lib/python3.6/dist-packages/konlpy/tag/_okt.py:16: UserWarning: \"Twitter\" has changed to \"Okt\" since KoNLPy v0.4.5.\n",
            "  warn('\"Twitter\" has changed to \"Okt\" since KoNLPy v0.4.5.')\n"
          ]
        },
        {
          "data": {
            "text/plain": [
              "['은', '경이', '는', '사무실', '로', '갔습니다', '.']"
            ]
          },
          "execution_count": 101,
          "metadata": {
            "tags": []
          },
          "output_type": "execute_result"
        }
      ]
    },
    {
      "cell_type": "code",
      "metadata": {
        "colab": {
          "base_uri": "https://localhost:8080/",
          "height": 34
        },
        "id": "3Oke4Hd8Qr0r",
        "outputId": "4dd39abb-4cf5-45c5-b98f-7ffb3a4b7cb7"
      },
      "source": [
        "twitter.add_dictionary('은경이', 'Noun')\n",
        "twitter.morphs('은경이는 사무실로 갔습니다.')"
      ],
      "execution_count": null,
      "outputs": [
        {
          "data": {
            "text/plain": [
              "['은경이', '는', '사무실', '로', '갔습니다', '.']"
            ]
          },
          "execution_count": 102,
          "metadata": {
            "tags": []
          },
          "output_type": "execute_result"
        }
      ]
    },
    {
      "cell_type": "markdown",
      "metadata": {
        "id": "ZDopEhHUGb7C"
      },
      "source": [
        "## 데이터 로드"
      ]
    },
    {
      "cell_type": "code",
      "metadata": {
        "id": "7bkg6sr9QQMy"
      },
      "source": [
        "from ckonlpy.tag import Twitter\n",
        "from tensorflow.keras.utils import get_file\n",
        "from tensorflow.keras.preprocessing.sequence import pad_sequences\n",
        "from tensorflow.keras.utils import to_categorical\n",
        "import numpy as np\n",
        "from nltk import FreqDist\n",
        "from functools import reduce\n",
        "import os\n",
        "import re\n",
        "import matplotlib.pyplot as plt"
      ],
      "execution_count": null,
      "outputs": []
    },
    {
      "cell_type": "code",
      "metadata": {
        "id": "h4A77lkgQFzJ"
      },
      "source": [
        "TRAIN_FILE = os.path.join(\"qa1_single-supporting-fact_train_kor.txt\")\n",
        "TEST_FILE = os.path.join(\"qa1_single-supporting-fact_test_kor.txt\")"
      ],
      "execution_count": null,
      "outputs": []
    },
    {
      "cell_type": "markdown",
      "metadata": {
        "id": "J9Cm6WlUGdkr"
      },
      "source": [
        "## Babi 데이터셋 확인"
      ]
    },
    {
      "cell_type": "code",
      "metadata": {
        "colab": {
          "base_uri": "https://localhost:8080/",
          "height": 372
        },
        "id": "H0RfBIooRJqq",
        "outputId": "282ca1c3-0316-45a3-c1fd-bf562861f899"
      },
      "source": [
        "i = 0\n",
        "lines = open(TRAIN_FILE , \"rb\")\n",
        "for line in lines:\n",
        "    line = line.decode(\"utf-8\").strip()\n",
        "    # lno, text = line.split(\" \", 1) # ID와 TEXT 분리\n",
        "    i = i + 1\n",
        "    print(line)\n",
        "    if i == 20:\n",
        "      break"
      ],
      "execution_count": null,
      "outputs": [
        {
          "name": "stdout",
          "output_type": "stream",
          "text": [
            "1 필웅이는 화장실로 갔습니다.\n",
            "2 은경이는 복도로 이동했습니다.\n",
            "3 필웅이는 어디야? \t화장실\t1\n",
            "4 수종이는 복도로 복귀했습니다.\n",
            "5 경임이는 정원으로 갔습니다.\n",
            "6 수종이는 어디야? \t복도\t4\n",
            "7 은경이는 사무실로 갔습니다.\n",
            "8 경임이는 화장실로 뛰어갔습니다.\n",
            "9 수종이는 어디야? \t복도\t4\n",
            "10 필웅이는 복도로 갔습니다.\n",
            "11 수종이는 사무실로 가버렸습니다.\n",
            "12 수종이는 어디야? \t사무실\t11\n",
            "13 은경이는 정원으로 복귀했습니다.\n",
            "14 은경이는 침실로 갔습니다.\n",
            "15 경임이는 어디야? \t화장실\t8\n",
            "1 경임이는 사무실로 가버렸습니다.\n",
            "2 경임이는 화장실로 이동했습니다.\n",
            "3 경임이는 어디야? \t화장실\t2\n",
            "4 필웅이는 침실로 이동했습니다.\n",
            "5 수종이는 복도로 갔습니다.\n"
          ]
        }
      ]
    },
    {
      "cell_type": "markdown",
      "metadata": {
        "id": "vMiWML_tGfLY"
      },
      "source": [
        "## 스토리, 질문, 답변 분리"
      ]
    },
    {
      "cell_type": "code",
      "metadata": {
        "id": "Y_IwuvrBRNeA"
      },
      "source": [
        "def read_data(dir):\n",
        "    stories, questions, answers = [], [], [] # 각각 스토리, 질문, 답변을 저장할 예정\n",
        "    story_temp = [] # 현재 시점의 스토리 임시 저장\n",
        "    lines = open(dir, \"rb\")\n",
        "\n",
        "    for line in lines:\n",
        "        line = line.decode(\"utf-8\") # b' 제거\n",
        "        line = line.strip() # '\\n' 제거\n",
        "        idx, text = line.split(\" \", 1) # 맨 앞에 있는 id number 분리\n",
        "        # 여기까지는 모든 줄에 적용되는 전처리\n",
        "\n",
        "        if int(idx) == 1:\n",
        "            story_temp = []\n",
        "\n",
        "        if \"\\t\" in text: # 현재 읽는 줄이 질문 (tab) 답변 (tab)인 경우\n",
        "            question, answer, _ = text.split(\"\\t\") # 질문과 답변을 각각 저장\n",
        "            stories.append([x for x in story_temp if x]) # 지금까지의 누적 스토리를 스토리에 저장\n",
        "            questions.append(question)\n",
        "            answers.append(answer)\n",
        "\n",
        "        else: # 현재 읽는 줄이 스토리인 경우\n",
        "            story_temp.append(text) # 임시 저장\n",
        "\n",
        "    lines.close()\n",
        "    return stories, questions, answers"
      ],
      "execution_count": null,
      "outputs": []
    },
    {
      "cell_type": "code",
      "metadata": {
        "id": "RabIlPFPWgaa"
      },
      "source": [
        "train_data = read_data(TRAIN_FILE)\n",
        "test_data = read_data(TEST_FILE)"
      ],
      "execution_count": null,
      "outputs": []
    },
    {
      "cell_type": "code",
      "metadata": {
        "id": "UGPZuNgMRQHg"
      },
      "source": [
        "train_stories, train_questions, train_answers = read_data(TRAIN_FILE)\n",
        "test_stories, test_questions, test_answers = read_data(TEST_FILE)"
      ],
      "execution_count": null,
      "outputs": []
    },
    {
      "cell_type": "code",
      "metadata": {
        "colab": {
          "base_uri": "https://localhost:8080/",
          "height": 123
        },
        "id": "enIOcAh2RRbw",
        "outputId": "343516d3-ae0e-4316-cecd-7774a4a030e3"
      },
      "source": [
        "print('훈련용 스토리의 개수 :', len(train_stories))\n",
        "print('훈련용 질문의 개수 :',len(train_questions))\n",
        "print('훈련용 답변의 개수 :',len(train_answers))\n",
        "print('테스트용 스토리의 개수 :',len(test_stories))\n",
        "print('테스트용 질문의 개수 :',len(test_questions))\n",
        "print('테스트용 답변의 개수 :',len(test_answers))"
      ],
      "execution_count": null,
      "outputs": [
        {
          "name": "stdout",
          "output_type": "stream",
          "text": [
            "훈련용 스토리의 개수 : 10000\n",
            "훈련용 질문의 개수 : 10000\n",
            "훈련용 답변의 개수 : 10000\n",
            "테스트용 스토리의 개수 : 1000\n",
            "테스트용 질문의 개수 : 1000\n",
            "테스트용 답변의 개수 : 1000\n"
          ]
        }
      ]
    },
    {
      "cell_type": "code",
      "metadata": {
        "colab": {
          "base_uri": "https://localhost:8080/",
          "height": 123
        },
        "id": "D8Wm1KHjRSjI",
        "outputId": "a955ddfa-671a-4480-ce1b-d84a1ffc9c3f"
      },
      "source": [
        "train_stories[3572]"
      ],
      "execution_count": null,
      "outputs": [
        {
          "data": {
            "text/plain": [
              "['은경이는 부엌으로 가버렸습니다.',\n",
              " '필웅이는 사무실로 가버렸습니다.',\n",
              " '수종이는 복도로 뛰어갔습니다.',\n",
              " '은경이는 사무실로 복귀했습니다.',\n",
              " '경임이는 사무실로 이동했습니다.',\n",
              " '경임이는 침실로 갔습니다.']"
            ]
          },
          "execution_count": 111,
          "metadata": {
            "tags": []
          },
          "output_type": "execute_result"
        }
      ]
    },
    {
      "cell_type": "code",
      "metadata": {
        "colab": {
          "base_uri": "https://localhost:8080/",
          "height": 34
        },
        "id": "Thg7HE61RT14",
        "outputId": "2f8fdaf3-5d82-4a26-e799-07b1564b445c"
      },
      "source": [
        "train_questions[3572]"
      ],
      "execution_count": null,
      "outputs": [
        {
          "data": {
            "application/vnd.google.colaboratory.intrinsic": {
              "type": "string"
            },
            "text/plain": [
              "'은경이는 어디야? '"
            ]
          },
          "execution_count": 112,
          "metadata": {
            "tags": []
          },
          "output_type": "execute_result"
        }
      ]
    },
    {
      "cell_type": "code",
      "metadata": {
        "colab": {
          "base_uri": "https://localhost:8080/",
          "height": 34
        },
        "id": "a_bB2m_HRXIA",
        "outputId": "e6fab148-0e26-4a3a-c4df-5ce7ed7a942e"
      },
      "source": [
        "train_answers[3572]"
      ],
      "execution_count": null,
      "outputs": [
        {
          "data": {
            "application/vnd.google.colaboratory.intrinsic": {
              "type": "string"
            },
            "text/plain": [
              "'사무실'"
            ]
          },
          "execution_count": 113,
          "metadata": {
            "tags": []
          },
          "output_type": "execute_result"
        }
      ]
    },
    {
      "cell_type": "markdown",
      "metadata": {
        "id": "pnDC9aq2GiPZ"
      },
      "source": [
        "## 단어 집합 생성 및 토큰화 및 스토리와 질문의 최대 길이 구하기  "
      ]
    },
    {
      "cell_type": "markdown",
      "metadata": {
        "id": "ZD2OBre7GzQZ"
      },
      "source": [
        "이제 토큰화 함수를 정의하고, 이로부터 Vocabulary를 생성하는 함수를 만들어봅시다. 아래의 함수는 영어 데이터셋에 사용했던 토큰화 함수와 동일합니다. 현재는 한국어이므로 아래의 토큰화 함수를 그대로 사용하는 것은 바람직하지는 않지만, 임시로 사용해보겠습니다. 어절 단위로 했을 때 어떤 단어들이 있는지 출력해보기 위함입니다."
      ]
    },
    {
      "cell_type": "code",
      "metadata": {
        "id": "jJGkCdQ4WBRi"
      },
      "source": [
        "def tokenize(sent):\n",
        "    return [ x.strip() for x in re.split('(\\W+)?', sent) if x.strip()]"
      ],
      "execution_count": null,
      "outputs": []
    },
    {
      "cell_type": "code",
      "metadata": {
        "id": "xiMTed3WWCD7"
      },
      "source": [
        "def preprocess_data(train_data, test_data):\n",
        "    counter = FreqDist()\n",
        "\n",
        "    # 두 문장의 story를 하나의 문장으로 통합하는 함수\n",
        "    flatten = lambda data: reduce(lambda x, y: x + y, data)\n",
        "\n",
        "    # 각 샘플의 길이를 저장하는 리스트\n",
        "    story_len = []\n",
        "    question_len = []\n",
        "\n",
        "    for stories, questions, answers in [train_data, test_data]:\n",
        "        for story in stories:\n",
        "            stories = tokenize(flatten(story)) # 스토리의 문장들을 펼친 후 토큰화\n",
        "            story_len.append(len(stories)) # 각 story의 길이 저장\n",
        "            for word in stories: # 단어 집합에 단어 추가\n",
        "                counter[word] += 1\n",
        "        for question in questions:\n",
        "            question = tokenize(question)\n",
        "            question_len.append(len(question))\n",
        "            for word in question:\n",
        "                counter[word] += 1\n",
        "        for answer in answers:\n",
        "            answer = tokenize(answer)\n",
        "            for word in answer:\n",
        "                counter[word] += 1\n",
        "\n",
        "    # 단어 집합 생성\n",
        "    word2idx = {word : (idx + 1) for idx, (word, _) in enumerate(counter.most_common())}\n",
        "    idx2word = {idx : word for word, idx in word2idx.items()}\n",
        "\n",
        "    # 가장 긴 샘플의 길이\n",
        "    story_max_len = np.max(story_len)\n",
        "    question_max_len = np.max(question_len)\n",
        "\n",
        "    return word2idx, idx2word, story_max_len, question_max_len"
      ],
      "execution_count": null,
      "outputs": []
    },
    {
      "cell_type": "markdown",
      "metadata": {
        "id": "p_dlGJpYGuqH"
      },
      "source": [
        "word2idx를 출력해봅시다."
      ]
    },
    {
      "cell_type": "code",
      "metadata": {
        "colab": {
          "base_uri": "https://localhost:8080/",
          "height": 52
        },
        "id": "UMQLgV1oWF1k",
        "outputId": "98b1d9c7-59d0-46dc-ebaf-3377141a818d"
      },
      "source": [
        "word2idx, idx2word, story_max_len, question_max_len = preprocess_data(train_data, test_data)"
      ],
      "execution_count": null,
      "outputs": [
        {
          "name": "stderr",
          "output_type": "stream",
          "text": [
            "/usr/lib/python3.6/re.py:212: FutureWarning: split() requires a non-empty pattern match.\n",
            "  return _compile(pattern, flags).split(string, maxsplit)\n"
          ]
        }
      ]
    },
    {
      "cell_type": "code",
      "metadata": {
        "colab": {
          "base_uri": "https://localhost:8080/",
          "height": 54
        },
        "id": "3erH8vSjWjsP",
        "outputId": "25329c95-05dc-4c61-8dfc-a849ad884793"
      },
      "source": [
        "print(word2idx)"
      ],
      "execution_count": null,
      "outputs": [
        {
          "name": "stdout",
          "output_type": "stream",
          "text": [
            "{'.': 1, '경임이는': 2, '은경이는': 3, '수종이는': 4, '필웅이는': 5, '이동했습니다': 6, '가버렸습니다': 7, '뛰어갔습니다': 8, '복귀했습니다': 9, '갔습니다': 10, '화장실로': 11, '정원으로': 12, '복도로': 13, '어디야': 14, '?': 15, '부엌으로': 16, '사무실로': 17, '침실로': 18, '화장실': 19, '정원': 20, '사무실': 21, '침실': 22, '복도': 23, '부엌': 24}\n"
          ]
        }
      ]
    },
    {
      "cell_type": "markdown",
      "metadata": {
        "id": "oh-6vL5XG6Im"
      },
      "source": [
        "띄어쓰기 단위, 다시 말해 어절 단위로 했을 때 나오는 총 토큰의 수는 24개입니다. 19번 토큰부터 24번 토큰까지를 봤을 때 장소에 해당되는 명사들은 '화장실', '정원', '사무실', '침실', '복도', '부엌'이 있는 것 같습니다. 그렇다면, 11번 토큰부터 19번 토큰 사이에 등장하는 '화장실로', '정원으로', '복도로', '부엌으로', '사무실로', '침실로'로 분리된 토큰들은 형태소 분석을 하였을 때 전부 '화장실', '정원', '사무실', '침실', '복도', '부엌'으로 분리되어야 합니다."
      ]
    },
    {
      "cell_type": "markdown",
      "metadata": {
        "id": "GYXcFUZTGsBT"
      },
      "source": [
        "## 형태소 분석기 사전 등록"
      ]
    },
    {
      "cell_type": "markdown",
      "metadata": {
        "id": "jlwR3nwaXQwo"
      },
      "source": [
        "'화장실로, 정원으로, 복도로, 부엌으로, 사무실로, 침실로'가 형태소 분석기가 정상적으로 분리하는지 확인이 필요함."
      ]
    },
    {
      "cell_type": "code",
      "metadata": {
        "colab": {
          "base_uri": "https://localhost:8080/",
          "height": 52
        },
        "id": "i2RE7DQ9RYMY",
        "outputId": "f17256c2-3e19-4704-f06e-10001e38b491"
      },
      "source": [
        "twitter = Twitter()"
      ],
      "execution_count": null,
      "outputs": [
        {
          "name": "stderr",
          "output_type": "stream",
          "text": [
            "/usr/local/lib/python3.6/dist-packages/konlpy/tag/_okt.py:16: UserWarning: \"Twitter\" has changed to \"Okt\" since KoNLPy v0.4.5.\n",
            "  warn('\"Twitter\" has changed to \"Okt\" since KoNLPy v0.4.5.')\n"
          ]
        }
      ]
    },
    {
      "cell_type": "code",
      "metadata": {
        "colab": {
          "base_uri": "https://localhost:8080/",
          "height": 123
        },
        "id": "A0F7PjuyRtew",
        "outputId": "77f1e77a-a572-419e-b825-80ad58707d9a"
      },
      "source": [
        "print(twitter.morphs('은경이는 화장실로 이동했습니다.'))\n",
        "print(twitter.morphs('경임이는 정원으로 가버렸습니다.'))\n",
        "print(twitter.morphs('수종이는 복도로 뛰어갔습니다.'))\n",
        "print(twitter.morphs('필웅이는 부엌으로 복귀했습니다.'))\n",
        "print(twitter.morphs('수종이는 사무실로 갔습니다.'))\n",
        "print(twitter.morphs('은경이는 침실로 갔습니다.'))"
      ],
      "execution_count": null,
      "outputs": [
        {
          "name": "stdout",
          "output_type": "stream",
          "text": [
            "['은', '경이', '는', '화장실', '로', '이동', '했습니다', '.']\n",
            "['경', '임', '이', '는', '정원', '으로', '가버렸습니다', '.']\n",
            "['수종', '이', '는', '복도', '로', '뛰어갔습니다', '.']\n",
            "['필웅이', '는', '부엌', '으로', '복귀', '했습니다', '.']\n",
            "['수종', '이', '는', '사무실', '로', '갔습니다', '.']\n",
            "['은', '경이', '는', '침실', '로', '갔습니다', '.']\n"
          ]
        }
      ]
    },
    {
      "cell_type": "code",
      "metadata": {
        "id": "qsYWIKfRVsKS"
      },
      "source": [
        "twitter.add_dictionary('은경이', 'Noun')\n",
        "twitter.add_dictionary('경임이', 'Noun')\n",
        "twitter.add_dictionary('수종이', 'Noun')"
      ],
      "execution_count": null,
      "outputs": []
    },
    {
      "cell_type": "code",
      "metadata": {
        "colab": {
          "base_uri": "https://localhost:8080/",
          "height": 123
        },
        "id": "uYUFcbCBbbA-",
        "outputId": "50f45174-66ec-4700-86ae-aae279b36157"
      },
      "source": [
        "print(twitter.morphs('은경이는 화장실로 이동했습니다.'))\n",
        "print(twitter.morphs('경임이는 정원으로 가버렸습니다.'))\n",
        "print(twitter.morphs('수종이는 복도로 뛰어갔습니다.'))\n",
        "print(twitter.morphs('필웅이는 부엌으로 복귀했습니다.'))\n",
        "print(twitter.morphs('수종이는 사무실로 갔습니다.'))\n",
        "print(twitter.morphs('은경이는 침실로 갔습니다.'))"
      ],
      "execution_count": null,
      "outputs": [
        {
          "name": "stdout",
          "output_type": "stream",
          "text": [
            "['은경이', '는', '화장실', '로', '이동', '했습니다', '.']\n",
            "['경임이', '는', '정원', '으로', '가버렸습니다', '.']\n",
            "['수종이', '는', '복도', '로', '뛰어갔습니다', '.']\n",
            "['필웅이', '는', '부엌', '으로', '복귀', '했습니다', '.']\n",
            "['수종이', '는', '사무실', '로', '갔습니다', '.']\n",
            "['은경이', '는', '침실', '로', '갔습니다', '.']\n"
          ]
        }
      ]
    },
    {
      "cell_type": "markdown",
      "metadata": {
        "id": "vSLbfiHgHCF5"
      },
      "source": [
        "##단어 집합 생성 및 토큰화 및 스토리와 질문의 최대 길이 구하기(다시)"
      ]
    },
    {
      "cell_type": "code",
      "metadata": {
        "id": "uJr8X5lPV0DP"
      },
      "source": [
        "def tokenize(sent):\n",
        "    return twitter.morphs(sent)"
      ],
      "execution_count": null,
      "outputs": []
    },
    {
      "cell_type": "code",
      "metadata": {
        "id": "bY_OqDtUbLMZ"
      },
      "source": [
        "word2idx, idx2word, story_max_len, question_max_len = preprocess_data(train_data, test_data)"
      ],
      "execution_count": null,
      "outputs": []
    },
    {
      "cell_type": "code",
      "metadata": {
        "colab": {
          "base_uri": "https://localhost:8080/",
          "height": 54
        },
        "id": "3j5FIQQGbRFI",
        "outputId": "61b67bab-69df-459f-ee5b-2b52206ec7a5"
      },
      "source": [
        "print(word2idx)"
      ],
      "execution_count": null,
      "outputs": [
        {
          "name": "stdout",
          "output_type": "stream",
          "text": [
            "{'는': 1, '.': 2, '로': 3, '했습니다': 4, '으로': 5, '경임이': 6, '은경이': 7, '수종이': 8, '필웅이': 9, '이동': 10, '가버렸습니다': 11, '뛰어갔습니다': 12, '복귀': 13, '화장실': 14, '정원': 15, '복도': 16, '갔습니다': 17, '사무실': 18, '부엌': 19, '침실': 20, '어디': 21, '야': 22, '?': 23}\n"
          ]
        }
      ]
    },
    {
      "cell_type": "code",
      "metadata": {
        "colab": {
          "base_uri": "https://localhost:8080/",
          "height": 425
        },
        "id": "mCDO93srbtav",
        "outputId": "5e68eee5-3f63-455a-f54a-407e07737c89"
      },
      "source": [
        "idx2word"
      ],
      "execution_count": null,
      "outputs": [
        {
          "data": {
            "text/plain": [
              "{1: '는',\n",
              " 2: '.',\n",
              " 3: '로',\n",
              " 4: '했습니다',\n",
              " 5: '으로',\n",
              " 6: '경임이',\n",
              " 7: '은경이',\n",
              " 8: '수종이',\n",
              " 9: '필웅이',\n",
              " 10: '이동',\n",
              " 11: '가버렸습니다',\n",
              " 12: '뛰어갔습니다',\n",
              " 13: '복귀',\n",
              " 14: '화장실',\n",
              " 15: '정원',\n",
              " 16: '복도',\n",
              " 17: '갔습니다',\n",
              " 18: '사무실',\n",
              " 19: '부엌',\n",
              " 20: '침실',\n",
              " 21: '어디',\n",
              " 22: '야',\n",
              " 23: '?'}"
            ]
          },
          "execution_count": 82,
          "metadata": {
            "tags": []
          },
          "output_type": "execute_result"
        }
      ]
    },
    {
      "cell_type": "code",
      "metadata": {
        "colab": {
          "base_uri": "https://localhost:8080/",
          "height": 34
        },
        "id": "sTflyTBRb0UH",
        "outputId": "8bec16b5-d79d-4b3a-c75b-6fb057155775"
      },
      "source": [
        "vocab_size = len(word2idx) + 1\n",
        "print(vocab_size)"
      ],
      "execution_count": null,
      "outputs": [
        {
          "name": "stdout",
          "output_type": "stream",
          "text": [
            "24\n"
          ]
        }
      ]
    },
    {
      "cell_type": "code",
      "metadata": {
        "colab": {
          "base_uri": "https://localhost:8080/",
          "height": 52
        },
        "id": "oWnDG29FcFzW",
        "outputId": "4a3a7cd1-320e-4995-dfdc-eea0c359c98b"
      },
      "source": [
        "print('스토리의 최대 길이 :',story_max_len)\n",
        "print('질문의 최대 길이 :',question_max_len)"
      ],
      "execution_count": null,
      "outputs": [
        {
          "name": "stdout",
          "output_type": "stream",
          "text": [
            "스토리의 최대 길이 : 70\n",
            "질문의 최대 길이 : 5\n"
          ]
        }
      ]
    },
    {
      "cell_type": "markdown",
      "metadata": {
        "id": "DwwzIsKmHH66"
      },
      "source": [
        "## 정수 인코딩 및 패딩"
      ]
    },
    {
      "cell_type": "code",
      "metadata": {
        "id": "RVtQY63LcG6W"
      },
      "source": [
        "def vectorize(data, word2idx, story_maxlen, question_maxlen):\n",
        "    Xs, Xq, Y = [], [], []\n",
        "    flatten = lambda data: reduce(lambda x, y: x + y, data)\n",
        "\n",
        "    stories, questions, answers = data\n",
        "    for story, question, answer in zip(stories, questions, answers):\n",
        "        xs = [word2idx[w] for w in tokenize(flatten(story))]\n",
        "        xq = [word2idx[w] for w in tokenize(question)]\n",
        "        Xs.append(xs)\n",
        "        Xq.append(xq)\n",
        "        Y.append(word2idx[answer])\n",
        "\n",
        "        # 스토리와 질문은 각각의 최대 길이로 패딩\n",
        "        # 정답은 원-핫 인코딩\n",
        "    return pad_sequences(Xs, maxlen=story_maxlen),\\\n",
        "           pad_sequences(Xq, maxlen=question_maxlen),\\\n",
        "           to_categorical(Y, num_classes=len(word2idx) + 1)"
      ],
      "execution_count": null,
      "outputs": []
    },
    {
      "cell_type": "code",
      "metadata": {
        "id": "p8toMbSHcISP"
      },
      "source": [
        "Xstrain, Xqtrain, Ytrain = vectorize(train_data, word2idx, story_max_len, question_max_len)\n",
        "Xstest, Xqtest, Ytest = vectorize(test_data, word2idx, story_max_len, question_max_len)"
      ],
      "execution_count": null,
      "outputs": []
    },
    {
      "cell_type": "code",
      "metadata": {
        "colab": {
          "base_uri": "https://localhost:8080/",
          "height": 34
        },
        "id": "puLdisufcJVu",
        "outputId": "7b13564d-16b0-446e-e91f-d1836917b214"
      },
      "source": [
        "print(Xstrain.shape, Xqtrain.shape, Ytrain.shape, Xstest.shape, Xqtest.shape, Ytest.shape)"
      ],
      "execution_count": null,
      "outputs": [
        {
          "name": "stdout",
          "output_type": "stream",
          "text": [
            "(10000, 70) (10000, 5) (10000, 24) (1000, 70) (1000, 5) (1000, 24)\n"
          ]
        }
      ]
    },
    {
      "cell_type": "markdown",
      "metadata": {
        "id": "AvYHNf2tHJwj"
      },
      "source": [
        "## 메모리 네트워크 구현"
      ]
    },
    {
      "cell_type": "code",
      "metadata": {
        "id": "Ey3XSg9AcKhu"
      },
      "source": [
        "from tensorflow.keras.models import Sequential, Model\n",
        "from tensorflow.keras.layers import Embedding\n",
        "from tensorflow.keras.layers import Permute, dot, add, concatenate\n",
        "from tensorflow.keras.layers import LSTM, Dense, Dropout, Input, Activation"
      ],
      "execution_count": null,
      "outputs": []
    },
    {
      "cell_type": "code",
      "metadata": {
        "id": "cWqGB8WJcLwu"
      },
      "source": [
        "# 에포크 횟수\n",
        "train_epochs = 120\n",
        "# 배치 크기\n",
        "batch_size = 32\n",
        "# 임베딩 크기\n",
        "embed_size = 50\n",
        "# LSTM의 크기\n",
        "lstm_size = 64\n",
        "# 과적합 방지 기법인 드롭아웃 적용 비율\n",
        "dropout_rate = 0.30"
      ],
      "execution_count": null,
      "outputs": []
    },
    {
      "cell_type": "code",
      "metadata": {
        "colab": {
          "base_uri": "https://localhost:8080/",
          "height": 52
        },
        "id": "KiSgI55icNJu",
        "outputId": "d0ce9b17-ef22-45c9-f37f-522f5180baeb"
      },
      "source": [
        "# 플레이스 홀더. 입력을 담는 변수\n",
        "input_sequence = Input((story_max_len,))\n",
        "question = Input((question_max_len,))\n",
        "\n",
        "print('Stories :', input_sequence)\n",
        "print('Question:', question)"
      ],
      "execution_count": null,
      "outputs": [
        {
          "name": "stdout",
          "output_type": "stream",
          "text": [
            "Stories : Tensor(\"input_1:0\", shape=(None, 70), dtype=float32)\n",
            "Question: Tensor(\"input_2:0\", shape=(None, 5), dtype=float32)\n"
          ]
        }
      ]
    },
    {
      "cell_type": "code",
      "metadata": {
        "id": "zUeW2Jt1cPSV"
      },
      "source": [
        "# 스토리를 위한 첫번째 임베딩. 그림에서의 Embedding A\n",
        "input_encoder_m = Sequential()\n",
        "input_encoder_m.add(Embedding(input_dim=vocab_size,\n",
        "                              output_dim=embed_size))\n",
        "input_encoder_m.add(Dropout(dropout_rate))\n",
        "# 결과 : (samples, story_max_len, embedding_dim) / 샘플의 수, 문장의 최대 길이, 임베딩 벡터의 차원\n",
        "\n",
        "# 스토리를 위한 두번째 임베딩. 그림에서의 Embedding C\n",
        "# 임베딩 벡터의 차원을 question_max_len(질문의 최대 길이)로 한다.\n",
        "input_encoder_c = Sequential()\n",
        "input_encoder_c.add(Embedding(input_dim=vocab_size,\n",
        "                              output_dim=question_max_len))\n",
        "input_encoder_c.add(Dropout(dropout_rate))\n",
        "# 결과 : (samples, story_max_len, question_max_len) / 샘플의 수, 문장의 최대 길이, 질문의 최대 길이(임베딩 벡터의 차원)"
      ],
      "execution_count": null,
      "outputs": []
    },
    {
      "cell_type": "code",
      "metadata": {
        "id": "xvbx-92tcQt-"
      },
      "source": [
        "# 질문을 위한 임베딩. 그림에서의 Embedding B\n",
        "question_encoder = Sequential()\n",
        "question_encoder.add(Embedding(input_dim=vocab_size,\n",
        "                               output_dim=embed_size,\n",
        "                               input_length=question_max_len))\n",
        "question_encoder.add(Dropout(dropout_rate))\n",
        "# 결과 : (samples, question_max_len, embedding_dim) / 샘플의 수, 질문의 최대 길이, 임베딩 벡터의 차원"
      ],
      "execution_count": null,
      "outputs": []
    },
    {
      "cell_type": "code",
      "metadata": {
        "colab": {
          "base_uri": "https://localhost:8080/",
          "height": 70
        },
        "id": "E5dctAXZcR6d",
        "outputId": "24e0747b-a9a8-4699-8563-7ef1222b6a96"
      },
      "source": [
        "# 실질적인 임베딩 과정\n",
        "input_encoded_m = input_encoder_m(input_sequence)\n",
        "input_encoded_c = input_encoder_c(input_sequence)\n",
        "question_encoded = question_encoder(question)\n",
        "\n",
        "print('Input encoded m', input_encoded_m)\n",
        "print('Input encoded c', input_encoded_c)\n",
        "print('Question encoded', question_encoded)"
      ],
      "execution_count": null,
      "outputs": [
        {
          "name": "stdout",
          "output_type": "stream",
          "text": [
            "Input encoded m Tensor(\"sequential/Identity:0\", shape=(None, 70, 50), dtype=float32)\n",
            "Input encoded c Tensor(\"sequential_1/Identity:0\", shape=(None, 70, 5), dtype=float32)\n",
            "Question encoded Tensor(\"sequential_2/Identity:0\", shape=(None, 5, 50), dtype=float32)\n"
          ]
        }
      ]
    },
    {
      "cell_type": "code",
      "metadata": {
        "colab": {
          "base_uri": "https://localhost:8080/",
          "height": 70
        },
        "id": "e-L-up6FcVj-",
        "outputId": "02dae2aa-b2ea-44b9-c554-d85ff861498c"
      },
      "source": [
        "# 스토리 단어들과 질문 단어들 간의 유사도를 구하는 과정\n",
        "# 유사도는 내적을 사용한다.\n",
        "match = dot([input_encoded_m, question_encoded], axes=-1, normalize=False)\n",
        "match = Activation('softmax')(match)\n",
        "print('Match shape', match)\n",
        "# 결과 : (samples, story_maxlen, question_max_len) / 샘플의 수, 문장의 최대 길이, 질문의 최대 길이\n",
        "\n",
        "# add the match matrix with the second input vector sequence\n",
        "response = add([match, input_encoded_c])  # (samples, story_max_len, question_max_len)\n",
        "response = Permute((2, 1))(response)  # (samples, question_max_len, story_max_len)\n",
        "print('Response shape', response)\n",
        "\n",
        "# concatenate the response vector with the question vector sequence\n",
        "answer = concatenate([response, question_encoded])\n",
        "print('Answer shape', answer)\n",
        "\n",
        "answer = LSTM(lstm_size)(answer)  # Generate tensors of shape 32\n",
        "answer = Dropout(dropout_rate)(answer)\n",
        "answer = Dense(vocab_size)(answer)  # (samples, vocab_size)\n",
        "# we output a probability distribution over the vocabulary\n",
        "answer = Activation('softmax')(answer)"
      ],
      "execution_count": null,
      "outputs": [
        {
          "name": "stdout",
          "output_type": "stream",
          "text": [
            "Match shape Tensor(\"activation/Identity:0\", shape=(None, 70, 5), dtype=float32)\n",
            "Response shape Tensor(\"permute/Identity:0\", shape=(None, 5, 70), dtype=float32)\n",
            "Answer shape Tensor(\"concatenate/Identity:0\", shape=(None, 5, 120), dtype=float32)\n"
          ]
        }
      ]
    },
    {
      "cell_type": "code",
      "metadata": {
        "colab": {
          "base_uri": "https://localhost:8080/",
          "height": 1000
        },
        "id": "EW5px9B4cYUV",
        "outputId": "9ee7cf2d-2c52-4f85-82b8-356dd28e9a10"
      },
      "source": [
        "# build the final model\n",
        "model = Model([input_sequence, question], answer)\n",
        "model.compile(optimizer='rmsprop', loss='categorical_crossentropy',\n",
        "              metrics=['acc'])\n",
        "\n",
        "print(model.summary())\n",
        "\n",
        "# start training the model\n",
        "history = model.fit([Xstrain, Xqtrain],\n",
        "         Ytrain, batch_size, train_epochs,\n",
        "         validation_data=([Xstest, Xqtest], Ytest))\n",
        "\n",
        "# save model\n",
        "model.save('model.h5')"
      ],
      "execution_count": null,
      "outputs": [
        {
          "name": "stdout",
          "output_type": "stream",
          "text": [
            "Model: \"model\"\n",
            "__________________________________________________________________________________________________\n",
            "Layer (type)                    Output Shape         Param #     Connected to                     \n",
            "==================================================================================================\n",
            "input_1 (InputLayer)            [(None, 70)]         0                                            \n",
            "__________________________________________________________________________________________________\n",
            "input_2 (InputLayer)            [(None, 5)]          0                                            \n",
            "__________________________________________________________________________________________________\n",
            "sequential (Sequential)         multiple             1200        input_1[0][0]                    \n",
            "__________________________________________________________________________________________________\n",
            "sequential_2 (Sequential)       (None, 5, 50)        1200        input_2[0][0]                    \n",
            "__________________________________________________________________________________________________\n",
            "dot (Dot)                       (None, 70, 5)        0           sequential[1][0]                 \n",
            "                                                                 sequential_2[1][0]               \n",
            "__________________________________________________________________________________________________\n",
            "activation (Activation)         (None, 70, 5)        0           dot[0][0]                        \n",
            "__________________________________________________________________________________________________\n",
            "sequential_1 (Sequential)       multiple             120         input_1[0][0]                    \n",
            "__________________________________________________________________________________________________\n",
            "add (Add)                       (None, 70, 5)        0           activation[0][0]                 \n",
            "                                                                 sequential_1[1][0]               \n",
            "__________________________________________________________________________________________________\n",
            "permute (Permute)               (None, 5, 70)        0           add[0][0]                        \n",
            "__________________________________________________________________________________________________\n",
            "concatenate (Concatenate)       (None, 5, 120)       0           permute[0][0]                    \n",
            "                                                                 sequential_2[1][0]               \n",
            "__________________________________________________________________________________________________\n",
            "lstm (LSTM)                     (None, 64)           47360       concatenate[0][0]                \n",
            "__________________________________________________________________________________________________\n",
            "dropout_3 (Dropout)             (None, 64)           0           lstm[0][0]                       \n",
            "__________________________________________________________________________________________________\n",
            "dense (Dense)                   (None, 24)           1560        dropout_3[0][0]                  \n",
            "__________________________________________________________________________________________________\n",
            "activation_1 (Activation)       (None, 24)           0           dense[0][0]                      \n",
            "==================================================================================================\n",
            "Total params: 51,440\n",
            "Trainable params: 51,440\n",
            "Non-trainable params: 0\n",
            "__________________________________________________________________________________________________\n",
            "None\n",
            "Epoch 1/120\n",
            "313/313 [==============================] - 4s 13ms/step - loss: 1.8982 - acc: 0.1693 - val_loss: 1.7868 - val_acc: 0.2470\n",
            "Epoch 2/120\n",
            "313/313 [==============================] - 3s 10ms/step - loss: 1.7075 - acc: 0.2567 - val_loss: 1.6049 - val_acc: 0.3870\n",
            "Epoch 3/120\n",
            "313/313 [==============================] - 3s 10ms/step - loss: 1.5579 - acc: 0.3737 - val_loss: 1.4619 - val_acc: 0.4140\n",
            "Epoch 4/120\n",
            "313/313 [==============================] - 3s 10ms/step - loss: 1.4848 - acc: 0.4171 - val_loss: 1.4182 - val_acc: 0.4510\n",
            "Epoch 5/120\n",
            "313/313 [==============================] - 3s 9ms/step - loss: 1.4464 - acc: 0.4446 - val_loss: 1.4419 - val_acc: 0.4200\n",
            "Epoch 6/120\n",
            "313/313 [==============================] - 3s 10ms/step - loss: 1.4159 - acc: 0.4557 - val_loss: 1.3817 - val_acc: 0.4640\n",
            "Epoch 7/120\n",
            "313/313 [==============================] - 3s 10ms/step - loss: 1.3700 - acc: 0.4781 - val_loss: 1.3279 - val_acc: 0.5040\n",
            "Epoch 8/120\n",
            "313/313 [==============================] - 3s 9ms/step - loss: 1.3283 - acc: 0.4939 - val_loss: 1.2875 - val_acc: 0.5190\n",
            "Epoch 9/120\n",
            "313/313 [==============================] - 3s 10ms/step - loss: 1.3025 - acc: 0.5037 - val_loss: 1.2792 - val_acc: 0.5020\n",
            "Epoch 10/120\n",
            "313/313 [==============================] - 3s 10ms/step - loss: 1.2779 - acc: 0.5098 - val_loss: 1.2808 - val_acc: 0.4930\n",
            "Epoch 11/120\n",
            "313/313 [==============================] - 3s 10ms/step - loss: 1.2613 - acc: 0.5132 - val_loss: 1.2507 - val_acc: 0.5360\n",
            "Epoch 12/120\n",
            "313/313 [==============================] - 3s 10ms/step - loss: 1.2470 - acc: 0.5163 - val_loss: 1.2421 - val_acc: 0.5180\n",
            "Epoch 13/120\n",
            "313/313 [==============================] - 3s 10ms/step - loss: 1.2273 - acc: 0.5204 - val_loss: 1.2253 - val_acc: 0.5200\n",
            "Epoch 14/120\n",
            "313/313 [==============================] - 3s 10ms/step - loss: 1.2214 - acc: 0.5276 - val_loss: 1.2376 - val_acc: 0.5270\n",
            "Epoch 15/120\n",
            "313/313 [==============================] - 3s 10ms/step - loss: 1.2049 - acc: 0.5250 - val_loss: 1.2172 - val_acc: 0.5220\n",
            "Epoch 16/120\n",
            "313/313 [==============================] - 3s 10ms/step - loss: 1.2003 - acc: 0.5222 - val_loss: 1.2091 - val_acc: 0.5170\n",
            "Epoch 17/120\n",
            "313/313 [==============================] - 3s 10ms/step - loss: 1.1844 - acc: 0.5322 - val_loss: 1.2151 - val_acc: 0.5180\n",
            "Epoch 18/120\n",
            "313/313 [==============================] - 3s 10ms/step - loss: 1.1694 - acc: 0.5303 - val_loss: 1.2158 - val_acc: 0.5210\n",
            "Epoch 19/120\n",
            "313/313 [==============================] - 3s 9ms/step - loss: 1.1671 - acc: 0.5376 - val_loss: 1.2055 - val_acc: 0.5280\n",
            "Epoch 20/120\n",
            "313/313 [==============================] - 3s 10ms/step - loss: 1.1515 - acc: 0.5399 - val_loss: 1.2079 - val_acc: 0.5250\n",
            "Epoch 21/120\n",
            "313/313 [==============================] - 3s 10ms/step - loss: 1.1460 - acc: 0.5387 - val_loss: 1.2003 - val_acc: 0.5140\n",
            "Epoch 22/120\n",
            "313/313 [==============================] - 3s 10ms/step - loss: 1.1382 - acc: 0.5410 - val_loss: 1.2025 - val_acc: 0.5140\n",
            "Epoch 23/120\n",
            "313/313 [==============================] - 3s 11ms/step - loss: 1.1280 - acc: 0.5433 - val_loss: 1.1976 - val_acc: 0.5100\n",
            "Epoch 24/120\n",
            "313/313 [==============================] - 3s 10ms/step - loss: 1.1137 - acc: 0.5499 - val_loss: 1.2152 - val_acc: 0.5300\n",
            "Epoch 25/120\n",
            "313/313 [==============================] - 3s 10ms/step - loss: 1.1129 - acc: 0.5511 - val_loss: 1.2064 - val_acc: 0.5190\n",
            "Epoch 26/120\n",
            "313/313 [==============================] - 3s 10ms/step - loss: 1.1060 - acc: 0.5502 - val_loss: 1.2110 - val_acc: 0.5210\n",
            "Epoch 27/120\n",
            "313/313 [==============================] - 3s 10ms/step - loss: 1.0963 - acc: 0.5571 - val_loss: 1.2037 - val_acc: 0.5250\n",
            "Epoch 28/120\n",
            "313/313 [==============================] - 3s 10ms/step - loss: 1.0846 - acc: 0.5529 - val_loss: 1.2028 - val_acc: 0.5170\n",
            "Epoch 29/120\n",
            "313/313 [==============================] - 3s 10ms/step - loss: 1.0789 - acc: 0.5555 - val_loss: 1.2014 - val_acc: 0.5100\n",
            "Epoch 30/120\n",
            "313/313 [==============================] - 3s 10ms/step - loss: 1.0681 - acc: 0.5614 - val_loss: 1.2123 - val_acc: 0.5170\n",
            "Epoch 31/120\n",
            "313/313 [==============================] - 3s 10ms/step - loss: 1.0644 - acc: 0.5656 - val_loss: 1.2151 - val_acc: 0.5170\n",
            "Epoch 32/120\n",
            "313/313 [==============================] - 3s 10ms/step - loss: 1.0516 - acc: 0.5719 - val_loss: 1.2093 - val_acc: 0.5210\n",
            "Epoch 33/120\n",
            "313/313 [==============================] - 3s 10ms/step - loss: 1.0395 - acc: 0.5749 - val_loss: 1.2333 - val_acc: 0.5160\n",
            "Epoch 34/120\n",
            "313/313 [==============================] - 3s 9ms/step - loss: 1.0355 - acc: 0.5745 - val_loss: 1.2217 - val_acc: 0.5180\n",
            "Epoch 35/120\n",
            "313/313 [==============================] - 3s 9ms/step - loss: 1.0319 - acc: 0.5769 - val_loss: 1.2105 - val_acc: 0.5160\n",
            "Epoch 36/120\n",
            "313/313 [==============================] - 3s 9ms/step - loss: 1.0250 - acc: 0.5721 - val_loss: 1.2358 - val_acc: 0.5150\n",
            "Epoch 37/120\n",
            "313/313 [==============================] - 3s 10ms/step - loss: 1.0151 - acc: 0.5820 - val_loss: 1.2152 - val_acc: 0.5130\n",
            "Epoch 38/120\n",
            "313/313 [==============================] - 3s 9ms/step - loss: 1.0022 - acc: 0.5903 - val_loss: 1.2352 - val_acc: 0.5190\n",
            "Epoch 39/120\n",
            "313/313 [==============================] - 3s 10ms/step - loss: 0.9950 - acc: 0.5869 - val_loss: 1.2399 - val_acc: 0.4980\n",
            "Epoch 40/120\n",
            "313/313 [==============================] - 3s 10ms/step - loss: 0.9837 - acc: 0.5938 - val_loss: 1.2542 - val_acc: 0.5020\n",
            "Epoch 41/120\n",
            "313/313 [==============================] - 3s 9ms/step - loss: 0.9710 - acc: 0.6014 - val_loss: 1.2608 - val_acc: 0.4990\n",
            "Epoch 42/120\n",
            "313/313 [==============================] - 3s 9ms/step - loss: 0.9587 - acc: 0.6077 - val_loss: 1.2451 - val_acc: 0.5060\n",
            "Epoch 43/120\n",
            "313/313 [==============================] - 3s 10ms/step - loss: 0.9472 - acc: 0.6113 - val_loss: 1.2598 - val_acc: 0.5020\n",
            "Epoch 44/120\n",
            "313/313 [==============================] - 3s 9ms/step - loss: 0.9454 - acc: 0.6126 - val_loss: 1.2911 - val_acc: 0.4950\n",
            "Epoch 45/120\n",
            "313/313 [==============================] - 3s 9ms/step - loss: 0.9342 - acc: 0.6181 - val_loss: 1.2848 - val_acc: 0.4920\n",
            "Epoch 46/120\n",
            "313/313 [==============================] - 3s 9ms/step - loss: 0.9166 - acc: 0.6267 - val_loss: 1.2639 - val_acc: 0.5150\n",
            "Epoch 47/120\n",
            "313/313 [==============================] - 3s 10ms/step - loss: 0.8987 - acc: 0.6323 - val_loss: 1.2585 - val_acc: 0.5180\n",
            "Epoch 48/120\n",
            "313/313 [==============================] - 3s 10ms/step - loss: 0.8820 - acc: 0.6481 - val_loss: 1.2005 - val_acc: 0.5480\n",
            "Epoch 49/120\n",
            "313/313 [==============================] - 3s 9ms/step - loss: 0.8306 - acc: 0.6789 - val_loss: 1.1183 - val_acc: 0.6080\n",
            "Epoch 50/120\n",
            "313/313 [==============================] - 3s 9ms/step - loss: 0.7546 - acc: 0.7191 - val_loss: 0.9644 - val_acc: 0.6590\n",
            "Epoch 51/120\n",
            "313/313 [==============================] - 3s 9ms/step - loss: 0.6478 - acc: 0.7680 - val_loss: 0.8642 - val_acc: 0.6960\n",
            "Epoch 52/120\n",
            "313/313 [==============================] - 3s 9ms/step - loss: 0.5953 - acc: 0.7882 - val_loss: 0.7975 - val_acc: 0.7250\n",
            "Epoch 53/120\n",
            "313/313 [==============================] - 3s 10ms/step - loss: 0.5391 - acc: 0.8089 - val_loss: 0.7459 - val_acc: 0.7310\n",
            "Epoch 54/120\n",
            "313/313 [==============================] - 3s 10ms/step - loss: 0.5151 - acc: 0.8147 - val_loss: 0.7087 - val_acc: 0.7480\n",
            "Epoch 55/120\n",
            "313/313 [==============================] - 3s 9ms/step - loss: 0.4799 - acc: 0.8273 - val_loss: 0.6861 - val_acc: 0.7570\n",
            "Epoch 56/120\n",
            "313/313 [==============================] - 3s 10ms/step - loss: 0.4362 - acc: 0.8423 - val_loss: 0.6764 - val_acc: 0.7580\n",
            "Epoch 57/120\n",
            "313/313 [==============================] - 3s 9ms/step - loss: 0.4055 - acc: 0.8540 - val_loss: 0.6075 - val_acc: 0.7880\n",
            "Epoch 58/120\n",
            "313/313 [==============================] - 3s 10ms/step - loss: 0.3672 - acc: 0.8681 - val_loss: 0.5702 - val_acc: 0.7950\n",
            "Epoch 59/120\n",
            "313/313 [==============================] - 3s 9ms/step - loss: 0.3476 - acc: 0.8743 - val_loss: 0.5195 - val_acc: 0.8060\n",
            "Epoch 60/120\n",
            "313/313 [==============================] - 3s 9ms/step - loss: 0.3306 - acc: 0.8822 - val_loss: 0.5008 - val_acc: 0.8180\n",
            "Epoch 61/120\n",
            "313/313 [==============================] - 3s 10ms/step - loss: 0.3030 - acc: 0.8882 - val_loss: 0.4881 - val_acc: 0.8210\n",
            "Epoch 62/120\n",
            "313/313 [==============================] - 3s 9ms/step - loss: 0.2943 - acc: 0.8948 - val_loss: 0.4893 - val_acc: 0.8200\n",
            "Epoch 63/120\n",
            "313/313 [==============================] - 3s 10ms/step - loss: 0.2711 - acc: 0.9023 - val_loss: 0.4696 - val_acc: 0.8310\n",
            "Epoch 64/120\n",
            "313/313 [==============================] - 3s 9ms/step - loss: 0.2590 - acc: 0.9074 - val_loss: 0.4844 - val_acc: 0.8270\n",
            "Epoch 65/120\n",
            "313/313 [==============================] - 3s 10ms/step - loss: 0.2523 - acc: 0.9122 - val_loss: 0.4768 - val_acc: 0.8360\n",
            "Epoch 66/120\n",
            "313/313 [==============================] - 3s 9ms/step - loss: 0.2380 - acc: 0.9167 - val_loss: 0.4523 - val_acc: 0.8420\n",
            "Epoch 67/120\n",
            "313/313 [==============================] - 3s 9ms/step - loss: 0.2282 - acc: 0.9203 - val_loss: 0.4842 - val_acc: 0.8310\n",
            "Epoch 68/120\n",
            "313/313 [==============================] - 3s 10ms/step - loss: 0.2187 - acc: 0.9202 - val_loss: 0.4729 - val_acc: 0.8320\n",
            "Epoch 69/120\n",
            "313/313 [==============================] - 3s 10ms/step - loss: 0.2094 - acc: 0.9247 - val_loss: 0.4587 - val_acc: 0.8450\n",
            "Epoch 70/120\n",
            "313/313 [==============================] - 3s 10ms/step - loss: 0.2014 - acc: 0.9281 - val_loss: 0.4453 - val_acc: 0.8560\n",
            "Epoch 71/120\n",
            "313/313 [==============================] - 3s 10ms/step - loss: 0.1968 - acc: 0.9297 - val_loss: 0.4455 - val_acc: 0.8560\n",
            "Epoch 72/120\n",
            "313/313 [==============================] - 3s 10ms/step - loss: 0.1782 - acc: 0.9345 - val_loss: 0.4398 - val_acc: 0.8550\n",
            "Epoch 73/120\n",
            "313/313 [==============================] - 3s 10ms/step - loss: 0.1735 - acc: 0.9378 - val_loss: 0.4628 - val_acc: 0.8540\n",
            "Epoch 74/120\n",
            "313/313 [==============================] - 3s 10ms/step - loss: 0.1653 - acc: 0.9423 - val_loss: 0.4432 - val_acc: 0.8570\n",
            "Epoch 75/120\n",
            "313/313 [==============================] - 3s 10ms/step - loss: 0.1595 - acc: 0.9426 - val_loss: 0.4374 - val_acc: 0.8590\n",
            "Epoch 76/120\n",
            "313/313 [==============================] - 3s 10ms/step - loss: 0.1544 - acc: 0.9452 - val_loss: 0.4240 - val_acc: 0.8610\n",
            "Epoch 77/120\n",
            "313/313 [==============================] - 3s 10ms/step - loss: 0.1514 - acc: 0.9462 - val_loss: 0.4426 - val_acc: 0.8630\n",
            "Epoch 78/120\n",
            "313/313 [==============================] - 3s 10ms/step - loss: 0.1356 - acc: 0.9524 - val_loss: 0.4601 - val_acc: 0.8640\n",
            "Epoch 79/120\n",
            "313/313 [==============================] - 3s 10ms/step - loss: 0.1364 - acc: 0.9504 - val_loss: 0.4300 - val_acc: 0.8650\n",
            "Epoch 80/120\n",
            "313/313 [==============================] - 3s 10ms/step - loss: 0.1339 - acc: 0.9534 - val_loss: 0.4160 - val_acc: 0.8800\n",
            "Epoch 81/120\n",
            "313/313 [==============================] - 3s 10ms/step - loss: 0.1264 - acc: 0.9555 - val_loss: 0.4788 - val_acc: 0.8650\n",
            "Epoch 82/120\n",
            "313/313 [==============================] - 3s 10ms/step - loss: 0.1164 - acc: 0.9595 - val_loss: 0.4635 - val_acc: 0.8620\n",
            "Epoch 83/120\n",
            "313/313 [==============================] - 3s 10ms/step - loss: 0.1194 - acc: 0.9589 - val_loss: 0.4393 - val_acc: 0.8820\n",
            "Epoch 84/120\n",
            "313/313 [==============================] - 3s 10ms/step - loss: 0.1023 - acc: 0.9654 - val_loss: 0.4558 - val_acc: 0.8750\n",
            "Epoch 85/120\n",
            "313/313 [==============================] - 3s 10ms/step - loss: 0.1129 - acc: 0.9615 - val_loss: 0.4342 - val_acc: 0.8820\n",
            "Epoch 86/120\n",
            "313/313 [==============================] - 3s 10ms/step - loss: 0.1029 - acc: 0.9653 - val_loss: 0.4146 - val_acc: 0.8840\n",
            "Epoch 87/120\n",
            "313/313 [==============================] - 3s 10ms/step - loss: 0.0970 - acc: 0.9671 - val_loss: 0.4296 - val_acc: 0.8870\n",
            "Epoch 88/120\n",
            "313/313 [==============================] - 3s 10ms/step - loss: 0.0982 - acc: 0.9670 - val_loss: 0.4720 - val_acc: 0.8810\n",
            "Epoch 89/120\n",
            "313/313 [==============================] - 3s 10ms/step - loss: 0.0862 - acc: 0.9709 - val_loss: 0.4282 - val_acc: 0.8880\n",
            "Epoch 90/120\n",
            "313/313 [==============================] - 3s 10ms/step - loss: 0.0855 - acc: 0.9706 - val_loss: 0.4450 - val_acc: 0.8880\n",
            "Epoch 91/120\n",
            "313/313 [==============================] - 3s 10ms/step - loss: 0.0950 - acc: 0.9683 - val_loss: 0.4410 - val_acc: 0.8780\n",
            "Epoch 92/120\n",
            "313/313 [==============================] - 3s 10ms/step - loss: 0.0879 - acc: 0.9688 - val_loss: 0.4145 - val_acc: 0.8930\n",
            "Epoch 93/120\n",
            "313/313 [==============================] - 3s 10ms/step - loss: 0.0865 - acc: 0.9716 - val_loss: 0.4516 - val_acc: 0.8850\n",
            "Epoch 94/120\n",
            "313/313 [==============================] - 3s 10ms/step - loss: 0.0792 - acc: 0.9748 - val_loss: 0.4393 - val_acc: 0.8800\n",
            "Epoch 95/120\n",
            "313/313 [==============================] - 3s 10ms/step - loss: 0.0753 - acc: 0.9749 - val_loss: 0.4709 - val_acc: 0.8910\n",
            "Epoch 96/120\n",
            "313/313 [==============================] - 3s 10ms/step - loss: 0.0765 - acc: 0.9750 - val_loss: 0.4645 - val_acc: 0.8870\n",
            "Epoch 97/120\n",
            "313/313 [==============================] - 3s 10ms/step - loss: 0.0679 - acc: 0.9785 - val_loss: 0.4555 - val_acc: 0.8870\n",
            "Epoch 98/120\n",
            "313/313 [==============================] - 3s 10ms/step - loss: 0.0674 - acc: 0.9767 - val_loss: 0.4529 - val_acc: 0.8950\n",
            "Epoch 99/120\n",
            "313/313 [==============================] - 3s 10ms/step - loss: 0.0663 - acc: 0.9773 - val_loss: 0.4423 - val_acc: 0.8960\n",
            "Epoch 100/120\n",
            "313/313 [==============================] - 3s 10ms/step - loss: 0.0636 - acc: 0.9780 - val_loss: 0.4493 - val_acc: 0.8920\n",
            "Epoch 101/120\n",
            "313/313 [==============================] - 3s 10ms/step - loss: 0.0660 - acc: 0.9770 - val_loss: 0.4228 - val_acc: 0.9000\n",
            "Epoch 102/120\n",
            "313/313 [==============================] - 3s 10ms/step - loss: 0.0649 - acc: 0.9793 - val_loss: 0.4401 - val_acc: 0.8960\n",
            "Epoch 103/120\n",
            "313/313 [==============================] - 3s 10ms/step - loss: 0.0566 - acc: 0.9801 - val_loss: 0.4814 - val_acc: 0.8980\n",
            "Epoch 104/120\n",
            "313/313 [==============================] - 3s 10ms/step - loss: 0.0544 - acc: 0.9828 - val_loss: 0.4836 - val_acc: 0.8960\n",
            "Epoch 105/120\n",
            "313/313 [==============================] - 3s 10ms/step - loss: 0.0556 - acc: 0.9819 - val_loss: 0.5037 - val_acc: 0.8950\n",
            "Epoch 106/120\n",
            "313/313 [==============================] - 3s 10ms/step - loss: 0.0553 - acc: 0.9816 - val_loss: 0.4691 - val_acc: 0.8950\n",
            "Epoch 107/120\n",
            "313/313 [==============================] - 3s 10ms/step - loss: 0.0516 - acc: 0.9830 - val_loss: 0.4764 - val_acc: 0.8950\n",
            "Epoch 108/120\n",
            "313/313 [==============================] - 3s 10ms/step - loss: 0.0500 - acc: 0.9834 - val_loss: 0.5337 - val_acc: 0.8800\n",
            "Epoch 109/120\n",
            "313/313 [==============================] - 3s 10ms/step - loss: 0.0528 - acc: 0.9834 - val_loss: 0.4939 - val_acc: 0.8960\n",
            "Epoch 110/120\n",
            "313/313 [==============================] - 3s 10ms/step - loss: 0.0483 - acc: 0.9845 - val_loss: 0.5018 - val_acc: 0.8910\n",
            "Epoch 111/120\n",
            "313/313 [==============================] - 3s 10ms/step - loss: 0.0495 - acc: 0.9855 - val_loss: 0.4642 - val_acc: 0.8980\n",
            "Epoch 112/120\n",
            "313/313 [==============================] - 3s 10ms/step - loss: 0.0410 - acc: 0.9871 - val_loss: 0.5153 - val_acc: 0.8990\n",
            "Epoch 113/120\n",
            "313/313 [==============================] - 3s 10ms/step - loss: 0.0465 - acc: 0.9870 - val_loss: 0.5266 - val_acc: 0.8990\n",
            "Epoch 114/120\n",
            "313/313 [==============================] - 3s 10ms/step - loss: 0.0464 - acc: 0.9854 - val_loss: 0.4907 - val_acc: 0.9020\n",
            "Epoch 115/120\n",
            "313/313 [==============================] - 3s 10ms/step - loss: 0.0417 - acc: 0.9864 - val_loss: 0.5617 - val_acc: 0.8920\n",
            "Epoch 116/120\n",
            "313/313 [==============================] - 3s 10ms/step - loss: 0.0362 - acc: 0.9881 - val_loss: 0.4869 - val_acc: 0.9030\n",
            "Epoch 117/120\n",
            "313/313 [==============================] - 3s 10ms/step - loss: 0.0348 - acc: 0.9891 - val_loss: 0.4923 - val_acc: 0.9060\n",
            "Epoch 118/120\n",
            "313/313 [==============================] - 3s 10ms/step - loss: 0.0401 - acc: 0.9893 - val_loss: 0.5041 - val_acc: 0.9020\n",
            "Epoch 119/120\n",
            "313/313 [==============================] - 3s 10ms/step - loss: 0.0365 - acc: 0.9871 - val_loss: 0.4627 - val_acc: 0.9050\n",
            "Epoch 120/120\n",
            "313/313 [==============================] - 3s 10ms/step - loss: 0.0397 - acc: 0.9883 - val_loss: 0.5235 - val_acc: 0.9060\n"
          ]
        }
      ]
    },
    {
      "cell_type": "code",
      "metadata": {
        "colab": {
          "base_uri": "https://localhost:8080/",
          "height": 296
        },
        "id": "Iq7PYePXccGu",
        "outputId": "01a53dc9-46d7-4ac5-c40e-de5ec1e31b1a"
      },
      "source": [
        "# plot accuracy and loss plot\n",
        "plt.subplot(211)\n",
        "plt.title(\"Accuracy\")\n",
        "plt.plot(history.history[\"acc\"], color=\"g\", label=\"train\")\n",
        "plt.plot(history.history[\"val_acc\"], color=\"b\", label=\"validation\")\n",
        "plt.legend(loc=\"best\")\n",
        "\n",
        "plt.subplot(212)\n",
        "plt.title(\"Loss\")\n",
        "plt.plot(history.history[\"loss\"], color=\"g\", label=\"train\")\n",
        "plt.plot(history.history[\"val_loss\"], color=\"b\", label=\"validation\")\n",
        "plt.legend(loc=\"best\")\n",
        "\n",
        "plt.tight_layout()\n",
        "plt.show()\n",
        "\n",
        "# labels\n",
        "ytest = np.argmax(Ytest, axis=1)\n",
        "\n",
        "# get predictions\n",
        "Ytest_ = model.predict([Xstest, Xqtest])\n",
        "ytest_ = np.argmax(Ytest_, axis=1)"
      ],
      "execution_count": null,
      "outputs": [
        {
          "data": {
            "image/png": "[encoded data removed]",
            "text/plain": [
              "<Figure size 432x288 with 2 Axes>"
            ]
          },
          "metadata": {
            "tags": []
          },
          "output_type": "display_data"
        }
      ]
    },
    {
      "cell_type": "code",
      "metadata": {
        "colab": {
          "base_uri": "https://localhost:8080/",
          "height": 585
        },
        "id": "Fq0_LEp9eIA2",
        "outputId": "9451512d-05c8-40aa-eaac-48e305950309"
      },
      "source": [
        "NUM_DISPLAY = 30\n",
        "\n",
        "print(\"{:18}|{:5}|{}\".format(\"질문\", \"실제값\", \"예측값\"))\n",
        "print(39 * \"-\")\n",
        "\n",
        "for i in range(NUM_DISPLAY):\n",
        "    question = \" \".join([idx2word[x] for x in Xqtest[i].tolist()])\n",
        "    label = idx2word[ytest[i]]\n",
        "    prediction = idx2word[ytest_[i]]\n",
        "    print(\"{:20}: {:7} {}\".format(question, label, prediction))"
      ],
      "execution_count": null,
      "outputs": [
        {
          "name": "stdout",
          "output_type": "stream",
          "text": [
            "질문                |실제값  |예측값\n",
            "---------------------------------------\n",
            "은경이 는 어디 야 ?        : 복도      복도\n",
            "필웅이 는 어디 야 ?        : 화장실     화장실\n",
            "경임이 는 어디 야 ?        : 부엌      부엌\n",
            "경임이 는 어디 야 ?        : 복도      복도\n",
            "경임이 는 어디 야 ?        : 부엌      부엌\n",
            "경임이 는 어디 야 ?        : 복도      복도\n",
            "경임이 는 어디 야 ?        : 정원      정원\n",
            "수종이 는 어디 야 ?        : 복도      복도\n",
            "경임이 는 어디 야 ?        : 사무실     복도\n",
            "수종이 는 어디 야 ?        : 사무실     복도\n",
            "필웅이 는 어디 야 ?        : 부엌      부엌\n",
            "필웅이 는 어디 야 ?        : 정원      정원\n",
            "수종이 는 어디 야 ?        : 사무실     사무실\n",
            "필웅이 는 어디 야 ?        : 침실      침실\n",
            "필웅이 는 어디 야 ?        : 침실      침실\n",
            "은경이 는 어디 야 ?        : 부엌      부엌\n",
            "은경이 는 어디 야 ?        : 정원      정원\n",
            "은경이 는 어디 야 ?        : 부엌      부엌\n",
            "수종이 는 어디 야 ?        : 사무실     부엌\n",
            "은경이 는 어디 야 ?        : 부엌      정원\n",
            "필웅이 는 어디 야 ?        : 복도      복도\n",
            "은경이 는 어디 야 ?        : 사무실     사무실\n",
            "은경이 는 어디 야 ?        : 사무실     사무실\n",
            "경임이 는 어디 야 ?        : 복도      사무실\n",
            "수종이 는 어디 야 ?        : 침실      침실\n",
            "경임이 는 어디 야 ?        : 침실      침실\n",
            "필웅이 는 어디 야 ?        : 침실      침실\n",
            "수종이 는 어디 야 ?        : 부엌      부엌\n",
            "수종이 는 어디 야 ?        : 부엌      부엌\n",
            "수종이 는 어디 야 ?        : 부엌      복도\n"
          ]
        }
      ]
    }
  ]
}