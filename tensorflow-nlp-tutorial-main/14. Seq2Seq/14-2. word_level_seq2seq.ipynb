{
  "nbformat": 4,
  "nbformat_minor": 0,
  "metadata": {
    "colab": {
      "name": "Word-level 번역기(Neural Machine Translation).ipynb",
      "provenance": [],
      "collapsed_sections": [],
      "machine_shape": "hm"
    },
    "kernelspec": {
      "name": "python3",
      "display_name": "Python 3"
    },
    "accelerator": "GPU"
  },
  "cells": [
    {
      "cell_type": "markdown",
      "metadata": {
        "id": "fDYxor6YZvMU"
      },
      "source": [
        "2021년 12월 26일에 마지막으로 테스트 되었습니다."
      ]
    },
    {
      "cell_type": "markdown",
      "metadata": {
        "id": "LduI7woEajSi"
      },
      "source": [
        "이 자료는 위키독스 '딥 러닝을 이용한 자연어 처리 입문'의 단어 레벨 번역기의 튜토리얼 자료로서 만들어졌습니다."
      ]
    },
    {
      "cell_type": "markdown",
      "metadata": {
        "id": "5h-69nkkagSz"
      },
      "source": [
        "원문 자료 : https://wikidocs.net/86900"
      ]
    },
    {
      "cell_type": "code",
      "metadata": {
        "id": "rlz9NZ8DJYzt"
      },
      "source": [
        "import re\n",
        "import os\n",
        "import unicodedata\n",
        "import urllib3\n",
        "import zipfile\n",
        "import shutil\n",
        "import numpy as np\n",
        "import pandas as pd\n",
        "import tensorflow as tf\n",
        "from tensorflow.keras.layers import Embedding, GRU, Dense\n",
        "from tensorflow.keras.preprocessing.text import Tokenizer\n",
        "from tensorflow.keras.preprocessing.sequence import pad_sequences"
      ],
      "execution_count": null,
      "outputs": []
    },
    {
      "cell_type": "code",
      "metadata": {
        "id": "075ZXDGfJzLk",
        "colab": {
          "base_uri": "https://localhost:8080/",
          "height": 35
        },
        "outputId": "2e195d98-d82a-41ba-fb5d-a941a611cce5"
      },
      "source": [
        "tf.__version__"
      ],
      "execution_count": null,
      "outputs": [
        {
          "output_type": "execute_result",
          "data": {
            "application/vnd.google.colaboratory.intrinsic+json": {
              "type": "string"
            },
            "text/plain": [
              "'2.7.0'"
            ]
          },
          "metadata": {},
          "execution_count": 2
        }
      ]
    },
    {
      "cell_type": "code",
      "metadata": {
        "id": "i14IPvoBJNLm"
      },
      "source": [
        "num_samples = 33000"
      ],
      "execution_count": null,
      "outputs": []
    },
    {
      "cell_type": "code",
      "metadata": {
        "id": "7sCVBRpxJsSs"
      },
      "source": [
        "http = urllib3.PoolManager()\n",
        "url ='http://www.manythings.org/anki/fra-eng.zip'\n",
        "filename = 'fra-eng.zip'\n",
        "path = os.getcwd()\n",
        "zipfilename = os.path.join(path, filename)\n",
        "with http.request('GET', url, preload_content=False) as r, open(zipfilename, 'wb') as out_file:       \n",
        "    shutil.copyfileobj(r, out_file)\n",
        "\n",
        "with zipfile.ZipFile(zipfilename, 'r') as zip_ref:\n",
        "    zip_ref.extractall(path)"
      ],
      "execution_count": null,
      "outputs": []
    },
    {
      "cell_type": "code",
      "metadata": {
        "id": "6b99xrUsJVnD"
      },
      "source": [
        "def unicode_to_ascii(s):\n",
        "  # 프랑스어 악센트(accent) 삭제\n",
        "  # 예시 : 'déjà diné' -> deja dine\n",
        "  return ''.join(c for c in unicodedata.normalize('NFD', s) if unicodedata.category(c) != 'Mn')"
      ],
      "execution_count": null,
      "outputs": []
    },
    {
      "cell_type": "code",
      "metadata": {
        "id": "8R1ZUFQPJaHL"
      },
      "source": [
        "def preprocess_sentence(sent):\n",
        "  # 악센트 삭제 함수 호출\n",
        "  sent = unicode_to_ascii(sent.lower())\n",
        "\n",
        "  # 단어와 구두점 사이에 공백을 만듭니다.\n",
        "  # Ex) \"he is a boy.\" => \"he is a boy .\"\n",
        "  sent = re.sub(r\"([?.!,¿])\", r\" \\1\", sent)\n",
        "\n",
        "  # (a-z, A-Z, \".\", \"?\", \"!\", \",\") 이들을 제외하고는 전부 공백으로 변환합니다.\n",
        "  sent = re.sub(r\"[^a-zA-Z!.?]+\", r\" \", sent)\n",
        "\n",
        "  # 다수 개의 공백을 하나의 공백으로 치환\n",
        "  sent = re.sub(r\"\\s+\", \" \", sent)\n",
        "  return sent"
      ],
      "execution_count": null,
      "outputs": []
    },
    {
      "cell_type": "code",
      "metadata": {
        "id": "uR-_LHGZJbQr"
      },
      "source": [
        "def load_preprocessed_data():\n",
        "  encoder_input, decoder_input, decoder_target = [], [], []\n",
        "\n",
        "  with open(\"fra.txt\", \"r\") as lines:\n",
        "    for i, line in enumerate(lines):\n",
        "      # source 데이터와 target 데이터 분리\n",
        "      src_line, tar_line, _ = line.strip().split('\\t')\n",
        "\n",
        "      # source 데이터 전처리\n",
        "      src_line = [w for w in preprocess_sentence(src_line).split()]\n",
        "\n",
        "      # target 데이터 전처리\n",
        "      tar_line = preprocess_sentence(tar_line)\n",
        "      tar_line_in = [w for w in (\"<sos> \" + tar_line).split()]\n",
        "      tar_line_out = [w for w in (tar_line + \" <eos>\").split()]\n",
        "\n",
        "      encoder_input.append(src_line)\n",
        "      decoder_input.append(tar_line_in)\n",
        "      decoder_target.append(tar_line_out)\n",
        "\n",
        "      if i == num_samples - 1:\n",
        "        break\n",
        "                \n",
        "  return encoder_input, decoder_input, decoder_target"
      ],
      "execution_count": null,
      "outputs": []
    },
    {
      "cell_type": "code",
      "metadata": {
        "id": "H9g2Vp16Jcrb",
        "colab": {
          "base_uri": "https://localhost:8080/"
        },
        "outputId": "aad57f15-deaa-4ee5-95fa-4043e6358bf8"
      },
      "source": [
        "# 전처리 테스트\n",
        "en_sent = u\"Have you had dinner?\"\n",
        "fr_sent = u\"Avez-vous déjà diné?\"\n",
        "\n",
        "print('전처리 전 영어 문장 :', en_sent)\n",
        "print('전처리 후 영어 문장 :',preprocess_sentence(en_sent))\n",
        "print('전처리 전 프랑스어 문장 :', fr_sent)\n",
        "print('전처리 후 프랑스어 문장 :', preprocess_sentence(fr_sent))"
      ],
      "execution_count": null,
      "outputs": [
        {
          "output_type": "stream",
          "name": "stdout",
          "text": [
            "전처리 전 영어 문장 : Have you had dinner?\n",
            "전처리 후 영어 문장 : have you had dinner ?\n",
            "전처리 전 프랑스어 문장 : Avez-vous déjà diné?\n",
            "전처리 후 프랑스어 문장 : avez vous deja dine ?\n"
          ]
        }
      ]
    },
    {
      "cell_type": "code",
      "metadata": {
        "id": "BcP4_sXeJdh7"
      },
      "source": [
        "sents_en_in, sents_fra_in, sents_fra_out = load_preprocessed_data()"
      ],
      "execution_count": null,
      "outputs": []
    },
    {
      "cell_type": "code",
      "metadata": {
        "id": "1iC8Bb77JgJz",
        "colab": {
          "base_uri": "https://localhost:8080/"
        },
        "outputId": "97e06bc8-57c2-4ef6-9e4b-f46a22593997"
      },
      "source": [
        "print('인코더의 입력 :',sents_en_in[:5])\n",
        "print('디코더의 입력 :',sents_fra_in[:5])\n",
        "print('디코더의 레이블 :',sents_fra_out[:5])"
      ],
      "execution_count": null,
      "outputs": [
        {
          "output_type": "stream",
          "name": "stdout",
          "text": [
            "인코더의 입력 : [['go', '.'], ['go', '.'], ['go', '.'], ['hi', '.'], ['hi', '.']]\n",
            "디코더의 입력 : [['<sos>', 'va', '!'], ['<sos>', 'marche', '.'], ['<sos>', 'bouge', '!'], ['<sos>', 'salut', '!'], ['<sos>', 'salut', '.']]\n",
            "디코더의 레이블 : [['va', '!', '<eos>'], ['marche', '.', '<eos>'], ['bouge', '!', '<eos>'], ['salut', '!', '<eos>'], ['salut', '.', '<eos>']]\n"
          ]
        }
      ]
    },
    {
      "cell_type": "code",
      "metadata": {
        "id": "mBNqle5oJg9r"
      },
      "source": [
        "tokenizer_en = Tokenizer(filters=\"\", lower=False)\n",
        "tokenizer_en.fit_on_texts(sents_en_in)\n",
        "encoder_input = tokenizer_en.texts_to_sequences(sents_en_in)\n",
        "encoder_input = pad_sequences(encoder_input, padding=\"post\")\n",
        "\n",
        "tokenizer_fra = Tokenizer(filters=\"\", lower=False)\n",
        "tokenizer_fra.fit_on_texts(sents_fra_in)\n",
        "tokenizer_fra.fit_on_texts(sents_fra_out)\n",
        "\n",
        "decoder_input = tokenizer_fra.texts_to_sequences(sents_fra_in)\n",
        "decoder_input = pad_sequences(decoder_input, padding=\"post\")\n",
        "\n",
        "decoder_target = tokenizer_fra.texts_to_sequences(sents_fra_out)\n",
        "decoder_target = pad_sequences(decoder_target, padding=\"post\")"
      ],
      "execution_count": null,
      "outputs": []
    },
    {
      "cell_type": "code",
      "metadata": {
        "id": "8xo3ITQZJh0T",
        "colab": {
          "base_uri": "https://localhost:8080/"
        },
        "outputId": "49524acf-7a1a-4719-93c9-2172519c765f"
      },
      "source": [
        "print('인코더의 입력의 크기(shape) :',encoder_input.shape)\n",
        "print('디코더의 입력의 크기(shape) :',decoder_input.shape)\n",
        "print('디코더의 레이블의 크기(shape) :',decoder_target.shape)"
      ],
      "execution_count": null,
      "outputs": [
        {
          "output_type": "stream",
          "name": "stdout",
          "text": [
            "인코더의 입력의 크기(shape) : (33000, 8)\n",
            "디코더의 입력의 크기(shape) : (33000, 16)\n",
            "디코더의 레이블의 크기(shape) : (33000, 16)\n"
          ]
        }
      ]
    },
    {
      "cell_type": "code",
      "metadata": {
        "id": "lxm9W_PoJjf7"
      },
      "source": [
        "src_to_index = tokenizer_en.word_index\n",
        "index_to_src = tokenizer_en.index_word\n",
        "tar_to_index = tokenizer_fra.word_index\n",
        "index_to_tar = tokenizer_fra.index_word"
      ],
      "execution_count": null,
      "outputs": []
    },
    {
      "cell_type": "code",
      "metadata": {
        "id": "AATBjTo8JkMy",
        "colab": {
          "base_uri": "https://localhost:8080/"
        },
        "outputId": "55028023-671c-4f89-bc49-27482884eb05"
      },
      "source": [
        "max_src_len = encoder_input.shape[1]\n",
        "max_tar_len = decoder_input.shape[1]\n",
        "print('source 문장의 최대 길이 :',max_src_len)\n",
        "print('target 문장의 최대 길이 :',max_tar_len)"
      ],
      "execution_count": null,
      "outputs": [
        {
          "output_type": "stream",
          "name": "stdout",
          "text": [
            "source 문장의 최대 길이 : 8\n",
            "target 문장의 최대 길이 : 16\n"
          ]
        }
      ]
    },
    {
      "cell_type": "code",
      "metadata": {
        "id": "v_NTWBaUJk4i",
        "colab": {
          "base_uri": "https://localhost:8080/"
        },
        "outputId": "ec721feb-0220-4dad-87e3-c12eb4ff23a2"
      },
      "source": [
        "src_vocab_size = len(tokenizer_en.word_index) + 1\n",
        "tar_vocab_size = len(tokenizer_fra.word_index) + 1\n",
        "print(\"영어 단어 집합의 크기 : {:d}, 프랑스어 단어 집합의 크기 : {:d}\".format(src_vocab_size, tar_vocab_size))"
      ],
      "execution_count": null,
      "outputs": [
        {
          "output_type": "stream",
          "name": "stdout",
          "text": [
            "영어 단어 집합의 크기 : 4635, 프랑스어 단어 집합의 크기 : 8117\n"
          ]
        }
      ]
    },
    {
      "cell_type": "code",
      "metadata": {
        "id": "xt0pr-cdJmkD",
        "colab": {
          "base_uri": "https://localhost:8080/"
        },
        "outputId": "5f693bb6-ab60-42df-cedf-0b18299fe715"
      },
      "source": [
        "indices = np.arange(encoder_input.shape[0])\n",
        "np.random.shuffle(indices)\n",
        "print('랜덤 시퀀스 :',indices)"
      ],
      "execution_count": null,
      "outputs": [
        {
          "output_type": "stream",
          "name": "stdout",
          "text": [
            "랜덤 시퀀스 : [19526  7722 12641 ... 23238 12775 10367]\n"
          ]
        }
      ]
    },
    {
      "cell_type": "code",
      "metadata": {
        "id": "QkzmSVY9J29z"
      },
      "source": [
        "encoder_input = encoder_input[indices]\n",
        "decoder_input = decoder_input[indices]\n",
        "decoder_target = decoder_target[indices]"
      ],
      "execution_count": null,
      "outputs": []
    },
    {
      "cell_type": "code",
      "metadata": {
        "id": "W34Y6qmJJ4Bj",
        "colab": {
          "base_uri": "https://localhost:8080/"
        },
        "outputId": "9d27757c-49e0-4d4c-9ed3-84b40c157b53"
      },
      "source": [
        "encoder_input[30997]"
      ],
      "execution_count": null,
      "outputs": [
        {
          "output_type": "execute_result",
          "data": {
            "text/plain": [
              "array([  64, 2726,    1,    0,    0,    0,    0,    0], dtype=int32)"
            ]
          },
          "metadata": {},
          "execution_count": 20
        }
      ]
    },
    {
      "cell_type": "code",
      "metadata": {
        "id": "-_SoeJOIJ45D",
        "colab": {
          "base_uri": "https://localhost:8080/"
        },
        "outputId": "1f93e489-0f29-470e-ac16-80e270c901e6"
      },
      "source": [
        "decoder_input[30997]"
      ],
      "execution_count": null,
      "outputs": [
        {
          "output_type": "execute_result",
          "data": {
            "text/plain": [
              "array([   2,  171,   37, 3987,    1,    0,    0,    0,    0,    0,    0,\n",
              "          0,    0,    0,    0,    0], dtype=int32)"
            ]
          },
          "metadata": {},
          "execution_count": 18
        }
      ]
    },
    {
      "cell_type": "code",
      "metadata": {
        "id": "lscvHdOXJ5yD",
        "colab": {
          "base_uri": "https://localhost:8080/"
        },
        "outputId": "e8cf0b1b-3efb-4c9c-c903-3370cd573cee"
      },
      "source": [
        "decoder_target[30997]"
      ],
      "execution_count": null,
      "outputs": [
        {
          "output_type": "execute_result",
          "data": {
            "text/plain": [
              "array([ 171,   37, 3987,    1,    3,    0,    0,    0,    0,    0,    0,\n",
              "          0,    0,    0,    0,    0], dtype=int32)"
            ]
          },
          "metadata": {},
          "execution_count": 19
        }
      ]
    },
    {
      "cell_type": "code",
      "metadata": {
        "id": "_RZNFshbJ6g7",
        "colab": {
          "base_uri": "https://localhost:8080/"
        },
        "outputId": "419d429f-8f53-4df2-d586-fc31eeaf6db2"
      },
      "source": [
        "n_of_val = int(33000*0.1)\n",
        "print('검증 데이터의 개수 :',n_of_val)"
      ],
      "execution_count": null,
      "outputs": [
        {
          "output_type": "stream",
          "name": "stdout",
          "text": [
            "검증 데이터의 개수 : 3300\n"
          ]
        }
      ]
    },
    {
      "cell_type": "code",
      "metadata": {
        "id": "14voLCWTJ7PU"
      },
      "source": [
        "encoder_input_train = encoder_input[:-n_of_val]\n",
        "decoder_input_train = decoder_input[:-n_of_val]\n",
        "decoder_target_train = decoder_target[:-n_of_val]\n",
        "\n",
        "encoder_input_test = encoder_input[-n_of_val:]\n",
        "decoder_input_test = decoder_input[-n_of_val:]\n",
        "decoder_target_test = decoder_target[-n_of_val:]"
      ],
      "execution_count": null,
      "outputs": []
    },
    {
      "cell_type": "code",
      "metadata": {
        "id": "e_39d-h9J8Eb",
        "colab": {
          "base_uri": "https://localhost:8080/"
        },
        "outputId": "7f93c2eb-8680-4d03-b058-1f5023ed4ed7"
      },
      "source": [
        "print('훈련 source 데이터의 크기 :',encoder_input_train.shape)\n",
        "print('훈련 target 데이터의 크기 :',decoder_input_train.shape)\n",
        "print('훈련 target 레이블의 크기 :',decoder_target_train.shape)\n",
        "print('테스트 source 데이터의 크기 :',encoder_input_test.shape)\n",
        "print('테스트 target 데이터의 크기 :',decoder_input_test.shape)\n",
        "print('테스트 target 레이블의 크기 :',decoder_target_test.shape)"
      ],
      "execution_count": null,
      "outputs": [
        {
          "output_type": "stream",
          "name": "stdout",
          "text": [
            "훈련 source 데이터의 크기 : (29700, 8)\n",
            "훈련 target 데이터의 크기 : (29700, 16)\n",
            "훈련 target 레이블의 크기 : (29700, 16)\n",
            "테스트 source 데이터의 크기 : (3300, 8)\n",
            "테스트 target 데이터의 크기 : (3300, 16)\n",
            "테스트 target 레이블의 크기 : (3300, 16)\n"
          ]
        }
      ]
    },
    {
      "cell_type": "code",
      "metadata": {
        "id": "moB2bzsLJ9oC"
      },
      "source": [
        "from tensorflow.keras.layers import Input, LSTM, Embedding, Dense, Masking\n",
        "from tensorflow.keras.models import Model"
      ],
      "execution_count": null,
      "outputs": []
    },
    {
      "cell_type": "code",
      "metadata": {
        "id": "RmmwQfMRJ82S"
      },
      "source": [
        "embedding_dim = 64\n",
        "hidden_units = 64"
      ],
      "execution_count": null,
      "outputs": []
    },
    {
      "cell_type": "code",
      "metadata": {
        "id": "kmhABadkJ-Tc"
      },
      "source": [
        "# 인코더\n",
        "encoder_inputs = Input(shape=(None,))\n",
        "enc_emb = Embedding(src_vocab_size, embedding_dim)(encoder_inputs) # 임베딩 층\n",
        "enc_masking = Masking(mask_value=0.0)(enc_emb) # 패딩 0은 연산에서 제외\n",
        "encoder_lstm = LSTM(hidden_units, return_state=True) # 상태값 리턴을 위해 return_state는 True\n",
        "encoder_outputs, state_h, state_c = encoder_lstm(enc_masking) # 은닉 상태와 셀 상태를 리턴\n",
        "encoder_states = [state_h, state_c] # 인코더의 은닉 상태와 셀 상태를 저장"
      ],
      "execution_count": null,
      "outputs": []
    },
    {
      "cell_type": "code",
      "metadata": {
        "id": "OaEi3nv4J_FS"
      },
      "source": [
        "# 디코더\n",
        "decoder_inputs = Input(shape=(None,))\n",
        "dec_emb_layer = Embedding(tar_vocab_size, hidden_units) # 임베딩 층\n",
        "dec_emb = dec_emb_layer(decoder_inputs) # 패딩 0은 연산에서 제외\n",
        "dec_masking = Masking(mask_value=0.0)(dec_emb)\n",
        "\n",
        "# 상태값 리턴을 위해 return_state는 True, 모든 시점에 대해서 단어를 예측하기 위해 return_sequences는 True\n",
        "decoder_lstm = LSTM(hidden_units, return_sequences=True, return_state=True) \n",
        "\n",
        "# 인코더의 은닉 상태를 초기 은닉 상태(initial_state)로 사용\n",
        "decoder_outputs, _, _ = decoder_lstm(dec_masking,\n",
        "                                     initial_state=encoder_states)\n",
        "\n",
        "# 모든 시점의 결과에 대해서 소프트맥스 함수를 사용한 출력층을 통해 단어 예측\n",
        "decoder_dense = Dense(tar_vocab_size, activation='softmax')\n",
        "decoder_outputs = decoder_dense(decoder_outputs)"
      ],
      "execution_count": null,
      "outputs": []
    },
    {
      "cell_type": "code",
      "metadata": {
        "id": "UzdqwXyLZ_xi"
      },
      "source": [
        "model = Model([encoder_inputs, decoder_inputs], decoder_outputs)"
      ],
      "execution_count": null,
      "outputs": []
    },
    {
      "cell_type": "code",
      "metadata": {
        "id": "5N5zH1kZJ_6b"
      },
      "source": [
        "model.compile(optimizer='adam', loss='sparse_categorical_crossentropy', metrics=['acc'])"
      ],
      "execution_count": null,
      "outputs": []
    },
    {
      "cell_type": "code",
      "metadata": {
        "id": "dtLKFJqXKAr7",
        "colab": {
          "base_uri": "https://localhost:8080/"
        },
        "outputId": "c4c87705-860f-45e7-9d03-1dd6e96f8598"
      },
      "source": [
        "model.summary()"
      ],
      "execution_count": null,
      "outputs": [
        {
          "output_type": "stream",
          "name": "stdout",
          "text": [
            "Model: \"model\"\n",
            "__________________________________________________________________________________________________\n",
            " Layer (type)                   Output Shape         Param #     Connected to                     \n",
            "==================================================================================================\n",
            " input_1 (InputLayer)           [(None, None)]       0           []                               \n",
            "                                                                                                  \n",
            " input_2 (InputLayer)           [(None, None)]       0           []                               \n",
            "                                                                                                  \n",
            " embedding (Embedding)          (None, None, 64)     296640      ['input_1[0][0]']                \n",
            "                                                                                                  \n",
            " embedding_1 (Embedding)        (None, None, 64)     519488      ['input_2[0][0]']                \n",
            "                                                                                                  \n",
            " masking (Masking)              (None, None, 64)     0           ['embedding[0][0]']              \n",
            "                                                                                                  \n",
            " masking_1 (Masking)            (None, None, 64)     0           ['embedding_1[0][0]']            \n",
            "                                                                                                  \n",
            " lstm (LSTM)                    [(None, 64),         33024       ['masking[0][0]']                \n",
            "                                 (None, 64),                                                      \n",
            "                                 (None, 64)]                                                      \n",
            "                                                                                                  \n",
            " lstm_1 (LSTM)                  [(None, None, 64),   33024       ['masking_1[0][0]',              \n",
            "                                 (None, 64),                      'lstm[0][1]',                   \n",
            "                                 (None, 64)]                      'lstm[0][2]']                   \n",
            "                                                                                                  \n",
            " dense (Dense)                  (None, None, 8117)   527605      ['lstm_1[0][0]']                 \n",
            "                                                                                                  \n",
            "==================================================================================================\n",
            "Total params: 1,409,781\n",
            "Trainable params: 1,409,781\n",
            "Non-trainable params: 0\n",
            "__________________________________________________________________________________________________\n"
          ]
        }
      ]
    },
    {
      "cell_type": "code",
      "metadata": {
        "id": "u0TyuHwEKBnj",
        "colab": {
          "base_uri": "https://localhost:8080/"
        },
        "outputId": "1eac5186-0a71-4291-9c4b-1c61c9293d74"
      },
      "source": [
        "model.fit(x=[encoder_input_train, decoder_input_train], y=decoder_target_train, \\\n",
        "          validation_data=([encoder_input_test, decoder_input_test], decoder_target_test),\n",
        "          batch_size=128, epochs=50)"
      ],
      "execution_count": null,
      "outputs": [
        {
          "output_type": "stream",
          "name": "stdout",
          "text": [
            "Epoch 1/50\n",
            "233/233 [==============================] - 19s 42ms/step - loss: 3.3728 - acc: 0.6109 - val_loss: 2.0111 - val_acc: 0.6194\n",
            "Epoch 2/50\n",
            "233/233 [==============================] - 8s 33ms/step - loss: 1.8616 - acc: 0.6743 - val_loss: 1.7344 - val_acc: 0.7439\n",
            "Epoch 3/50\n",
            "233/233 [==============================] - 8s 33ms/step - loss: 1.6649 - acc: 0.7447 - val_loss: 1.5934 - val_acc: 0.7490\n",
            "Epoch 4/50\n",
            "233/233 [==============================] - 8s 33ms/step - loss: 1.5307 - acc: 0.7578 - val_loss: 1.4754 - val_acc: 0.7660\n",
            "Epoch 5/50\n",
            "233/233 [==============================] - 8s 33ms/step - loss: 1.4275 - acc: 0.7685 - val_loss: 1.3979 - val_acc: 0.7740\n",
            "Epoch 6/50\n",
            "233/233 [==============================] - 8s 33ms/step - loss: 1.3502 - acc: 0.7781 - val_loss: 1.3324 - val_acc: 0.7880\n",
            "Epoch 7/50\n",
            "233/233 [==============================] - 8s 33ms/step - loss: 1.2806 - acc: 0.7915 - val_loss: 1.2802 - val_acc: 0.7973\n",
            "Epoch 8/50\n",
            "233/233 [==============================] - 8s 33ms/step - loss: 1.2240 - acc: 0.7995 - val_loss: 1.2322 - val_acc: 0.8043\n",
            "Epoch 9/50\n",
            "233/233 [==============================] - 8s 33ms/step - loss: 1.1705 - acc: 0.8077 - val_loss: 1.1907 - val_acc: 0.8116\n",
            "Epoch 10/50\n",
            "233/233 [==============================] - 8s 33ms/step - loss: 1.1191 - acc: 0.8153 - val_loss: 1.1465 - val_acc: 0.8174\n",
            "Epoch 11/50\n",
            "233/233 [==============================] - 8s 33ms/step - loss: 1.0714 - acc: 0.8219 - val_loss: 1.1121 - val_acc: 0.8222\n",
            "Epoch 12/50\n",
            "233/233 [==============================] - 8s 33ms/step - loss: 1.0294 - acc: 0.8271 - val_loss: 1.0800 - val_acc: 0.8274\n",
            "Epoch 13/50\n",
            "233/233 [==============================] - 8s 33ms/step - loss: 0.9891 - acc: 0.8321 - val_loss: 1.0552 - val_acc: 0.8303\n",
            "Epoch 14/50\n",
            "233/233 [==============================] - 8s 33ms/step - loss: 0.9529 - acc: 0.8360 - val_loss: 1.0295 - val_acc: 0.8327\n",
            "Epoch 15/50\n",
            "233/233 [==============================] - 8s 33ms/step - loss: 0.9182 - acc: 0.8394 - val_loss: 1.0070 - val_acc: 0.8356\n",
            "Epoch 16/50\n",
            "233/233 [==============================] - 8s 33ms/step - loss: 0.8863 - acc: 0.8429 - val_loss: 0.9851 - val_acc: 0.8382\n",
            "Epoch 17/50\n",
            "233/233 [==============================] - 8s 33ms/step - loss: 0.8556 - acc: 0.8462 - val_loss: 0.9669 - val_acc: 0.8394\n",
            "Epoch 18/50\n",
            "233/233 [==============================] - 8s 33ms/step - loss: 0.8270 - acc: 0.8491 - val_loss: 0.9487 - val_acc: 0.8413\n",
            "Epoch 19/50\n",
            "233/233 [==============================] - 8s 33ms/step - loss: 0.8003 - acc: 0.8523 - val_loss: 0.9363 - val_acc: 0.8419\n",
            "Epoch 20/50\n",
            "233/233 [==============================] - 8s 33ms/step - loss: 0.7760 - acc: 0.8548 - val_loss: 0.9182 - val_acc: 0.8450\n",
            "Epoch 21/50\n",
            "233/233 [==============================] - 8s 33ms/step - loss: 0.7511 - acc: 0.8574 - val_loss: 0.9048 - val_acc: 0.8465\n",
            "Epoch 22/50\n",
            "233/233 [==============================] - 8s 33ms/step - loss: 0.7286 - acc: 0.8600 - val_loss: 0.8932 - val_acc: 0.8467\n",
            "Epoch 23/50\n",
            "233/233 [==============================] - 8s 33ms/step - loss: 0.7069 - acc: 0.8624 - val_loss: 0.8825 - val_acc: 0.8487\n",
            "Epoch 24/50\n",
            "233/233 [==============================] - 8s 33ms/step - loss: 0.6866 - acc: 0.8649 - val_loss: 0.8735 - val_acc: 0.8493\n",
            "Epoch 25/50\n",
            "233/233 [==============================] - 8s 33ms/step - loss: 0.6664 - acc: 0.8672 - val_loss: 0.8603 - val_acc: 0.8510\n",
            "Epoch 26/50\n",
            "233/233 [==============================] - 8s 33ms/step - loss: 0.6474 - acc: 0.8693 - val_loss: 0.8542 - val_acc: 0.8516\n",
            "Epoch 27/50\n",
            "233/233 [==============================] - 8s 33ms/step - loss: 0.6295 - acc: 0.8714 - val_loss: 0.8429 - val_acc: 0.8540\n",
            "Epoch 28/50\n",
            "233/233 [==============================] - 8s 33ms/step - loss: 0.6113 - acc: 0.8738 - val_loss: 0.8359 - val_acc: 0.8540\n",
            "Epoch 29/50\n",
            "233/233 [==============================] - 8s 32ms/step - loss: 0.5952 - acc: 0.8755 - val_loss: 0.8299 - val_acc: 0.8548\n",
            "Epoch 30/50\n",
            "233/233 [==============================] - 8s 33ms/step - loss: 0.5786 - acc: 0.8776 - val_loss: 0.8221 - val_acc: 0.8559\n",
            "Epoch 31/50\n",
            "233/233 [==============================] - 8s 33ms/step - loss: 0.5624 - acc: 0.8798 - val_loss: 0.8181 - val_acc: 0.8560\n",
            "Epoch 32/50\n",
            "233/233 [==============================] - 8s 33ms/step - loss: 0.5477 - acc: 0.8817 - val_loss: 0.8119 - val_acc: 0.8569\n",
            "Epoch 33/50\n",
            "233/233 [==============================] - 8s 33ms/step - loss: 0.5338 - acc: 0.8839 - val_loss: 0.8073 - val_acc: 0.8585\n",
            "Epoch 34/50\n",
            "233/233 [==============================] - 8s 33ms/step - loss: 0.5195 - acc: 0.8859 - val_loss: 0.8010 - val_acc: 0.8584\n",
            "Epoch 35/50\n",
            "233/233 [==============================] - 8s 33ms/step - loss: 0.5054 - acc: 0.8880 - val_loss: 0.7963 - val_acc: 0.8598\n",
            "Epoch 36/50\n",
            "233/233 [==============================] - 8s 33ms/step - loss: 0.4918 - acc: 0.8900 - val_loss: 0.7930 - val_acc: 0.8612\n",
            "Epoch 37/50\n",
            "233/233 [==============================] - 8s 34ms/step - loss: 0.4796 - acc: 0.8923 - val_loss: 0.7889 - val_acc: 0.8615\n",
            "Epoch 38/50\n",
            "233/233 [==============================] - 8s 33ms/step - loss: 0.4670 - acc: 0.8941 - val_loss: 0.7861 - val_acc: 0.8620\n",
            "Epoch 39/50\n",
            "233/233 [==============================] - 8s 33ms/step - loss: 0.4558 - acc: 0.8958 - val_loss: 0.7821 - val_acc: 0.8627\n",
            "Epoch 40/50\n",
            "233/233 [==============================] - 8s 33ms/step - loss: 0.4436 - acc: 0.8978 - val_loss: 0.7807 - val_acc: 0.8635\n",
            "Epoch 41/50\n",
            "233/233 [==============================] - 8s 33ms/step - loss: 0.4335 - acc: 0.8997 - val_loss: 0.7780 - val_acc: 0.8637\n",
            "Epoch 42/50\n",
            "233/233 [==============================] - 8s 33ms/step - loss: 0.4224 - acc: 0.9016 - val_loss: 0.7780 - val_acc: 0.8636\n",
            "Epoch 43/50\n",
            "233/233 [==============================] - 8s 33ms/step - loss: 0.4135 - acc: 0.9030 - val_loss: 0.7726 - val_acc: 0.8648\n",
            "Epoch 44/50\n",
            "233/233 [==============================] - 8s 36ms/step - loss: 0.4017 - acc: 0.9055 - val_loss: 0.7706 - val_acc: 0.8657\n",
            "Epoch 45/50\n",
            "233/233 [==============================] - 8s 33ms/step - loss: 0.3925 - acc: 0.9072 - val_loss: 0.7715 - val_acc: 0.8653\n",
            "Epoch 46/50\n",
            "233/233 [==============================] - 8s 33ms/step - loss: 0.3837 - acc: 0.9086 - val_loss: 0.7686 - val_acc: 0.8663\n",
            "Epoch 47/50\n",
            "233/233 [==============================] - 8s 33ms/step - loss: 0.3741 - acc: 0.9107 - val_loss: 0.7660 - val_acc: 0.8670\n",
            "Epoch 48/50\n",
            "233/233 [==============================] - 8s 33ms/step - loss: 0.3652 - acc: 0.9124 - val_loss: 0.7658 - val_acc: 0.8670\n",
            "Epoch 49/50\n",
            "233/233 [==============================] - 8s 33ms/step - loss: 0.3568 - acc: 0.9142 - val_loss: 0.7625 - val_acc: 0.8674\n",
            "Epoch 50/50\n",
            "233/233 [==============================] - 8s 33ms/step - loss: 0.3489 - acc: 0.9156 - val_loss: 0.7616 - val_acc: 0.8680\n"
          ]
        },
        {
          "output_type": "execute_result",
          "data": {
            "text/plain": [
              "<keras.callbacks.History at 0x7fb01a646890>"
            ]
          },
          "metadata": {},
          "execution_count": 31
        }
      ]
    },
    {
      "cell_type": "code",
      "metadata": {
        "id": "WCeLHL7Eaw0g"
      },
      "source": [
        "# 인코더\n",
        "encoder_model = Model(encoder_inputs, encoder_states)"
      ],
      "execution_count": null,
      "outputs": []
    },
    {
      "cell_type": "code",
      "metadata": {
        "id": "9COCiea6ayBE"
      },
      "source": [
        "# 디코더 설계 시작\n",
        "# 이전 시점의 상태를 보관할 텐서\n",
        "decoder_state_input_h = Input(shape=(hidden_units,))\n",
        "decoder_state_input_c = Input(shape=(hidden_units,))\n",
        "decoder_states_inputs = [decoder_state_input_h, decoder_state_input_c]\n",
        "\n",
        "# 훈련 때 사용했던 임베딩 층을 재사용\n",
        "dec_emb2 = dec_emb_layer(decoder_inputs)\n",
        "\n",
        "# 다음 단어 예측을 위해 이전 시점의 상태를 현 시점의 초기 상태로 사용\n",
        "decoder_outputs2, state_h2, state_c2 = decoder_lstm(dec_emb2, initial_state=decoder_states_inputs)\n",
        "decoder_states2 = [state_h2, state_c2]\n",
        "\n",
        "# 모든 시점에 대해서 단어 예측\n",
        "decoder_outputs2 = decoder_dense(decoder_outputs2)"
      ],
      "execution_count": null,
      "outputs": []
    },
    {
      "cell_type": "code",
      "metadata": {
        "id": "CO3gY6QVa2yE"
      },
      "source": [
        "# 디코더\n",
        "decoder_model = Model(\n",
        "    [decoder_inputs] + decoder_states_inputs,\n",
        "    [decoder_outputs2] + decoder_states2)"
      ],
      "execution_count": null,
      "outputs": []
    },
    {
      "cell_type": "code",
      "metadata": {
        "id": "ga64fRPtKDZr"
      },
      "source": [
        "def decode_sequence(input_seq):\n",
        "  # 입력으로부터 인코더의 상태를 얻음\n",
        "  states_value = encoder_model.predict(input_seq)\n",
        "\n",
        "  # <SOS>에 해당하는 정수 생성\n",
        "  target_seq = np.zeros((1,1))\n",
        "  target_seq[0, 0] = tar_to_index['<sos>']\n",
        "\n",
        "  stop_condition = False\n",
        "  decoded_sentence = ''\n",
        "\n",
        "  # stop_condition이 True가 될 때까지 루프 반복\n",
        "  # 구현의 간소화를 위해서 이 함수는 배치 크기를 1로 가정합니다.\n",
        "  while not stop_condition:\n",
        "    # 이점 시점의 상태 states_value를 현 시점의 초기 상태로 사용\n",
        "    output_tokens, h, c = decoder_model.predict([target_seq] + states_value)\n",
        "\n",
        "    # 예측 결과를 단어로 변환\n",
        "    sampled_token_index = np.argmax(output_tokens[0, -1, :])\n",
        "    sampled_char = index_to_tar[sampled_token_index]\n",
        "\n",
        "    # 현재 시점의 예측 단어를 예측 문장에 추가\n",
        "    decoded_sentence += ' '+sampled_char\n",
        "\n",
        "    # <eos>에 도달하거나 정해진 길이를 넘으면 중단.\n",
        "    if (sampled_char == '<eos>' or\n",
        "        len(decoded_sentence) > 50):\n",
        "        stop_condition = True\n",
        "\n",
        "    # 현재 시점의 예측 결과를 다음 시점의 입력으로 사용하기 위해 저장\n",
        "    target_seq = np.zeros((1,1))\n",
        "    target_seq[0, 0] = sampled_token_index\n",
        "\n",
        "    # 현재 시점의 상태를 다음 시점의 상태로 사용하기 위해 저장\n",
        "    states_value = [h, c]\n",
        "\n",
        "  return decoded_sentence"
      ],
      "execution_count": null,
      "outputs": []
    },
    {
      "cell_type": "code",
      "metadata": {
        "id": "WJTnaYOfKEdz"
      },
      "source": [
        "# 원문의 정수 시퀀스를 텍스트 시퀀스로 변환\n",
        "def seq_to_src(input_seq):\n",
        "  sentence = ''\n",
        "  for encoded_word in input_seq:\n",
        "    if(encoded_word!=0):\n",
        "      sentence = sentence + index_to_src[encoded_word] + ' '\n",
        "  return sentence\n",
        "\n",
        "# 번역문의 정수 시퀀스를 텍스트 시퀀스로 변환\n",
        "def seq_to_tar(input_seq):\n",
        "  sentence = ''\n",
        "  for encoded_word in input_seq:\n",
        "    if(encoded_word!=0 and encoded_word!=tar_to_index['<sos>'] and encoded_word!=tar_to_index['<eos>']):\n",
        "      sentence = sentence + index_to_tar[encoded_word] + ' '\n",
        "  return sentence"
      ],
      "execution_count": null,
      "outputs": []
    },
    {
      "cell_type": "code",
      "metadata": {
        "id": "M1LBy-nMKFNr",
        "colab": {
          "base_uri": "https://localhost:8080/"
        },
        "outputId": "f0e3838c-2a64-4eb8-ac75-a2009881b5a7"
      },
      "source": [
        "for seq_index in [3,50,100,300,1001]:\n",
        "  input_seq = encoder_input_train[seq_index: seq_index + 1]\n",
        "  decoded_sentence = decode_sequence(input_seq)\n",
        "  \n",
        "  print(\"입력문장 :\",seq_to_src(encoder_input_train[seq_index]))\n",
        "  print(\"정답문장 :\",seq_to_tar(decoder_input_train[seq_index]))\n",
        "  print(\"번역문장 :\",decoded_sentence[1:-5])\n",
        "  print(\"-\"*50)"
      ],
      "execution_count": null,
      "outputs": [
        {
          "output_type": "stream",
          "name": "stdout",
          "text": [
            "입력문장 : when does it end ? \n",
            "정답문장 : quand est ce que ca finit ? \n",
            "번역문장 : quand est ce que ca marche ? \n",
            "--------------------------------------------------\n",
            "입력문장 : it s sand . \n",
            "정답문장 : c est du sable . \n",
            "번역문장 : c est de l eau . \n",
            "--------------------------------------------------\n",
            "입력문장 : i didn t go . \n",
            "정답문장 : je n y suis pas allee . \n",
            "번역문장 : je ne suis pas encore . \n",
            "--------------------------------------------------\n",
            "입력문장 : it was a mistake . \n",
            "정답문장 : ce fut une erreur . \n",
            "번역문장 : il s agit d une blague . \n",
            "--------------------------------------------------\n",
            "입력문장 : it boggles my mind . \n",
            "정답문장 : ca me laisse perplexe . \n",
            "번역문장 : ca m en femme . \n",
            "--------------------------------------------------\n"
          ]
        }
      ]
    },
    {
      "cell_type": "code",
      "metadata": {
        "colab": {
          "base_uri": "https://localhost:8080/"
        },
        "id": "jVYHVHiGcg9v",
        "outputId": "f7c174e2-76eb-46ec-dcc9-eb779854cabb"
      },
      "source": [
        "for seq_index in [3,50,100,300,1001]:\n",
        "  input_seq = encoder_input_test[seq_index: seq_index + 1]\n",
        "  decoded_sentence = decode_sequence(input_seq)\n",
        "  \n",
        "  print(\"입력문장 :\",seq_to_src(encoder_input_test[seq_index]))\n",
        "  print(\"정답문장 :\",seq_to_tar(decoder_input_test[seq_index]))\n",
        "  print(\"번역문장 :\",decoded_sentence[1:-5])\n",
        "  print(\"-\"*50)"
      ],
      "execution_count": null,
      "outputs": [
        {
          "output_type": "stream",
          "name": "stdout",
          "text": [
            "입력문장 : we are busy men . \n",
            "정답문장 : nous sommes des hommes occupes . \n",
            "번역문장 : nous sommes tres vieux . \n",
            "--------------------------------------------------\n",
            "입력문장 : it was very ugly . \n",
            "정답문장 : ce n etait vraiment pas beau a voir . \n",
            "번역문장 : c etait tres fort . \n",
            "--------------------------------------------------\n",
            "입력문장 : tom looks shocked . \n",
            "정답문장 : tom a l air choque . \n",
            "번역문장 : tom a l air bien . \n",
            "--------------------------------------------------\n",
            "입력문장 : cross the street . \n",
            "정답문장 : traversez la rue . \n",
            "번역문장 : la ? \n",
            "--------------------------------------------------\n",
            "입력문장 : you nearly died . \n",
            "정답문장 : tu es presque mort . \n",
            "번역문장 : tu es presque mort . \n",
            "--------------------------------------------------\n"
          ]
        }
      ]
    }
  ]
}